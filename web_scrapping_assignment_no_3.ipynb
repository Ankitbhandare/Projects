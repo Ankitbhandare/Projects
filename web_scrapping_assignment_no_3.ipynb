{
 "cells": [
  {
   "cell_type": "code",
   "execution_count": 1,
   "metadata": {},
   "outputs": [
    {
     "name": "stdout",
     "output_type": "stream",
     "text": [
      "Requirement already satisfied: selenium in c:\\users\\hp\\anaconda3\\lib\\site-packages (3.141.0)\n",
      "Requirement already satisfied: urllib3 in c:\\users\\hp\\anaconda3\\lib\\site-packages (from selenium) (1.25.9)\n"
     ]
    }
   ],
   "source": [
    "!pip install selenium  "
   ]
  },
  {
   "cell_type": "code",
   "execution_count": 1,
   "metadata": {},
   "outputs": [],
   "source": [
    "import selenium\n",
    "import pandas as pd\n",
    "from selenium import webdriver\n",
    "from selenium.common.exceptions import StaleElementReferenceException, NoSuchElementException"
   ]
  },
  {
   "cell_type": "markdown",
   "metadata": {},
   "source": [
    "# Q1) & Q2)"
   ]
  },
  {
   "cell_type": "code",
   "execution_count": 18,
   "metadata": {},
   "outputs": [],
   "source": [
    "driver=webdriver.Chrome(\"chromedriver.exe\")"
   ]
  },
  {
   "cell_type": "code",
   "execution_count": 19,
   "metadata": {},
   "outputs": [],
   "source": [
    "driver.get(\"https://www.amazon.in\")"
   ]
  },
  {
   "cell_type": "code",
   "execution_count": 20,
   "metadata": {},
   "outputs": [
    {
     "name": "stdout",
     "output_type": "stream",
     "text": [
      "Enter your value: phone\n",
      "phone\n"
     ]
    }
   ],
   "source": [
    "val = input(\"Enter your value: \") \n",
    "print(val) "
   ]
  },
  {
   "cell_type": "code",
   "execution_count": 21,
   "metadata": {},
   "outputs": [],
   "source": [
    "search=driver.find_element_by_xpath(\"//input[@id='twotabsearchtextbox']\")\n",
    "search.send_keys(val)"
   ]
  },
  {
   "cell_type": "code",
   "execution_count": 22,
   "metadata": {},
   "outputs": [],
   "source": [
    "button=driver.find_element_by_xpath(\"//input[@id='nav-search-submit-button']\")\n",
    "button.click()"
   ]
  },
  {
   "cell_type": "code",
   "execution_count": 23,
   "metadata": {},
   "outputs": [],
   "source": [
    "title=[]\n",
    "ratings=[]\n",
    "prices=[]\n",
    "no_of_rating=[]\n",
    "availability=[]\n",
    "link=[]"
   ]
  },
  {
   "cell_type": "code",
   "execution_count": 24,
   "metadata": {},
   "outputs": [
    {
     "data": {
      "text/plain": [
       "['Samsung Galaxy M02 (Red,3GB RAM, 32GB Storage)',\n",
       " 'Lava Z1 (2GBRAM, 16GB Storage) Denim Blue',\n",
       " 'Redmi 9A (Nature Green, 2GB Ram, 32GB Storage) | 2GHz Octa-core Helio G25 Processor',\n",
       " 'Redmi 9A (Nature Green, 3GB Ram, 32GB Storage) | 2GHz Octa-core Helio G25 Processor']"
      ]
     },
     "execution_count": 24,
     "metadata": {},
     "output_type": "execute_result"
    }
   ],
   "source": [
    "name=driver.find_elements_by_xpath(\"//h2[@class='a-size-mini a-spacing-none a-color-base s-line-clamp-2']//span\")\n",
    "for i in name:\n",
    "    if i.text is None :\n",
    "        title.append(\"--\") \n",
    "    else:\n",
    "        title.append(i.text)\n",
    "title[0:4]"
   ]
  },
  {
   "cell_type": "code",
   "execution_count": 25,
   "metadata": {},
   "outputs": [
    {
     "data": {
      "text/plain": [
       "['863', '21', '13,912', '13,912']"
      ]
     },
     "execution_count": 25,
     "metadata": {},
     "output_type": "execute_result"
    }
   ],
   "source": [
    "rate=driver.find_elements_by_xpath(\"//div[@class='a-row a-size-small']//span[2]\")\n",
    "for i in rate:\n",
    "     if i.text is None :\n",
    "        no_of_rating.append(\"--\") \n",
    "     else:\n",
    "        no_of_rating.append(i.text)\n",
    "no_of_rating[0:4]"
   ]
  },
  {
   "cell_type": "code",
   "execution_count": 26,
   "metadata": {},
   "outputs": [
    {
     "data": {
      "text/plain": [
       "['₹7,499', '₹4,999', '₹6,799', '₹7,499']"
      ]
     },
     "execution_count": 26,
     "metadata": {},
     "output_type": "execute_result"
    }
   ],
   "source": [
    "Review=driver.find_elements_by_xpath(\"//div[@class='a-row']//a//span[1]/span[2]\")\n",
    "Review[0:4]\n",
    "for i in Review:\n",
    "    Reviews=i.text\n",
    "    prices.append(Reviews)\n",
    "prices[0:4]"
   ]
  },
  {
   "cell_type": "code",
   "execution_count": 27,
   "metadata": {},
   "outputs": [
    {
     "data": {
      "text/plain": [
       "['Tomorrow, March 1', 'Tuesday, March 2', 'Today 9PM', 'Tomorrow, March 1']"
      ]
     },
     "execution_count": 27,
     "metadata": {},
     "output_type": "execute_result"
    }
   ],
   "source": [
    "a=driver.find_elements_by_xpath(\"//div[@class='a-row s-align-children-center']//span[2]/span[2]\")\n",
    "for i in a:\n",
    "    if i.text is None :\n",
    "        availability.append(\"--\") \n",
    "    else:\n",
    "        availability.append(i.text)\n",
    "availability[0:4]"
   ]
  },
  {
   "cell_type": "code",
   "execution_count": 28,
   "metadata": {},
   "outputs": [],
   "source": [
    "u=driver.find_elements_by_xpath(\"//a[@class='a-link-normal s-no-outline']\")\n",
    "for i in u:\n",
    "    link.append(i.get_attribute('href'))"
   ]
  },
  {
   "cell_type": "code",
   "execution_count": 29,
   "metadata": {},
   "outputs": [],
   "source": [
    "#locating Ratings\n",
    "urls=driver.find_elements_by_xpath(\"//a[@class='a-link-normal a-text-normal']\")#collecting urls of all the laptop\n",
    "UR=[]\n",
    "for i in urls[:10]:\n",
    "    UR.append(i.get_attribute('href'))#getting the url of first 10 laptops\n",
    "for url in UR:#loop for every laptop in the list\n",
    "    driver.get(url)\n",
    "    try:                  #exception handling for nosuchelementexception\n",
    "        rate=driver.find_element_by_xpath(\"//span[@id='acrCustomerReviewText']\")#locating the ratingd link\n",
    "        rate.click()                                                      #click the rating link found\n",
    "        rating=driver.find_element_by_xpath(\"//span[@class='a-size-medium a-color-base']\")#locating the rating\n",
    "        ratings.append(rating.text)#appending the ratings in Ratings list\n",
    "        \n",
    "    except NoSuchElementException   as e:\n",
    "        ratings.append(\"NO rating\")#appending the No rating if no rating is there"
   ]
  },
  {
   "cell_type": "code",
   "execution_count": 30,
   "metadata": {},
   "outputs": [
    {
     "data": {
      "text/plain": [
       "['3.7 out of 5',\n",
       " '3.5 out of 5',\n",
       " '4.1 out of 5',\n",
       " '4.1 out of 5',\n",
       " '4 out of 5',\n",
       " '4 out of 5',\n",
       " '4 out of 5',\n",
       " '2.8 out of 5',\n",
       " '4.1 out of 5',\n",
       " '4 out of 5']"
      ]
     },
     "execution_count": 30,
     "metadata": {},
     "output_type": "execute_result"
    }
   ],
   "source": [
    "ratings"
   ]
  },
  {
   "cell_type": "code",
   "execution_count": 31,
   "metadata": {},
   "outputs": [],
   "source": [
    "import pandas as pd\n",
    "df=pd.DataFrame({})\n",
    "df['Name']=title[0:10]\n",
    "df['Price']=prices[0:10]\n",
    "df['Rating']=ratings[0:10]\n",
    "df['No_of_Rating']=no_of_rating[0:10]\n",
    "df['Availability']=availability[0:10]\n",
    "df['Url']=link[0:10]"
   ]
  },
  {
   "cell_type": "code",
   "execution_count": 32,
   "metadata": {},
   "outputs": [],
   "source": [
    "df.to_csv('Product.csv', index = False)"
   ]
  },
  {
   "cell_type": "code",
   "execution_count": 33,
   "metadata": {},
   "outputs": [
    {
     "data": {
      "text/html": [
       "<div>\n",
       "<style scoped>\n",
       "    .dataframe tbody tr th:only-of-type {\n",
       "        vertical-align: middle;\n",
       "    }\n",
       "\n",
       "    .dataframe tbody tr th {\n",
       "        vertical-align: top;\n",
       "    }\n",
       "\n",
       "    .dataframe thead th {\n",
       "        text-align: right;\n",
       "    }\n",
       "</style>\n",
       "<table border=\"1\" class=\"dataframe\">\n",
       "  <thead>\n",
       "    <tr style=\"text-align: right;\">\n",
       "      <th></th>\n",
       "      <th>Name</th>\n",
       "      <th>Price</th>\n",
       "      <th>Rating</th>\n",
       "      <th>No_of_Rating</th>\n",
       "      <th>Availability</th>\n",
       "      <th>Url</th>\n",
       "    </tr>\n",
       "  </thead>\n",
       "  <tbody>\n",
       "    <tr>\n",
       "      <th>0</th>\n",
       "      <td>Samsung Galaxy M02 (Red,3GB RAM, 32GB Storage)</td>\n",
       "      <td>₹7,499</td>\n",
       "      <td>3.7 out of 5</td>\n",
       "      <td>863</td>\n",
       "      <td>Tomorrow, March 1</td>\n",
       "      <td>https://www.amazon.in/gp/slredirect/picassoRed...</td>\n",
       "    </tr>\n",
       "    <tr>\n",
       "      <th>1</th>\n",
       "      <td>Lava Z1 (2GBRAM, 16GB Storage) Denim Blue</td>\n",
       "      <td>₹4,999</td>\n",
       "      <td>3.5 out of 5</td>\n",
       "      <td>21</td>\n",
       "      <td>Tuesday, March 2</td>\n",
       "      <td>https://www.amazon.in/gp/slredirect/picassoRed...</td>\n",
       "    </tr>\n",
       "    <tr>\n",
       "      <th>2</th>\n",
       "      <td>Redmi 9A (Nature Green, 2GB Ram, 32GB Storage)...</td>\n",
       "      <td>₹6,799</td>\n",
       "      <td>4.1 out of 5</td>\n",
       "      <td>13,912</td>\n",
       "      <td>Today 9PM</td>\n",
       "      <td>https://www.amazon.in/Redmi-9A-2GB-32GB-Storag...</td>\n",
       "    </tr>\n",
       "    <tr>\n",
       "      <th>3</th>\n",
       "      <td>Redmi 9A (Nature Green, 3GB Ram, 32GB Storage)...</td>\n",
       "      <td>₹7,499</td>\n",
       "      <td>4.1 out of 5</td>\n",
       "      <td>13,912</td>\n",
       "      <td>Tomorrow, March 1</td>\n",
       "      <td>https://www.amazon.in/Redmi-9A-3GB-32GB-Storag...</td>\n",
       "    </tr>\n",
       "    <tr>\n",
       "      <th>4</th>\n",
       "      <td>Redmi 9 (Sky Blue, 4GB RAM, 64GB Storage)</td>\n",
       "      <td>₹8,799</td>\n",
       "      <td>4 out of 5</td>\n",
       "      <td>11,390</td>\n",
       "      <td>Tuesday, March 2</td>\n",
       "      <td>https://www.amazon.in/Redmi-Sky-Blue-64GB-Stor...</td>\n",
       "    </tr>\n",
       "    <tr>\n",
       "      <th>5</th>\n",
       "      <td>Redmi 9 (Carbon Black, 4GB RAM, 64GB Storage)</td>\n",
       "      <td>₹8,799</td>\n",
       "      <td>4 out of 5</td>\n",
       "      <td>11,390</td>\n",
       "      <td>Tuesday, March 2</td>\n",
       "      <td>https://www.amazon.in/Redmi-Carbon-Black-64GB-...</td>\n",
       "    </tr>\n",
       "    <tr>\n",
       "      <th>6</th>\n",
       "      <td>Oppo A31 (Fantasy White, 6GB RAM, 128GB Storag...</td>\n",
       "      <td>₹11,990</td>\n",
       "      <td>4 out of 5</td>\n",
       "      <td>3,009</td>\n",
       "      <td>Today 9PM</td>\n",
       "      <td>https://www.amazon.in/Oppo-Fantasy-Storage-Add...</td>\n",
       "    </tr>\n",
       "    <tr>\n",
       "      <th>7</th>\n",
       "      <td>Panasonic Eluga i7 (2GB RAM, 16GB Storage, Fin...</td>\n",
       "      <td>₹5,004</td>\n",
       "      <td>2.8 out of 5</td>\n",
       "      <td>1,337</td>\n",
       "      <td>Tuesday, March 2</td>\n",
       "      <td>https://www.amazon.in/Panasonic-Storage-Finger...</td>\n",
       "    </tr>\n",
       "    <tr>\n",
       "      <th>8</th>\n",
       "      <td>Redmi 9A (Sea Blue, 2GB Ram, 32GB Storage) | 2...</td>\n",
       "      <td>₹6,799</td>\n",
       "      <td>4.1 out of 5</td>\n",
       "      <td>13,912</td>\n",
       "      <td>Saturday, March 6</td>\n",
       "      <td>https://www.amazon.in/Redmi-9A-2GB-32GB-Storag...</td>\n",
       "    </tr>\n",
       "    <tr>\n",
       "      <th>9</th>\n",
       "      <td>Nokia 105 Single SIM (Black)</td>\n",
       "      <td>₹1,131</td>\n",
       "      <td>4 out of 5</td>\n",
       "      <td>14,529</td>\n",
       "      <td>Today 9PM</td>\n",
       "      <td>https://www.amazon.in/Nokia-105-2019-Single-Bl...</td>\n",
       "    </tr>\n",
       "  </tbody>\n",
       "</table>\n",
       "</div>"
      ],
      "text/plain": [
       "                                                Name    Price        Rating  \\\n",
       "0     Samsung Galaxy M02 (Red,3GB RAM, 32GB Storage)   ₹7,499  3.7 out of 5   \n",
       "1          Lava Z1 (2GBRAM, 16GB Storage) Denim Blue   ₹4,999  3.5 out of 5   \n",
       "2  Redmi 9A (Nature Green, 2GB Ram, 32GB Storage)...   ₹6,799  4.1 out of 5   \n",
       "3  Redmi 9A (Nature Green, 3GB Ram, 32GB Storage)...   ₹7,499  4.1 out of 5   \n",
       "4          Redmi 9 (Sky Blue, 4GB RAM, 64GB Storage)   ₹8,799    4 out of 5   \n",
       "5      Redmi 9 (Carbon Black, 4GB RAM, 64GB Storage)   ₹8,799    4 out of 5   \n",
       "6  Oppo A31 (Fantasy White, 6GB RAM, 128GB Storag...  ₹11,990    4 out of 5   \n",
       "7  Panasonic Eluga i7 (2GB RAM, 16GB Storage, Fin...   ₹5,004  2.8 out of 5   \n",
       "8  Redmi 9A (Sea Blue, 2GB Ram, 32GB Storage) | 2...   ₹6,799  4.1 out of 5   \n",
       "9                       Nokia 105 Single SIM (Black)   ₹1,131    4 out of 5   \n",
       "\n",
       "  No_of_Rating       Availability  \\\n",
       "0          863  Tomorrow, March 1   \n",
       "1           21   Tuesday, March 2   \n",
       "2       13,912          Today 9PM   \n",
       "3       13,912  Tomorrow, March 1   \n",
       "4       11,390   Tuesday, March 2   \n",
       "5       11,390   Tuesday, March 2   \n",
       "6        3,009          Today 9PM   \n",
       "7        1,337   Tuesday, March 2   \n",
       "8       13,912  Saturday, March 6   \n",
       "9       14,529          Today 9PM   \n",
       "\n",
       "                                                 Url  \n",
       "0  https://www.amazon.in/gp/slredirect/picassoRed...  \n",
       "1  https://www.amazon.in/gp/slredirect/picassoRed...  \n",
       "2  https://www.amazon.in/Redmi-9A-2GB-32GB-Storag...  \n",
       "3  https://www.amazon.in/Redmi-9A-3GB-32GB-Storag...  \n",
       "4  https://www.amazon.in/Redmi-Sky-Blue-64GB-Stor...  \n",
       "5  https://www.amazon.in/Redmi-Carbon-Black-64GB-...  \n",
       "6  https://www.amazon.in/Oppo-Fantasy-Storage-Add...  \n",
       "7  https://www.amazon.in/Panasonic-Storage-Finger...  \n",
       "8  https://www.amazon.in/Redmi-9A-2GB-32GB-Storag...  \n",
       "9  https://www.amazon.in/Nokia-105-2019-Single-Bl...  "
      ]
     },
     "execution_count": 33,
     "metadata": {},
     "output_type": "execute_result"
    }
   ],
   "source": [
    "df"
   ]
  },
  {
   "cell_type": "code",
   "execution_count": null,
   "metadata": {},
   "outputs": [],
   "source": []
  },
  {
   "cell_type": "markdown",
   "metadata": {},
   "source": [
    "# Q3)"
   ]
  },
  {
   "cell_type": "code",
   "execution_count": 29,
   "metadata": {},
   "outputs": [],
   "source": [
    "driver=webdriver.Chrome(\"chromedriver.exe\")"
   ]
  },
  {
   "cell_type": "code",
   "execution_count": 30,
   "metadata": {},
   "outputs": [],
   "source": [
    "driver.get(\"https://images.google.com/\")"
   ]
  },
  {
   "cell_type": "code",
   "execution_count": 31,
   "metadata": {},
   "outputs": [
    {
     "name": "stdout",
     "output_type": "stream",
     "text": [
      "Enter your value: fruits\n",
      "fruits\n"
     ]
    }
   ],
   "source": [
    "val = input(\"Enter your value: \") \n",
    "print(val) "
   ]
  },
  {
   "cell_type": "code",
   "execution_count": 32,
   "metadata": {},
   "outputs": [],
   "source": [
    "fruits=[]"
   ]
  },
  {
   "cell_type": "code",
   "execution_count": 33,
   "metadata": {},
   "outputs": [],
   "source": [
    "search=driver.find_element_by_xpath(\"//input[@class='gLFyf gsfi']\")\n",
    "search.send_keys(val)"
   ]
  },
  {
   "cell_type": "code",
   "execution_count": 34,
   "metadata": {},
   "outputs": [],
   "source": [
    "button=driver.find_element_by_xpath(\"//button[@class='Tg7LZd']\")\n",
    "button.click()"
   ]
  },
  {
   "cell_type": "code",
   "execution_count": 37,
   "metadata": {},
   "outputs": [],
   "source": [
    "images = driver.find_elements_by_tag_name('img')\n",
    "for i in images:\n",
    "    fruits.append(i.get_attribute('src'))"
   ]
  },
  {
   "cell_type": "code",
   "execution_count": 38,
   "metadata": {},
   "outputs": [],
   "source": [
    "button=driver.find_element_by_xpath(\"//input[@class='mye4qd']\")\n",
    "button.click()"
   ]
  },
  {
   "cell_type": "code",
   "execution_count": 39,
   "metadata": {},
   "outputs": [],
   "source": [
    "images = driver.find_elements_by_tag_name('img')\n",
    "for i in images:\n",
    "    fruits.append(i.get_attribute('src'))"
   ]
  },
  {
   "cell_type": "code",
   "execution_count": 40,
   "metadata": {},
   "outputs": [
    {
     "data": {
      "text/plain": [
       "['data:image/jpeg;base64,/9j/4AAQSkZJRgABAQAAAQABAAD/2wCEAAkGBwgHBgkIBwgKCgkLDRYPDQwMDRsUFRAWIB0iIiAdHx8kKDQsJCYxJx8fLT0tMTU3Ojo6Iys/RD84QzQ5OjcBCgoKDQwNGg8PGjclHyU3Nzc3Nzc3Nzc3Nzc3Nzc3Nzc3Nzc3Nzc3Nzc3Nzc3Nzc3Nzc3Nzc3Nzc3Nzc3Nzc3N//AABEIAGQAZAMBIgACEQEDEQH/xAAcAAACAgMBAQAAAAAAAAAAAAAAAQUGAgMHBAj/xAAxEAACAQMBBgQFAwUAAAAAAAAAAQIDBBEFBhIhMUFREyKBkQcUMmFxQsHRI1KS4fD/xAAaAQEBAQADAQAAAAAAAAAAAAAAAQQDBQYC/8QAIxEBAAICAQQBBQAAAAAAAAAAAAECAxEhBBIxUQUTFCMygf/aAAwDAQACEQMRAD8A7OMB4KhDwAwEAwAQDABAMQCAYgEAABmAAQADHgBBgYNpc2l+QFgCJ1PX6Onavp+mStritWvm9yVGKaglzcuPL7kusMkWifCzEwxAywJn0jEBiAQDABmSENEQABD7Vag7DTGqUsVq8vDg107v2JM6jbkxY5y3ilfMvBr+0vgynbWHGcfqq9vwUPUdfu6UpVbmlceVtxqVG8N/n9i0WFezdv5op4eHk811rGj283u03Nx/tk+f24mS8zePL0WDFXDHZSnPtV9C1W51nUatwqznWpW8adKcn5YqUm5S9FFf5EjdbR3ujtSVSVVrquGf+9CN1bXrerJfLx3cPh1IK4vK11VcX584bfQ+KRNfEt+Ppaa3lj+OpbJ/EKy1a4p2N6pW11U4U3P6aj7J9y8M+Zb+xlCi61KpJ1YPfeOHsd3+Hus1Nc2WtLq4ebiK8Oq+8l19TVjvviXQ/JdHjxfkxeFhYDYjldSQABRkNGI0QMpvxBlKUaUF+mDkvf8A0XLJVtubZ1LelVSyllP9jjy81bPj7xTqKzLkd5q1zbxmuSfBkJU1KtKEt6Xmb5li1G3i97yrtghKljSllKGOL5GTT18549IqdzOUfqeSZsK2aEF+pcGsHllZRjLglJHssrfwYtvmyw4r37oeyK36e60n04nVPhVbfKbPSpdFNHLKLTqKPLj3O2bIWnyeg26axKot9nNi/Z0/yc9uLt9ymWIbEaHQkwBgAwEMANV5bQvLadCqvLJezNoZCxOuYcj2i0qpaXM4Tj1KxcUvDclwx3OzbS2VK/tZKaaqRXlmkcR1+/nZV50ri2r0pxbWZU20/umjLekxPD0PS9ZXJXVp1JSnGOcpe55q97Cmmt5ELW1dVZYp7/on/BssLO81OuoUae4pPjOrmKR89stn3GGsc2hadh7Spru0NOjjFtS/qVpdFHPL15He4V6aioxwklhLsc72W0y10TTY0LWe/Ul5qtbk5y/jsidpXVSLXmZppXUPP9d1P18nHiFq8VPqG+RFvcSkj2wm2jk0wvXvAaVIAbbx5MR5IGDFkTYGurTU1xIq+0W1u1itRhL8ol2xBdqZX2J02Tco0Ixf2RoWxlvB5g5IvLimYuCJpe+ys2ehK3SSlJokaWnRj0JTdRkolSZ28lO2UehvjDBtwGCowwBlgANg0ICBiYABiAAANiAAAYAAAAFCAAA//9k=',\n",
       " 'data:image/jpeg;base64,/9j/4AAQSkZJRgABAQAAAQABAAD/2wCEAAkGBwgHBgkIBwgKCgkLDRYPDQwMDRsUFRAWIB0iIiAdHx8kKDQsJCYxJx8fLT0tMTU3Ojo6Iys/RD84QzQ5OjcBCgoKDQwNGg8PGjclHyU3Nzc3Nzc3Nzc3Nzc3Nzc3Nzc3Nzc3Nzc3Nzc3Nzc3Nzc3Nzc3Nzc3Nzc3Nzc3Nzc3N//AABEIAGQAZAMBIgACEQEDEQH/xAAcAAACAgMBAQAAAAAAAAAAAAAABQQGAQIDBwj/xAA9EAACAQMCAwYEAwYDCQAAAAABAgMABBESIQUxUQYTIkFhkRQycYFSocEHI1OSsdEVQvAzNENiY3Ki4fH/xAAaAQACAwEBAAAAAAAAAAAAAAAABQIDBAEG/8QAKBEAAgIBBAEDAwUAAAAAAAAAAQIAAxEEEiExQQUTUSJxkRQVYaGx/9oADAMBAAIRAxEAPwD3BeQpbZ8Sd4g80fh21MuxXPLI6YI3z5/WpV5I8Vo8sRAZAG3Gdhz/ACzSjRdxapYWSRUXLJ3WlguSdBGTy8juRnkc0Qj9WDKGUgg8iDzrNJeH8QgV9Rfu453cojeTDB2HrnO222fPJYfHwf8AU+8T/wBqiXUdmElUVpHLHKuqN1Ycsg1vUswhWkjiNdR5VvS/idwUBSNyCFLEgZ38h06+2+1EJluK20bhZ5YowxwCZRsc43HMVtd8Rjt+6RNMs0zhIo1cZbqfoBkk+lee8b47NDdaIW7tJUDGTWTIw8snn5k48s+marsFxfNciTh928ZUkllkIOcYzuD6+9ZW1aK22NqvSLrKxZnAM9wzWa8m4D224hZ36RcRuGubfWFkMmMqvInOPLn9q9ZHKrarVtGVmTV6O3SOFs8znJzook50VbMk2Ayu4ztSUrLbBoQGFwsRVCQziVBsOWeoz0Pod3a/KKW8f0/4ewZVOp1XJHLJwSOhxneoWOEQsfE6Bk4imyurOMgw47ybBMrLu5wNif05UwaVV2J8WNwByqrXbk3bxtgrNGDGq7DUhJxt5lTkf9tOLPLoDq7w5xqPM+v32rxepdwvud5/qbNu1tpjA+MiSFtEo5Njn6HqKZWNx8TAHK6WBKsvRgcGlUYWJCzNpUbsWOABXbhUx725eNGaGTQ8ZAPjbGGIzjbAXfkd96Zei32s5VusSm1QBG2RSi/4fePa3Hd3CtK6nBMeDnG2PFge1c+IXSQXyXKtJG0YCypoLGRc8gBnlnOR1FOIZY54hJC4dG5MpyDXo8gnEpHHM8o4nJ3sPxF3bxmRVwOoGcYPQjcfalFk0zT6LSMs8nJVGo77favVuL9nLbiErSo5gkYeLSMhj1I6/f3pHJwSXsyv+IW8Hx0aArLDAmJFU7613OSMcuhPSl12mszuE9HpvVa0o2AfV4HiJE7HIsYN/drCZvD8mo7/AJZq/Q3dwsBfvIZURc62yucDrvVSk7adnp4cuLptjhe7AP0znH51rHe8Q7Rynh3D4VtrBlxLL8xCn2H2/MismnOo93A4ExaldVf9V4wB88fiX2KQXEMUyA6ZEDDI8jvRQkaQxxxRjCIoVR0A2op9FE7L8oqFxaxa/txEswiw2rJXUDsfLI61NXkKzUXRXUq3RnQSDkSiXfB7pT3VzBNscpLboz7jkwwDg/Ue4ptwjhN3KplvZHgcKqp3Xh1AZ8RQ5AJyNvSrLRWKr02ivIxkfBltl72YJi1ODwa1e5klumU5AmYac+R0qAufUitlk7zvH0I0eo6mfy6YHn+W+a68QuhbLECMmaTu1OcAHSTz+3viuPD57VQYgiwyRrnSzZ8I8wx5j+nnWhPZrb21wD8Srk8xLxIs19FageFIO8lOebMxx9vCcfSpvAJO5uHti20id4o9VIDf1WoUUjXEj3U3z3J1KpG6JyVfbc+paiSKQrHJFL3U0T6kkAzg9CPMEbEf2zSE6pU1pt8dSfYAEtdFQeFX/wAZCRIndzxnEsec4PkQfMHyP6g1Or0aOHUMOpX1Et32V4DeXT3Vzwq2eZzlm0Y1HqcczTW2toLWJYraGOKMclRQAK60V3Aki7EYJnOTnWKzJzorsjN15CsO6oMsQBkDJ6k4Fcbq4+FtjLoZwNI0rz3IG3vUPiE0N3BHHHKhSRjqx5AA8+m+miEaUUo4bxFxohvGTJYxh85w4x4SfXIIPn9ebeiEhcXszfWEkKECX5oyfJhypHYNFxKwBvY0dhswI2ORz9Dg7/erQaqTRDhd9cW0h0QzFjGxOAASSD9Bq0+mF60s9RqJAde5JDgyU9sJCRazYdBtHKxI9+Y+u/0qN3+nVHJ+7dSNaNjK/wDr1qTDaSJKWZlJzscEbdMe/wBq040hKQYDNcFtAVManXmRj05//aSlS4KkfV/stAAORO3BZDJxIMgwjQvnq2GXGfplverDS3hNoYIw7x922nSqnGVH2+g9qY16LQ1tXQqv3K3ILcTNFLrniWBOtuneNFhWby1E4AHU5+3lmpVlI0lnA8hyzRqWJ8zjetchN5OdFEnOsUQml3D8RatHtkgEZGRkbj8wKQFUEUMriIxqoK6GPeRKSCQu2WH/AC/12FWZflFQ7iykMhktbhoC3zLjKk9cZ50QlI4rx6z4bExkGu4nh8AgUeNTkLIT5Y8X35bAVyP7TblpcxcHTuM41NcHJ/8AHFUvtfctLcR3AmUPcIZnz5ZYgDA89jjOKqj3TwuJHTUCSAzDOSPLp5j3q0BR3GdenpWsM/M+hey/bCx7QyyQRo9vcxjJjcghh1Ujn+Rp3eWVvexd1cxB1zkeRU9QRuD9K8P7Mx3V+0FzYW8uuFwwmUaSu+4BH+utex2PGIZbePv9YlCgSaUJAbG/KoXCteMzFYgzlZxPZ9kXu7bid7DF/DBQgfTw5X7Gp1tZWfDYndERPDmSVsAkDzJ6c/SpUMsc0YeJw6HkQaQdsrlora3hViveSamx5hcHB+5HtWZlrqU2AdSFaF3CDzNrvtNDCGaKLUi/5nbTn1AwfzxSo9s4Ll1hnjaCNs6pYXLZwNhsARvjcZ/UL7zLWrxj5nXBbGc1Xe5eOTuE8ZA54xpNJv3S0tx+I+o9LodTuM9KKL3ZnhKrbsqi2RBu5xsQNuu3l5mtuGS3NzJbxkqkMKBysewK4KqOpGxPlnFVXs8zJEYbiTYACMMuUOonUpODtsPI1eeGRRxwEo6SMxy7oAAT0x5AcgKdUXragYRHdV7Tlc5x5kiTnWKzJzrFXSqdF5Cg8q5LcQYH76P+YVn4iD+NH/MKITwv9ovCZuGcfkDhktZT3kLOfCckkqp9CSceWaq/CIrW843ZWd+7/ASTqJBHkHB9eY8t+lfSt7Fw+/t2t71ba4hbnHLpYexpRH2V7KxTrOnDOHiVTkNgHB61InImz9XlNpEScTgWG1S3sAkdqijRBCq4PPmORGMUqF4OFYubthaR9G5ucYAUD/W1M+Jfs+s5pmfhnaG/4fG3/AjuSUHXG45+ua5cM/ZjwGC4+I4pxCXiMm20kgQH64Oo+9LjoNzZZ+PtLV1Var1zGv7Pr+Xi6X/EFR0spJFSDUPnKjDN79P0pt2p4a/ELAdyCZYm1AAbkeePyPrjHnTC2+DtYEgtzBFDGoVEQgBR0Arr8RB/Fj/mFbWRSuzHHUxe4d+9e559GxaP8TfLnfGRsRUY3CQx65E0sdtXRs8s+3L9av8Ac2vC7qTvLiK0kkxjWwUt786V8Q7M8EvIljRltgpz+4cDV9R5/XnsOlJ39J7KmMV16OQLBgfxKal1bHwQvJO7clU5boduX3q8dlJJZre4d1ITWFQE5xgDI+x296j2HZnhNof941j8OsAH675p/FJaxRqkbwoijAVSAAKv0ehaltxlWr1FLjbXn7mbyc6xXN7iDP8Ato/5hRTOL58ocC4LacStZHmDIySFQY8csKfMHrT6x7HcKkMolEzfh8QGnxAbYHr55ooq4iRkHtR2W4dwbhqT2/eySNKUzKQcD7AdPzPpiqd2n4F9qKKAIQ7tPwL7Ud2n4F9qKK7iEO7T8C+1Hdp+BfaiijEJgxpj5F9qlrZQm7WHHhJG+BncZoormJ2RmiQRq2hclSeQ6kfpTz/AbTQG1Scgf8v9qKK4YRPdW0UNw8aqCFOASBRRRUsTk//Z',\n",
       " 'data:image/jpeg;base64,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',\n",
       " 'data:image/jpeg;base64,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']"
      ]
     },
     "execution_count": 40,
     "metadata": {},
     "output_type": "execute_result"
    }
   ],
   "source": [
    "fruits[0:4]"
   ]
  },
  {
   "cell_type": "code",
   "execution_count": null,
   "metadata": {},
   "outputs": [],
   "source": []
  },
  {
   "cell_type": "markdown",
   "metadata": {},
   "source": [
    "# Q7)"
   ]
  },
  {
   "cell_type": "code",
   "execution_count": 104,
   "metadata": {},
   "outputs": [],
   "source": [
    "driver=webdriver.Chrome(\"chromedriver.exe\")\n",
    "driver.get(\"https://www.digit.in/top-products/top-10-pc-games-7.html\")\n",
    "names=[]\n",
    "detail=[]"
   ]
  },
  {
   "cell_type": "code",
   "execution_count": 113,
   "metadata": {},
   "outputs": [
    {
     "data": {
      "text/plain": [
       "['THE WITCHER 3',\n",
       " 'GRAND THEFT AUTO V',\n",
       " 'RED DEAD REDEMPTION 2',\n",
       " 'THE ELDER SCROLLS V: SKYRIM']"
      ]
     },
     "execution_count": 113,
     "metadata": {},
     "output_type": "execute_result"
    }
   ],
   "source": [
    "name=driver.find_elements_by_xpath(\"//div[@class='TopNumbeHeading active sticky-footer']/h3\")\n",
    "for i in name:\n",
    "    if i.text is None :\n",
    "        names.append(\"--\") \n",
    "    else:\n",
    "        names.append(i.text)\n",
    "names[0:4]"
   ]
  },
  {
   "cell_type": "code",
   "execution_count": 106,
   "metadata": {},
   "outputs": [],
   "source": [
    "name=driver.find_elements_by_xpath(\"//div[@class='Section-center']//p\")\n",
    "for i in name:\n",
    "    if i.text is None :\n",
    "        detail.append(\"--\") \n",
    "    else:\n",
    "        detail.append(i.text)"
   ]
  },
  {
   "cell_type": "code",
   "execution_count": 114,
   "metadata": {},
   "outputs": [
    {
     "data": {
      "text/html": [
       "<div>\n",
       "<style scoped>\n",
       "    .dataframe tbody tr th:only-of-type {\n",
       "        vertical-align: middle;\n",
       "    }\n",
       "\n",
       "    .dataframe tbody tr th {\n",
       "        vertical-align: top;\n",
       "    }\n",
       "\n",
       "    .dataframe thead th {\n",
       "        text-align: right;\n",
       "    }\n",
       "</style>\n",
       "<table border=\"1\" class=\"dataframe\">\n",
       "  <thead>\n",
       "    <tr style=\"text-align: right;\">\n",
       "      <th></th>\n",
       "      <th>Name</th>\n",
       "      <th>Detail</th>\n",
       "    </tr>\n",
       "  </thead>\n",
       "  <tbody>\n",
       "    <tr>\n",
       "      <th>0</th>\n",
       "      <td>THE WITCHER 3</td>\n",
       "      <td>The Witcher 3 is considered to be one of the f...</td>\n",
       "    </tr>\n",
       "    <tr>\n",
       "      <th>1</th>\n",
       "      <td>GRAND THEFT AUTO V</td>\n",
       "      <td>The Grand Theft Auto series is a legend in gam...</td>\n",
       "    </tr>\n",
       "    <tr>\n",
       "      <th>2</th>\n",
       "      <td>RED DEAD REDEMPTION 2</td>\n",
       "      <td>Like it’s GTA brethren, Red Dead Redemption 2 ...</td>\n",
       "    </tr>\n",
       "    <tr>\n",
       "      <th>3</th>\n",
       "      <td>THE ELDER SCROLLS V: SKYRIM</td>\n",
       "      <td>Bethesda is known for its massive RPG’s and El...</td>\n",
       "    </tr>\n",
       "    <tr>\n",
       "      <th>4</th>\n",
       "      <td>DOOM: ETERNAL</td>\n",
       "      <td>Doom: Eternal takes the insane FPS action of D...</td>\n",
       "    </tr>\n",
       "    <tr>\n",
       "      <th>5</th>\n",
       "      <td>FORZA HORIZON 4</td>\n",
       "      <td>Forza Horizon 4 is a gorgeous racing game that...</td>\n",
       "    </tr>\n",
       "    <tr>\n",
       "      <th>6</th>\n",
       "      <td>ASSASSIN’S CREED: ODYSSEY</td>\n",
       "      <td>Assassin’s Creed: Odyssey continues the title’...</td>\n",
       "    </tr>\n",
       "    <tr>\n",
       "      <th>7</th>\n",
       "      <td>MINECRAFT</td>\n",
       "      <td>Minecraft took the world by storm. It offered ...</td>\n",
       "    </tr>\n",
       "    <tr>\n",
       "      <th>8</th>\n",
       "      <td>CALL OF DUTY: WARZONE</td>\n",
       "      <td>Call of Duty: Warzone is a free game from Acti...</td>\n",
       "    </tr>\n",
       "    <tr>\n",
       "      <th>9</th>\n",
       "      <td>ORI AND THE WILL OF THE WISPS</td>\n",
       "      <td>Ori and the Will of the Wisps is a sequel to t...</td>\n",
       "    </tr>\n",
       "  </tbody>\n",
       "</table>\n",
       "</div>"
      ],
      "text/plain": [
       "                            Name  \\\n",
       "0                  THE WITCHER 3   \n",
       "1             GRAND THEFT AUTO V   \n",
       "2          RED DEAD REDEMPTION 2   \n",
       "3    THE ELDER SCROLLS V: SKYRIM   \n",
       "4                  DOOM: ETERNAL   \n",
       "5                FORZA HORIZON 4   \n",
       "6      ASSASSIN’S CREED: ODYSSEY   \n",
       "7                      MINECRAFT   \n",
       "8          CALL OF DUTY: WARZONE   \n",
       "9  ORI AND THE WILL OF THE WISPS   \n",
       "\n",
       "                                              Detail  \n",
       "0  The Witcher 3 is considered to be one of the f...  \n",
       "1  The Grand Theft Auto series is a legend in gam...  \n",
       "2  Like it’s GTA brethren, Red Dead Redemption 2 ...  \n",
       "3  Bethesda is known for its massive RPG’s and El...  \n",
       "4  Doom: Eternal takes the insane FPS action of D...  \n",
       "5  Forza Horizon 4 is a gorgeous racing game that...  \n",
       "6  Assassin’s Creed: Odyssey continues the title’...  \n",
       "7  Minecraft took the world by storm. It offered ...  \n",
       "8  Call of Duty: Warzone is a free game from Acti...  \n",
       "9  Ori and the Will of the Wisps is a sequel to t...  "
      ]
     },
     "execution_count": 114,
     "metadata": {},
     "output_type": "execute_result"
    }
   ],
   "source": [
    "import pandas as pd\n",
    "df=pd.DataFrame({})\n",
    "df['Name']=names[0:10]\n",
    "df['Detail']=detail[0:10]\n",
    "df"
   ]
  },
  {
   "cell_type": "markdown",
   "metadata": {},
   "source": [
    "# Q6)"
   ]
  },
  {
   "cell_type": "code",
   "execution_count": 115,
   "metadata": {},
   "outputs": [],
   "source": [
    "driver=webdriver.Chrome(\"chromedriver.exe\")"
   ]
  },
  {
   "cell_type": "code",
   "execution_count": 116,
   "metadata": {},
   "outputs": [],
   "source": [
    "driver.get(\"https://trak.in/india-startup-funding-investment-2015/\")"
   ]
  },
  {
   "cell_type": "code",
   "execution_count": 117,
   "metadata": {},
   "outputs": [],
   "source": [
    "Date=[]\n",
    "startup_name=[]\n",
    "industry=[]\n",
    "industry_types=[]\n",
    "city=[]\n",
    "investor=[]\n",
    "investor_type=[]\n",
    "amount=[]"
   ]
  },
  {
   "cell_type": "code",
   "execution_count": 119,
   "metadata": {},
   "outputs": [
    {
     "data": {
      "text/plain": [
       "['15/01/2021', '28/01/2021', '19/01/2021', '19/01/2021']"
      ]
     },
     "execution_count": 119,
     "metadata": {},
     "output_type": "execute_result"
    }
   ],
   "source": [
    "name=driver.find_elements_by_xpath(\"//td[@class='column-2']\")\n",
    "for i in name:\n",
    "    if i.text is None :\n",
    "        Date.append(\"--\") \n",
    "    else:\n",
    "        Date.append(i.text)\n",
    "Date[0:4]"
   ]
  },
  {
   "cell_type": "code",
   "execution_count": 120,
   "metadata": {},
   "outputs": [
    {
     "data": {
      "text/plain": [
       "['Digit Insurance', 'Bombay Shaving Company', 'DeHaat', 'Darwinbox']"
      ]
     },
     "execution_count": 120,
     "metadata": {},
     "output_type": "execute_result"
    }
   ],
   "source": [
    "name=driver.find_elements_by_xpath(\"//td[@class='column-3']\")\n",
    "for i in name:\n",
    "    if i.text is None :\n",
    "        startup_name.append(\"--\") \n",
    "    else:\n",
    "        startup_name.append(i.text)\n",
    "startup_name[0:4]"
   ]
  },
  {
   "cell_type": "code",
   "execution_count": 121,
   "metadata": {},
   "outputs": [
    {
     "data": {
      "text/plain": [
       "['Financial Services', 'Consumer Goods Company', 'AgriTech Startup', 'SaaS']"
      ]
     },
     "execution_count": 121,
     "metadata": {},
     "output_type": "execute_result"
    }
   ],
   "source": [
    "name=driver.find_elements_by_xpath(\"//td[@class='column-4']\")\n",
    "for i in name:\n",
    "    if i.text is None :\n",
    "        industry.append(\"--\") \n",
    "    else:\n",
    "        industry.append(i.text)\n",
    "industry[0:4]"
   ]
  },
  {
   "cell_type": "code",
   "execution_count": 122,
   "metadata": {},
   "outputs": [
    {
     "data": {
      "text/plain": [
       "['Insurance Services',\n",
       " 'Shave care, beard care, and skincare products',\n",
       " 'online marketplace for farm products and services',\n",
       " 'HR Tech']"
      ]
     },
     "execution_count": 122,
     "metadata": {},
     "output_type": "execute_result"
    }
   ],
   "source": [
    "name=driver.find_elements_by_xpath(\"//td[@class='column-5']\")\n",
    "for i in name:\n",
    "    if i.text is None :\n",
    "        industry_types.append(\"--\") \n",
    "    else:\n",
    "        industry_types.append(i.text)\n",
    "industry_types[0:4]"
   ]
  },
  {
   "cell_type": "code",
   "execution_count": 123,
   "metadata": {},
   "outputs": [
    {
     "data": {
      "text/plain": [
       "['Bengaluru', 'New Delhi', 'Patna', 'Mumbai']"
      ]
     },
     "execution_count": 123,
     "metadata": {},
     "output_type": "execute_result"
    }
   ],
   "source": [
    "name=driver.find_elements_by_xpath(\"//td[@class='column-6']\")\n",
    "for i in name:\n",
    "    if i.text is None :\n",
    "        city.append(\"--\") \n",
    "    else:\n",
    "        city.append(i.text)\n",
    "city[0:4]"
   ]
  },
  {
   "cell_type": "code",
   "execution_count": 124,
   "metadata": {},
   "outputs": [
    {
     "data": {
      "text/plain": [
       "['A91 Partners, Faering Capital, TVS Capital Funds',\n",
       " 'Reckitt Benckiser',\n",
       " 'Prosus Ventures',\n",
       " 'Salesforce Ventures']"
      ]
     },
     "execution_count": 124,
     "metadata": {},
     "output_type": "execute_result"
    }
   ],
   "source": [
    "name=driver.find_elements_by_xpath(\"//td[@class='column-7']\")\n",
    "for i in name:\n",
    "    if i.text is None :\n",
    "        investor.append(\"--\") \n",
    "    else:\n",
    "        investor.append(i.text)\n",
    "investor[0:4]"
   ]
  },
  {
   "cell_type": "code",
   "execution_count": 125,
   "metadata": {},
   "outputs": [
    {
     "data": {
      "text/plain": [
       "['Venture', 'Venture', 'Series C', 'Seed']"
      ]
     },
     "execution_count": 125,
     "metadata": {},
     "output_type": "execute_result"
    }
   ],
   "source": [
    "name=driver.find_elements_by_xpath(\"//td[@class='column-8']\")\n",
    "for i in name:\n",
    "    if i.text is None :\n",
    "        investor_type.append(\"--\") \n",
    "    else:\n",
    "        investor_type.append(i.text)\n",
    "investor_type[0:4]"
   ]
  },
  {
   "cell_type": "code",
   "execution_count": 126,
   "metadata": {},
   "outputs": [
    {
     "data": {
      "text/plain": [
       "['1,80,00,000', '6,172,258.50', '30,000,000', '15,000,000']"
      ]
     },
     "execution_count": 126,
     "metadata": {},
     "output_type": "execute_result"
    }
   ],
   "source": [
    "name=driver.find_elements_by_xpath(\"//td[@class='column-9']\")\n",
    "for i in name:\n",
    "    if i.text is None :\n",
    "        amount.append(\"--\") \n",
    "    else:\n",
    "        amount.append(i.text)\n",
    "amount[0:4]"
   ]
  },
  {
   "cell_type": "code",
   "execution_count": 127,
   "metadata": {},
   "outputs": [
    {
     "data": {
      "text/html": [
       "<div>\n",
       "<style scoped>\n",
       "    .dataframe tbody tr th:only-of-type {\n",
       "        vertical-align: middle;\n",
       "    }\n",
       "\n",
       "    .dataframe tbody tr th {\n",
       "        vertical-align: top;\n",
       "    }\n",
       "\n",
       "    .dataframe thead th {\n",
       "        text-align: right;\n",
       "    }\n",
       "</style>\n",
       "<table border=\"1\" class=\"dataframe\">\n",
       "  <thead>\n",
       "    <tr style=\"text-align: right;\">\n",
       "      <th></th>\n",
       "      <th>date</th>\n",
       "      <th>Startup_names</th>\n",
       "      <th>Industry</th>\n",
       "      <th>Industry_type</th>\n",
       "      <th>Citys</th>\n",
       "      <th>Investors</th>\n",
       "      <th>Investor_types</th>\n",
       "      <th>Amount</th>\n",
       "    </tr>\n",
       "  </thead>\n",
       "  <tbody>\n",
       "    <tr>\n",
       "      <th>0</th>\n",
       "      <td>15/01/2021</td>\n",
       "      <td>Digit Insurance</td>\n",
       "      <td>Financial Services</td>\n",
       "      <td>Insurance Services</td>\n",
       "      <td>Bengaluru</td>\n",
       "      <td>A91 Partners, Faering Capital, TVS Capital Funds</td>\n",
       "      <td>Venture</td>\n",
       "      <td>1,80,00,000</td>\n",
       "    </tr>\n",
       "    <tr>\n",
       "      <th>1</th>\n",
       "      <td>28/01/2021</td>\n",
       "      <td>Bombay Shaving Company</td>\n",
       "      <td>Consumer Goods Company</td>\n",
       "      <td>Shave care, beard care, and skincare products</td>\n",
       "      <td>New Delhi</td>\n",
       "      <td>Reckitt Benckiser</td>\n",
       "      <td>Venture</td>\n",
       "      <td>6,172,258.50</td>\n",
       "    </tr>\n",
       "    <tr>\n",
       "      <th>2</th>\n",
       "      <td>19/01/2021</td>\n",
       "      <td>DeHaat</td>\n",
       "      <td>AgriTech Startup</td>\n",
       "      <td>online marketplace for farm products and services</td>\n",
       "      <td>Patna</td>\n",
       "      <td>Prosus Ventures</td>\n",
       "      <td>Series C</td>\n",
       "      <td>30,000,000</td>\n",
       "    </tr>\n",
       "    <tr>\n",
       "      <th>3</th>\n",
       "      <td>19/01/2021</td>\n",
       "      <td>Darwinbox</td>\n",
       "      <td>SaaS</td>\n",
       "      <td>HR Tech</td>\n",
       "      <td>Mumbai</td>\n",
       "      <td>Salesforce Ventures</td>\n",
       "      <td>Seed</td>\n",
       "      <td>15,000,000</td>\n",
       "    </tr>\n",
       "    <tr>\n",
       "      <th>4</th>\n",
       "      <td>18/01/2021</td>\n",
       "      <td>mfine</td>\n",
       "      <td>Health Tech Startup</td>\n",
       "      <td>AI-powered telemedicine mobile app</td>\n",
       "      <td>Bengaluru</td>\n",
       "      <td>Heritas Capital Management</td>\n",
       "      <td>Venture Round</td>\n",
       "      <td>16,000,000</td>\n",
       "    </tr>\n",
       "    <tr>\n",
       "      <th>5</th>\n",
       "      <td>18/01/2021</td>\n",
       "      <td>Udayy</td>\n",
       "      <td>EdTech</td>\n",
       "      <td>Online learning platform for kids in class 1-5</td>\n",
       "      <td>Gurgaon</td>\n",
       "      <td>Sequoia Capital</td>\n",
       "      <td>Seed Funding</td>\n",
       "      <td>15,000,000</td>\n",
       "    </tr>\n",
       "    <tr>\n",
       "      <th>6</th>\n",
       "      <td>11/01/2021</td>\n",
       "      <td>True Elements</td>\n",
       "      <td>Food Startup</td>\n",
       "      <td>Whole Food plant based Nashta</td>\n",
       "      <td>Pune</td>\n",
       "      <td>SIDBI Venture Capital</td>\n",
       "      <td>Series</td>\n",
       "      <td>100,000,000</td>\n",
       "    </tr>\n",
       "    <tr>\n",
       "      <th>7</th>\n",
       "      <td>13/01/2021</td>\n",
       "      <td>Saveo</td>\n",
       "      <td>B2B E-commerce</td>\n",
       "      <td>Pharmacies</td>\n",
       "      <td>Bengaluru</td>\n",
       "      <td>Matrix Partners India, RTP Global, others</td>\n",
       "      <td>Seed</td>\n",
       "      <td>4,000,000</td>\n",
       "    </tr>\n",
       "    <tr>\n",
       "      <th>8</th>\n",
       "      <td>15/12/2020</td>\n",
       "      <td>Bira 91</td>\n",
       "      <td>Food and Beverage</td>\n",
       "      <td>Craft Beer</td>\n",
       "      <td>New Delhi</td>\n",
       "      <td>Nishant Mittal, Pankaj Chaddah and Shikha Suni...</td>\n",
       "      <td>Funding</td>\n",
       "      <td>1,273,634.07</td>\n",
       "    </tr>\n",
       "    <tr>\n",
       "      <th>9</th>\n",
       "      <td>21/12/2020</td>\n",
       "      <td>Pine Labs</td>\n",
       "      <td>Financial Services</td>\n",
       "      <td>Payment Solutions Provider</td>\n",
       "      <td>Noida</td>\n",
       "      <td>Lone Pine Capital</td>\n",
       "      <td>Secondary Market</td>\n",
       "      <td>Undisclosed</td>\n",
       "    </tr>\n",
       "  </tbody>\n",
       "</table>\n",
       "</div>"
      ],
      "text/plain": [
       "         date           Startup_names                Industry  \\\n",
       "0  15/01/2021         Digit Insurance      Financial Services   \n",
       "1  28/01/2021  Bombay Shaving Company  Consumer Goods Company   \n",
       "2  19/01/2021                  DeHaat        AgriTech Startup   \n",
       "3  19/01/2021               Darwinbox                    SaaS   \n",
       "4  18/01/2021                   mfine     Health Tech Startup   \n",
       "5  18/01/2021                   Udayy                  EdTech   \n",
       "6  11/01/2021           True Elements            Food Startup   \n",
       "7  13/01/2021                   Saveo          B2B E-commerce   \n",
       "8  15/12/2020                 Bira 91       Food and Beverage   \n",
       "9  21/12/2020               Pine Labs      Financial Services   \n",
       "\n",
       "                                       Industry_type      Citys  \\\n",
       "0                                 Insurance Services  Bengaluru   \n",
       "1      Shave care, beard care, and skincare products  New Delhi   \n",
       "2  online marketplace for farm products and services      Patna   \n",
       "3                                            HR Tech     Mumbai   \n",
       "4                 AI-powered telemedicine mobile app  Bengaluru   \n",
       "5     Online learning platform for kids in class 1-5    Gurgaon   \n",
       "6                      Whole Food plant based Nashta       Pune   \n",
       "7                                         Pharmacies  Bengaluru   \n",
       "8                                         Craft Beer  New Delhi   \n",
       "9                         Payment Solutions Provider      Noida   \n",
       "\n",
       "                                           Investors    Investor_types  \\\n",
       "0   A91 Partners, Faering Capital, TVS Capital Funds           Venture   \n",
       "1                                  Reckitt Benckiser           Venture   \n",
       "2                                    Prosus Ventures          Series C   \n",
       "3                                Salesforce Ventures              Seed   \n",
       "4                         Heritas Capital Management     Venture Round   \n",
       "5                                    Sequoia Capital      Seed Funding   \n",
       "6                              SIDBI Venture Capital            Series   \n",
       "7          Matrix Partners India, RTP Global, others              Seed   \n",
       "8  Nishant Mittal, Pankaj Chaddah and Shikha Suni...           Funding   \n",
       "9                                  Lone Pine Capital  Secondary Market   \n",
       "\n",
       "         Amount  \n",
       "0   1,80,00,000  \n",
       "1  6,172,258.50  \n",
       "2    30,000,000  \n",
       "3    15,000,000  \n",
       "4    16,000,000  \n",
       "5    15,000,000  \n",
       "6   100,000,000  \n",
       "7     4,000,000  \n",
       "8  1,273,634.07  \n",
       "9   Undisclosed  "
      ]
     },
     "execution_count": 127,
     "metadata": {},
     "output_type": "execute_result"
    }
   ],
   "source": [
    "import pandas as pd\n",
    "df=pd.DataFrame({})\n",
    "df['date']=Date[0:10]\n",
    "df['Startup_names']=startup_name[0:10]\n",
    "df['Industry']=industry[0:10]\n",
    "df['Industry_type']=industry_types[0:10]\n",
    "df['Citys']=city[0:10]\n",
    "df['Investors']=investor[0:10]\n",
    "df['Investor_types']=investor_type[0:10]\n",
    "df['Amount']=amount[0:10]\n",
    "df"
   ]
  },
  {
   "cell_type": "markdown",
   "metadata": {},
   "source": [
    "# Q5)"
   ]
  },
  {
   "cell_type": "code",
   "execution_count": 167,
   "metadata": {},
   "outputs": [],
   "source": [
    "driver=webdriver.Chrome(\"chromedriver.exe\")"
   ]
  },
  {
   "cell_type": "code",
   "execution_count": 168,
   "metadata": {},
   "outputs": [],
   "source": [
    "driver.get(\"https://images.google.com/maps\")"
   ]
  },
  {
   "cell_type": "code",
   "execution_count": 169,
   "metadata": {},
   "outputs": [
    {
     "name": "stdout",
     "output_type": "stream",
     "text": [
      "Enter your value: delhi\n",
      "delhi\n"
     ]
    }
   ],
   "source": [
    "val = input(\"Enter your value: \") \n",
    "print(val) "
   ]
  },
  {
   "cell_type": "code",
   "execution_count": 170,
   "metadata": {},
   "outputs": [],
   "source": [
    "search=driver.find_element_by_xpath(\"//input[@class='tactile-searchbox-input']\")\n",
    "search.send_keys(val)"
   ]
  },
  {
   "cell_type": "code",
   "execution_count": 171,
   "metadata": {},
   "outputs": [],
   "source": [
    "button=driver.find_element_by_xpath(\"//button[@id='searchbox-searchbutton']\")\n",
    "button.click()"
   ]
  },
  {
   "cell_type": "code",
   "execution_count": 172,
   "metadata": {},
   "outputs": [],
   "source": [
    "location=[]"
   ]
  },
  {
   "cell_type": "code",
   "execution_count": 173,
   "metadata": {},
   "outputs": [
    {
     "data": {
      "text/plain": [
       "[]"
      ]
     },
     "execution_count": 173,
     "metadata": {},
     "output_type": "execute_result"
    }
   ],
   "source": [
    "name=driver.find_elements_by_xpath(\"//button[@class='widget-reveal-card-address']\")\n",
    "for i in name:\n",
    "    if i.text is None :\n",
    "        location.append(\"--\") \n",
    "    else:\n",
    "        location.append(i.text)\n",
    "location[0:4]"
   ]
  },
  {
   "cell_type": "code",
   "execution_count": null,
   "metadata": {},
   "outputs": [],
   "source": []
  },
  {
   "cell_type": "code",
   "execution_count": null,
   "metadata": {},
   "outputs": [],
   "source": []
  },
  {
   "cell_type": "markdown",
   "metadata": {},
   "source": [
    "# Q4)"
   ]
  },
  {
   "cell_type": "code",
   "execution_count": 215,
   "metadata": {},
   "outputs": [],
   "source": [
    "driver=webdriver.Chrome(\"chromedriver.exe\")\n",
    "driver.get(\"https://www.flipkart.com\")"
   ]
  },
  {
   "cell_type": "code",
   "execution_count": 216,
   "metadata": {},
   "outputs": [],
   "source": [
    "search=driver.find_element_by_xpath(\"//input[@class='_3704LK']\")\n",
    "search.send_keys(\"oneplus nord5g\")"
   ]
  },
  {
   "cell_type": "code",
   "execution_count": 219,
   "metadata": {},
   "outputs": [],
   "source": [
    "button = driver.find_element_by_xpath(\"//button[@class='L0Z3Pu']\")\n",
    "button.click()"
   ]
  },
  {
   "cell_type": "code",
   "execution_count": 220,
   "metadata": {},
   "outputs": [],
   "source": [
    "names=[]\n",
    "Ram=[]\n",
    "display=[]\n",
    "camera=[]\n",
    "battery=[]"
   ]
  },
  {
   "cell_type": "code",
   "execution_count": 221,
   "metadata": {},
   "outputs": [
    {
     "data": {
      "text/plain": [
       "['OnePlus One (Silk White, 16 GB)']"
      ]
     },
     "execution_count": 221,
     "metadata": {},
     "output_type": "execute_result"
    }
   ],
   "source": [
    "name=driver.find_elements_by_xpath(\"//div[@class='_4rR01T']\")\n",
    "for i in name:\n",
    "    if i.text is None :\n",
    "        names.append(\"--\") \n",
    "    else:\n",
    "        names.append(i.text)\n",
    "names[0:4]"
   ]
  },
  {
   "cell_type": "code",
   "execution_count": 222,
   "metadata": {},
   "outputs": [
    {
     "data": {
      "text/plain": [
       "['3 GB RAM | 16 GB ROM']"
      ]
     },
     "execution_count": 222,
     "metadata": {},
     "output_type": "execute_result"
    }
   ],
   "source": [
    "r=driver.find_element_by_xpath(\"//div[@class='fMghEO']//li[1]\")\n",
    "Ram.append(r.text)   \n",
    "Ram[0:4]"
   ]
  },
  {
   "cell_type": "code",
   "execution_count": 223,
   "metadata": {},
   "outputs": [
    {
     "data": {
      "text/plain": [
       "['13.97 cm (5.5 inch) Full HD Display']"
      ]
     },
     "execution_count": 223,
     "metadata": {},
     "output_type": "execute_result"
    }
   ],
   "source": [
    "r=driver.find_element_by_xpath(\"//div[@class='fMghEO']//li[2]\")\n",
    "display.append(r.text)   \n",
    "display[0:4]"
   ]
  },
  {
   "cell_type": "code",
   "execution_count": 224,
   "metadata": {},
   "outputs": [
    {
     "data": {
      "text/plain": [
       "['13MP Rear Camera | 5MP Front Camera']"
      ]
     },
     "execution_count": 224,
     "metadata": {},
     "output_type": "execute_result"
    }
   ],
   "source": [
    "r=driver.find_element_by_xpath(\"//div[@class='fMghEO']//li[3]\")\n",
    "camera.append(r.text)   \n",
    "camera[0:4]"
   ]
  },
  {
   "cell_type": "code",
   "execution_count": 225,
   "metadata": {},
   "outputs": [
    {
     "data": {
      "text/plain": [
       "['3100 mAh Li-Polymer Battery']"
      ]
     },
     "execution_count": 225,
     "metadata": {},
     "output_type": "execute_result"
    }
   ],
   "source": [
    "r=driver.find_element_by_xpath(\"//div[@class='fMghEO']//li[4]\")\n",
    "battery.append(r.text)   \n",
    "battery[0:4]"
   ]
  },
  {
   "cell_type": "code",
   "execution_count": 226,
   "metadata": {},
   "outputs": [
    {
     "data": {
      "text/plain": [
       "['Qualcomm Snapdragon 801 Processor']"
      ]
     },
     "execution_count": 226,
     "metadata": {},
     "output_type": "execute_result"
    }
   ],
   "source": [
    "processor=[]\n",
    "r=driver.find_element_by_xpath(\"//div[@class='fMghEO']//li[5]\")\n",
    "processor.append(r.text)   \n",
    "processor"
   ]
  },
  {
   "cell_type": "code",
   "execution_count": 227,
   "metadata": {},
   "outputs": [
    {
     "data": {
      "text/plain": [
       "['Brand Warranty of 1 Year Available for Mobile and 6 Months for Accessories']"
      ]
     },
     "execution_count": 227,
     "metadata": {},
     "output_type": "execute_result"
    }
   ],
   "source": [
    "warrant=[]\n",
    "r=driver.find_element_by_xpath(\"//div[@class='fMghEO']//li[6]\")\n",
    "warrant.append(r.text)   \n",
    "warrant"
   ]
  },
  {
   "cell_type": "code",
   "execution_count": 228,
   "metadata": {},
   "outputs": [
    {
     "data": {
      "text/plain": [
       "['₹18,998']"
      ]
     },
     "execution_count": 228,
     "metadata": {},
     "output_type": "execute_result"
    }
   ],
   "source": [
    "amount=[]\n",
    "r=driver.find_element_by_xpath(\"//div[@class='_30jeq3 _1_WHN1']\")\n",
    "amount.append(r.text)   \n",
    "amount"
   ]
  },
  {
   "cell_type": "code",
   "execution_count": 229,
   "metadata": {},
   "outputs": [
    {
     "data": {
      "text/html": [
       "<div>\n",
       "<style scoped>\n",
       "    .dataframe tbody tr th:only-of-type {\n",
       "        vertical-align: middle;\n",
       "    }\n",
       "\n",
       "    .dataframe tbody tr th {\n",
       "        vertical-align: top;\n",
       "    }\n",
       "\n",
       "    .dataframe thead th {\n",
       "        text-align: right;\n",
       "    }\n",
       "</style>\n",
       "<table border=\"1\" class=\"dataframe\">\n",
       "  <thead>\n",
       "    <tr style=\"text-align: right;\">\n",
       "      <th></th>\n",
       "      <th>Name</th>\n",
       "      <th>RAM</th>\n",
       "      <th>Display</th>\n",
       "      <th>Camera</th>\n",
       "      <th>Battery</th>\n",
       "      <th>Processor</th>\n",
       "      <th>Warrant</th>\n",
       "      <th>Amount</th>\n",
       "    </tr>\n",
       "  </thead>\n",
       "  <tbody>\n",
       "    <tr>\n",
       "      <th>0</th>\n",
       "      <td>OnePlus One (Silk White, 16 GB)</td>\n",
       "      <td>3 GB RAM | 16 GB ROM</td>\n",
       "      <td>13.97 cm (5.5 inch) Full HD Display</td>\n",
       "      <td>13MP Rear Camera | 5MP Front Camera</td>\n",
       "      <td>3100 mAh Li-Polymer Battery</td>\n",
       "      <td>Qualcomm Snapdragon 801 Processor</td>\n",
       "      <td>Brand Warranty of 1 Year Available for Mobile ...</td>\n",
       "      <td>₹18,998</td>\n",
       "    </tr>\n",
       "  </tbody>\n",
       "</table>\n",
       "</div>"
      ],
      "text/plain": [
       "                              Name                   RAM  \\\n",
       "0  OnePlus One (Silk White, 16 GB)  3 GB RAM | 16 GB ROM   \n",
       "\n",
       "                               Display                               Camera  \\\n",
       "0  13.97 cm (5.5 inch) Full HD Display  13MP Rear Camera | 5MP Front Camera   \n",
       "\n",
       "                       Battery                          Processor  \\\n",
       "0  3100 mAh Li-Polymer Battery  Qualcomm Snapdragon 801 Processor   \n",
       "\n",
       "                                             Warrant   Amount  \n",
       "0  Brand Warranty of 1 Year Available for Mobile ...  ₹18,998  "
      ]
     },
     "execution_count": 229,
     "metadata": {},
     "output_type": "execute_result"
    }
   ],
   "source": [
    "import pandas as pd\n",
    "df=pd.DataFrame({})\n",
    "df['Name']=names\n",
    "df['RAM']=Ram\n",
    "df['Display']=display\n",
    "df['Camera']=camera\n",
    "df['Battery']=battery\n",
    "df['Processor']=processor\n",
    "df['Warrant']=warrant\n",
    "df['Amount']=amount\n",
    "df"
   ]
  },
  {
   "cell_type": "code",
   "execution_count": 230,
   "metadata": {},
   "outputs": [],
   "source": [
    "df.to_csv('Brand.csv', index = False)"
   ]
  }
 ],
 "metadata": {
  "kernelspec": {
   "display_name": "Python 3",
   "language": "python",
   "name": "python3"
  },
  "language_info": {
   "codemirror_mode": {
    "name": "ipython",
    "version": 3
   },
   "file_extension": ".py",
   "mimetype": "text/x-python",
   "name": "python",
   "nbconvert_exporter": "python",
   "pygments_lexer": "ipython3",
   "version": "3.8.3"
  }
 },
 "nbformat": 4,
 "nbformat_minor": 4
}
