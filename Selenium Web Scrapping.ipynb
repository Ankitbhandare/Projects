{
 "cells": [
  {
   "cell_type": "code",
   "execution_count": null,
   "metadata": {},
   "outputs": [],
   "source": []
  },
  {
   "cell_type": "code",
   "execution_count": 1,
   "metadata": {},
   "outputs": [
    {
     "name": "stdout",
     "output_type": "stream",
     "text": [
      "Requirement already satisfied: selenium in c:\\users\\hp\\anaconda3\\lib\\site-packages (3.141.0)\n",
      "Requirement already satisfied: urllib3 in c:\\users\\hp\\anaconda3\\lib\\site-packages (from selenium) (1.25.9)\n"
     ]
    }
   ],
   "source": [
    "!pip install selenium  "
   ]
  },
  {
   "cell_type": "code",
   "execution_count": 3,
   "metadata": {},
   "outputs": [],
   "source": [
    "import selenium\n",
    "import pandas as pd\n",
    "from selenium import webdriver"
   ]
  },
  {
   "cell_type": "markdown",
   "metadata": {},
   "source": [
    "# Q1)"
   ]
  },
  {
   "cell_type": "code",
   "execution_count": 3,
   "metadata": {},
   "outputs": [],
   "source": [
    "driver=webdriver.Chrome(\"chromedriver.exe\")"
   ]
  },
  {
   "cell_type": "code",
   "execution_count": 4,
   "metadata": {},
   "outputs": [],
   "source": [
    "driver.get(\"https://www.naukri.com/\")"
   ]
  },
  {
   "cell_type": "code",
   "execution_count": 5,
   "metadata": {},
   "outputs": [],
   "source": [
    "search_job=driver.find_element_by_xpath(\"//input[@id='qsb-keyword-sugg']\")\n",
    "search_job.send_keys(\"Data Analyst\")\n",
    "search_job=driver.find_element_by_xpath(\"//input[@id='qsb-location-sugg']\")\n",
    "search_job.send_keys(\"Bangalore\")"
   ]
  },
  {
   "cell_type": "code",
   "execution_count": 6,
   "metadata": {},
   "outputs": [],
   "source": [
    "button = driver.find_element_by_xpath(\"//div[@class='search-btn']\")\n",
    "button.click()"
   ]
  },
  {
   "cell_type": "code",
   "execution_count": 7,
   "metadata": {},
   "outputs": [],
   "source": [
    "url=\"https://www.naukri.com/data-analyst-jobs-in-bangalore?k=data%20analyst&l=bangalore\"\n",
    "driver.get(url)"
   ]
  },
  {
   "cell_type": "code",
   "execution_count": 8,
   "metadata": {},
   "outputs": [],
   "source": [
    "job_titles=[]\n",
    "company_name=[]\n",
    "location_city=[]\n",
    "total_experience=[]"
   ]
  },
  {
   "cell_type": "code",
   "execution_count": 9,
   "metadata": {},
   "outputs": [
    {
     "data": {
      "text/plain": [
       "[<selenium.webdriver.remote.webelement.WebElement (session=\"4642177aae64b1977ef773cc6f373456\", element=\"5ca9e4eb-6ed4-4ba5-8676-43d80d998c6b\")>,\n",
       " <selenium.webdriver.remote.webelement.WebElement (session=\"4642177aae64b1977ef773cc6f373456\", element=\"b04e5ac6-e134-4832-9858-b84afca9de68\")>,\n",
       " <selenium.webdriver.remote.webelement.WebElement (session=\"4642177aae64b1977ef773cc6f373456\", element=\"ddc34330-0336-46ea-aaf0-dd88e3c7f66b\")>,\n",
       " <selenium.webdriver.remote.webelement.WebElement (session=\"4642177aae64b1977ef773cc6f373456\", element=\"e8356ad2-b26f-4e84-9a59-d55a6a33274a\")>]"
      ]
     },
     "execution_count": 9,
     "metadata": {},
     "output_type": "execute_result"
    }
   ],
   "source": [
    "title=driver.find_elements_by_xpath(\"//a[@class='title fw500 ellipsis']\")\n",
    "title[0:4]"
   ]
  },
  {
   "cell_type": "code",
   "execution_count": 10,
   "metadata": {},
   "outputs": [
    {
     "data": {
      "text/plain": [
       "['Data Analyst PowerBI Bangalore',\n",
       " 'Data Analyst',\n",
       " 'Data Analyst || SQL,Python, R || Bangalore',\n",
       " 'Data Analyst - I']"
      ]
     },
     "execution_count": 10,
     "metadata": {},
     "output_type": "execute_result"
    }
   ],
   "source": [
    "for i in title:\n",
    "    titles=i.text\n",
    "    job_titles.append(titles)\n",
    "job_titles[0:4]"
   ]
  },
  {
   "cell_type": "code",
   "execution_count": null,
   "metadata": {},
   "outputs": [],
   "source": []
  },
  {
   "cell_type": "code",
   "execution_count": 11,
   "metadata": {},
   "outputs": [
    {
     "data": {
      "text/plain": [
       "[<selenium.webdriver.remote.webelement.WebElement (session=\"4642177aae64b1977ef773cc6f373456\", element=\"9da83c15-89dd-4fec-a42d-3986c005a219\")>,\n",
       " <selenium.webdriver.remote.webelement.WebElement (session=\"4642177aae64b1977ef773cc6f373456\", element=\"a03af74c-ad93-4aaa-b680-3e49c599ab11\")>,\n",
       " <selenium.webdriver.remote.webelement.WebElement (session=\"4642177aae64b1977ef773cc6f373456\", element=\"aaa5c3ee-eba9-4478-89f6-8b59b8def8dd\")>,\n",
       " <selenium.webdriver.remote.webelement.WebElement (session=\"4642177aae64b1977ef773cc6f373456\", element=\"97c642ad-b280-42bb-8f0b-30cea3dd314e\")>]"
      ]
     },
     "execution_count": 11,
     "metadata": {},
     "output_type": "execute_result"
    }
   ],
   "source": [
    "names=driver.find_elements_by_xpath(\"//div[@class='mt-7 companyInfo subheading lh16']\")\n",
    "names[0:4]"
   ]
  },
  {
   "cell_type": "code",
   "execution_count": 12,
   "metadata": {
    "scrolled": true
   },
   "outputs": [
    {
     "data": {
      "text/plain": [
       "['Talent Corner HR Services Pvt Ltd',\n",
       " 'Bion',\n",
       " 'Binary Semantics Limited\\n3.4\\n(83 Reviews)',\n",
       " 'Novel Office']"
      ]
     },
     "execution_count": 12,
     "metadata": {},
     "output_type": "execute_result"
    }
   ],
   "source": [
    "for i in names:\n",
    "    name=i.text\n",
    "    company_name.append(name)\n",
    "company_name[0:4]"
   ]
  },
  {
   "cell_type": "code",
   "execution_count": null,
   "metadata": {},
   "outputs": [],
   "source": []
  },
  {
   "cell_type": "code",
   "execution_count": 13,
   "metadata": {},
   "outputs": [
    {
     "data": {
      "text/plain": [
       "[<selenium.webdriver.remote.webelement.WebElement (session=\"4642177aae64b1977ef773cc6f373456\", element=\"d3a0cf79-c135-4b2f-b6f4-c160e47296b2\")>,\n",
       " <selenium.webdriver.remote.webelement.WebElement (session=\"4642177aae64b1977ef773cc6f373456\", element=\"b7d94952-8b63-4015-b935-09e8c8e7fbce\")>,\n",
       " <selenium.webdriver.remote.webelement.WebElement (session=\"4642177aae64b1977ef773cc6f373456\", element=\"91c2bca2-d90d-4721-8639-c89bdc18a4ae\")>,\n",
       " <selenium.webdriver.remote.webelement.WebElement (session=\"4642177aae64b1977ef773cc6f373456\", element=\"2416bdce-4231-478f-925d-8da50cdaf274\")>]"
      ]
     },
     "execution_count": 13,
     "metadata": {},
     "output_type": "execute_result"
    }
   ],
   "source": [
    "locations=driver.find_elements_by_xpath(\"//li[@class='fleft grey-text br2 placeHolderLi location']\")\n",
    "locations[0:4]"
   ]
  },
  {
   "cell_type": "code",
   "execution_count": 14,
   "metadata": {},
   "outputs": [
    {
     "data": {
      "text/plain": [
       "['Bengaluru / Bangalore', 'Bengaluru', 'Bengaluru', 'Bengaluru']"
      ]
     },
     "execution_count": 14,
     "metadata": {},
     "output_type": "execute_result"
    }
   ],
   "source": [
    "for i in locations:\n",
    "    location=i.text\n",
    "    location_city.append(location)\n",
    "location_city[0:4]"
   ]
  },
  {
   "cell_type": "code",
   "execution_count": null,
   "metadata": {},
   "outputs": [],
   "source": []
  },
  {
   "cell_type": "code",
   "execution_count": 15,
   "metadata": {},
   "outputs": [
    {
     "data": {
      "text/plain": [
       "[<selenium.webdriver.remote.webelement.WebElement (session=\"4642177aae64b1977ef773cc6f373456\", element=\"388fca0d-e1c1-4dbb-8fc9-4233a5cead6e\")>,\n",
       " <selenium.webdriver.remote.webelement.WebElement (session=\"4642177aae64b1977ef773cc6f373456\", element=\"d2e70da5-7592-4445-a8d2-3cedbd3b8bca\")>,\n",
       " <selenium.webdriver.remote.webelement.WebElement (session=\"4642177aae64b1977ef773cc6f373456\", element=\"80a5f2ff-1b0d-4425-8389-325ff454f794\")>,\n",
       " <selenium.webdriver.remote.webelement.WebElement (session=\"4642177aae64b1977ef773cc6f373456\", element=\"709b1d15-e4e5-4712-b924-0d0968608143\")>]"
      ]
     },
     "execution_count": 15,
     "metadata": {},
     "output_type": "execute_result"
    }
   ],
   "source": [
    "experience=driver.find_elements_by_xpath(\"//li[@class='fleft grey-text br2 placeHolderLi experience']\")\n",
    "experience[0:4]"
   ]
  },
  {
   "cell_type": "code",
   "execution_count": 16,
   "metadata": {},
   "outputs": [
    {
     "data": {
      "text/plain": [
       "['1-3 Yrs', '2-4 Yrs', '3-7 Yrs', '0-3 Yrs']"
      ]
     },
     "execution_count": 16,
     "metadata": {},
     "output_type": "execute_result"
    }
   ],
   "source": [
    "for i in experience:\n",
    "    experiences=i.text\n",
    "    total_experience.append(experiences)\n",
    "total_experience[0:4]"
   ]
  },
  {
   "cell_type": "code",
   "execution_count": 18,
   "metadata": {},
   "outputs": [],
   "source": [
    "import pandas as pd\n",
    "jobs=pd.DataFrame({})\n",
    "jobs['Job']=job_titles[0:10]\n",
    "jobs['Company']=company_name[0:10]\n",
    "jobs['Location']=location_city[0:10]\n",
    "jobs['Experience']=total_experience[0:10]"
   ]
  },
  {
   "cell_type": "code",
   "execution_count": 19,
   "metadata": {},
   "outputs": [
    {
     "data": {
      "text/html": [
       "<div>\n",
       "<style scoped>\n",
       "    .dataframe tbody tr th:only-of-type {\n",
       "        vertical-align: middle;\n",
       "    }\n",
       "\n",
       "    .dataframe tbody tr th {\n",
       "        vertical-align: top;\n",
       "    }\n",
       "\n",
       "    .dataframe thead th {\n",
       "        text-align: right;\n",
       "    }\n",
       "</style>\n",
       "<table border=\"1\" class=\"dataframe\">\n",
       "  <thead>\n",
       "    <tr style=\"text-align: right;\">\n",
       "      <th></th>\n",
       "      <th>Job</th>\n",
       "      <th>Company</th>\n",
       "      <th>Location</th>\n",
       "      <th>Experience</th>\n",
       "    </tr>\n",
       "  </thead>\n",
       "  <tbody>\n",
       "    <tr>\n",
       "      <th>0</th>\n",
       "      <td>Data Analyst PowerBI Bangalore</td>\n",
       "      <td>Talent Corner HR Services Pvt Ltd</td>\n",
       "      <td>Bengaluru / Bangalore</td>\n",
       "      <td>1-3 Yrs</td>\n",
       "    </tr>\n",
       "    <tr>\n",
       "      <th>1</th>\n",
       "      <td>Data Analyst</td>\n",
       "      <td>Bion</td>\n",
       "      <td>Bengaluru</td>\n",
       "      <td>2-4 Yrs</td>\n",
       "    </tr>\n",
       "    <tr>\n",
       "      <th>2</th>\n",
       "      <td>Data Analyst || SQL,Python, R || Bangalore</td>\n",
       "      <td>Binary Semantics Limited\\n3.4\\n(83 Reviews)</td>\n",
       "      <td>Bengaluru</td>\n",
       "      <td>3-7 Yrs</td>\n",
       "    </tr>\n",
       "    <tr>\n",
       "      <th>3</th>\n",
       "      <td>Data Analyst - I</td>\n",
       "      <td>Novel Office</td>\n",
       "      <td>Bengaluru</td>\n",
       "      <td>0-3 Yrs</td>\n",
       "    </tr>\n",
       "    <tr>\n",
       "      <th>4</th>\n",
       "      <td>Data Analyst</td>\n",
       "      <td>Perficient India Private Limited\\n3.8\\n(42 Rev...</td>\n",
       "      <td>Chennai, Bengaluru</td>\n",
       "      <td>3-8 Yrs</td>\n",
       "    </tr>\n",
       "    <tr>\n",
       "      <th>5</th>\n",
       "      <td>Data Analyst</td>\n",
       "      <td>Snaphunt</td>\n",
       "      <td>Bengaluru</td>\n",
       "      <td>3-5 Yrs</td>\n",
       "    </tr>\n",
       "    <tr>\n",
       "      <th>6</th>\n",
       "      <td>SAP Data Analyst</td>\n",
       "      <td>JOHN CRANE SEALING SYSTEMS INDIA PVT. LTD.\\n3....</td>\n",
       "      <td>Bengaluru</td>\n",
       "      <td>3-7 Yrs</td>\n",
       "    </tr>\n",
       "    <tr>\n",
       "      <th>7</th>\n",
       "      <td>Hiring Data Analysts on Contract</td>\n",
       "      <td>Flipkart Internet Private Limited\\n4.2\\n(2712 ...</td>\n",
       "      <td>Bengaluru</td>\n",
       "      <td>2-5 Yrs</td>\n",
       "    </tr>\n",
       "    <tr>\n",
       "      <th>8</th>\n",
       "      <td>Hiring Data Analysts on Contract</td>\n",
       "      <td>Flipkart Internet Private Limited\\n4.2\\n(2712 ...</td>\n",
       "      <td>Bengaluru</td>\n",
       "      <td>2-5 Yrs</td>\n",
       "    </tr>\n",
       "    <tr>\n",
       "      <th>9</th>\n",
       "      <td>Data Analyst</td>\n",
       "      <td>Liventus, Inc.\\n4.3\\n(7 Reviews)</td>\n",
       "      <td>Bengaluru(2nd Phase JP Nagar)</td>\n",
       "      <td>3-6 Yrs</td>\n",
       "    </tr>\n",
       "  </tbody>\n",
       "</table>\n",
       "</div>"
      ],
      "text/plain": [
       "                                          Job  \\\n",
       "0              Data Analyst PowerBI Bangalore   \n",
       "1                                Data Analyst   \n",
       "2  Data Analyst || SQL,Python, R || Bangalore   \n",
       "3                            Data Analyst - I   \n",
       "4                                Data Analyst   \n",
       "5                                Data Analyst   \n",
       "6                            SAP Data Analyst   \n",
       "7            Hiring Data Analysts on Contract   \n",
       "8            Hiring Data Analysts on Contract   \n",
       "9                                Data Analyst   \n",
       "\n",
       "                                             Company  \\\n",
       "0                  Talent Corner HR Services Pvt Ltd   \n",
       "1                                               Bion   \n",
       "2        Binary Semantics Limited\\n3.4\\n(83 Reviews)   \n",
       "3                                       Novel Office   \n",
       "4  Perficient India Private Limited\\n3.8\\n(42 Rev...   \n",
       "5                                           Snaphunt   \n",
       "6  JOHN CRANE SEALING SYSTEMS INDIA PVT. LTD.\\n3....   \n",
       "7  Flipkart Internet Private Limited\\n4.2\\n(2712 ...   \n",
       "8  Flipkart Internet Private Limited\\n4.2\\n(2712 ...   \n",
       "9                   Liventus, Inc.\\n4.3\\n(7 Reviews)   \n",
       "\n",
       "                        Location Experience  \n",
       "0          Bengaluru / Bangalore    1-3 Yrs  \n",
       "1                      Bengaluru    2-4 Yrs  \n",
       "2                      Bengaluru    3-7 Yrs  \n",
       "3                      Bengaluru    0-3 Yrs  \n",
       "4             Chennai, Bengaluru    3-8 Yrs  \n",
       "5                      Bengaluru    3-5 Yrs  \n",
       "6                      Bengaluru    3-7 Yrs  \n",
       "7                      Bengaluru    2-5 Yrs  \n",
       "8                      Bengaluru    2-5 Yrs  \n",
       "9  Bengaluru(2nd Phase JP Nagar)    3-6 Yrs  "
      ]
     },
     "execution_count": 19,
     "metadata": {},
     "output_type": "execute_result"
    }
   ],
   "source": [
    "jobs"
   ]
  },
  {
   "cell_type": "code",
   "execution_count": null,
   "metadata": {},
   "outputs": [],
   "source": []
  },
  {
   "cell_type": "markdown",
   "metadata": {},
   "source": [
    " # Q2)"
   ]
  },
  {
   "cell_type": "code",
   "execution_count": 36,
   "metadata": {},
   "outputs": [],
   "source": [
    "driver=webdriver.Chrome(\"chromedriver.exe\")\n",
    "driver.get(\"https://www.naukri.com/\")\n",
    "search_job=driver.find_element_by_xpath(\"//input[@id='qsb-keyword-sugg']\")\n",
    "search_job.send_keys(\"Data Scientist\")\n",
    "search_job=driver.find_element_by_xpath(\"//input[@id='qsb-location-sugg']\")\n",
    "search_job.send_keys(\"Bangalore\")\n",
    "button = driver.find_element_by_xpath(\"//div[@class='search-btn']\")\n",
    "button.click()"
   ]
  },
  {
   "cell_type": "code",
   "execution_count": 37,
   "metadata": {},
   "outputs": [
    {
     "data": {
      "text/plain": [
       "['1-2 Yrs', '3-8 Yrs', '6-11 Yrs', '2-7 Yrs']"
      ]
     },
     "execution_count": 37,
     "metadata": {},
     "output_type": "execute_result"
    }
   ],
   "source": [
    "url=\"https://www.naukri.com/data-scientist-jobs-in-bangalore?k=data%20scientist&l=bangalore\"\n",
    "driver.get(url)\n",
    "job_titles=[]\n",
    "company_name=[]\n",
    "location_city=[]\n",
    "total_experience=[]\n",
    "title=driver.find_elements_by_xpath(\"//a[@class='title fw500 ellipsis']\")\n",
    "title[0:4]\n",
    "for i in title:\n",
    "    titles=i.text\n",
    "    job_titles.append(titles)\n",
    "job_titles[0:4]\n",
    "\n",
    "names=driver.find_elements_by_xpath(\"//div[@class='mt-7 companyInfo subheading lh16']\")\n",
    "names[0:4]\n",
    "for i in names:\n",
    "    name=i.text\n",
    "    company_name.append(name)\n",
    "company_name[0:4]\n",
    "\n",
    "locations=driver.find_elements_by_xpath(\"//li[@class='fleft grey-text br2 placeHolderLi location']\")\n",
    "locations[0:4]\n",
    "for i in locations:\n",
    "    location=i.text\n",
    "    location_city.append(location)\n",
    "location_city[0:4]\n",
    "\n",
    "experience=driver.find_elements_by_xpath(\"//li[@class='fleft grey-text br2 placeHolderLi experience']\")\n",
    "experience[0:4]\n",
    "for i in experience:\n",
    "    experiences=i.text\n",
    "    total_experience.append(experiences)\n",
    "total_experience[0:4]"
   ]
  },
  {
   "cell_type": "code",
   "execution_count": 42,
   "metadata": {},
   "outputs": [],
   "source": [
    "job_description=[]\n",
    "button=[]\n",
    "button = driver.find_elements_by_xpath(\"//a[@class='title fw500 ellipsis']\")\n",
    "for i in button:\n",
    "    buttons=i.click()\n",
    "    jobs=driver.find_elements_by_xpath(\"//div[@class='dang-inner-html']\")\n",
    "    for i in jobs:\n",
    "        job=i.text\n",
    "        job_description.append(job)"
   ]
  },
  {
   "cell_type": "code",
   "execution_count": 44,
   "metadata": {},
   "outputs": [],
   "source": [
    "import pandas as pd\n",
    "jobs=pd.DataFrame({})\n",
    "jobs['Job']=job_titles[0:10]\n",
    "jobs['Company']=company_name[0:10]\n",
    "jobs['Location']=location_city[0:10]\n",
    "jobs['Experience']=total_experience[0:10]"
   ]
  },
  {
   "cell_type": "code",
   "execution_count": 45,
   "metadata": {},
   "outputs": [
    {
     "data": {
      "text/html": [
       "<div>\n",
       "<style scoped>\n",
       "    .dataframe tbody tr th:only-of-type {\n",
       "        vertical-align: middle;\n",
       "    }\n",
       "\n",
       "    .dataframe tbody tr th {\n",
       "        vertical-align: top;\n",
       "    }\n",
       "\n",
       "    .dataframe thead th {\n",
       "        text-align: right;\n",
       "    }\n",
       "</style>\n",
       "<table border=\"1\" class=\"dataframe\">\n",
       "  <thead>\n",
       "    <tr style=\"text-align: right;\">\n",
       "      <th></th>\n",
       "      <th>Job</th>\n",
       "      <th>Company</th>\n",
       "      <th>Location</th>\n",
       "      <th>Experience</th>\n",
       "    </tr>\n",
       "  </thead>\n",
       "  <tbody>\n",
       "    <tr>\n",
       "      <th>0</th>\n",
       "      <td>Data Scientist/Data Analyst-immediate</td>\n",
       "      <td>Inflexion Analytix Private Limited</td>\n",
       "      <td>Chennai, Pune, Bengaluru, Hyderabad</td>\n",
       "      <td>1-2 Yrs</td>\n",
       "    </tr>\n",
       "    <tr>\n",
       "      <th>1</th>\n",
       "      <td>Data Scientist - Python/ MATLAB/ Machine Learn...</td>\n",
       "      <td>Wrackle Technologies Pvt Ltd</td>\n",
       "      <td>Bengaluru</td>\n",
       "      <td>3-8 Yrs</td>\n",
       "    </tr>\n",
       "    <tr>\n",
       "      <th>2</th>\n",
       "      <td>Lead Data Scientist - Machine Learning/ Data M...</td>\n",
       "      <td>Wrackle Technologies Pvt Ltd</td>\n",
       "      <td>Bengaluru</td>\n",
       "      <td>6-11 Yrs</td>\n",
       "    </tr>\n",
       "    <tr>\n",
       "      <th>3</th>\n",
       "      <td>Data Scientist - Machine Learning (Commerce BU)</td>\n",
       "      <td>BLUE YONDER INDIA PRIVATE LIMITED\\n3.9\\n(119 R...</td>\n",
       "      <td>Bengaluru</td>\n",
       "      <td>2-7 Yrs</td>\n",
       "    </tr>\n",
       "    <tr>\n",
       "      <th>4</th>\n",
       "      <td>Data Scientist</td>\n",
       "      <td>Atos Syntel Private Limited\\n3.6\\n(1786 Reviews)</td>\n",
       "      <td>Chennai, Pune, Mumbai, Bengaluru</td>\n",
       "      <td>12-18 Yrs</td>\n",
       "    </tr>\n",
       "    <tr>\n",
       "      <th>5</th>\n",
       "      <td>Opening For Sr. Data Scientist @ Tech Mahindra</td>\n",
       "      <td>Tech Mahindra Ltd.\\n3.6\\n(10444 Reviews)</td>\n",
       "      <td>Pune, Bengaluru</td>\n",
       "      <td>12-20 Yrs</td>\n",
       "    </tr>\n",
       "    <tr>\n",
       "      <th>6</th>\n",
       "      <td>Opening For Sr. Data Scientist @ Tech Mahindra</td>\n",
       "      <td>Tech Mahindra Ltd.\\n3.6\\n(10444 Reviews)</td>\n",
       "      <td>Pune, Bengaluru</td>\n",
       "      <td>12-20 Yrs</td>\n",
       "    </tr>\n",
       "    <tr>\n",
       "      <th>7</th>\n",
       "      <td>Senior Data Scientist - NLP/ Python/ R</td>\n",
       "      <td>AVI Consulting LLP</td>\n",
       "      <td>Bengaluru, Hyderabad</td>\n",
       "      <td>4-9 Yrs</td>\n",
       "    </tr>\n",
       "    <tr>\n",
       "      <th>8</th>\n",
       "      <td>Senior Data Scientist | CES IT LTD | CMMI Level 5</td>\n",
       "      <td>CES Ltd.\\n3.1\\n(73 Reviews)</td>\n",
       "      <td>Chennai, Pune, Delhi NCR, Mumbai, Bengaluru, H...</td>\n",
       "      <td>2-7 Yrs</td>\n",
       "    </tr>\n",
       "    <tr>\n",
       "      <th>9</th>\n",
       "      <td>Sr Data Scientist</td>\n",
       "      <td>Concentrix Daksh Services India Private Limite...</td>\n",
       "      <td>Pune, Mumbai, Bengaluru, Gurgaon, Kolkata</td>\n",
       "      <td>4-9 Yrs</td>\n",
       "    </tr>\n",
       "  </tbody>\n",
       "</table>\n",
       "</div>"
      ],
      "text/plain": [
       "                                                 Job  \\\n",
       "0              Data Scientist/Data Analyst-immediate   \n",
       "1  Data Scientist - Python/ MATLAB/ Machine Learn...   \n",
       "2  Lead Data Scientist - Machine Learning/ Data M...   \n",
       "3    Data Scientist - Machine Learning (Commerce BU)   \n",
       "4                                     Data Scientist   \n",
       "5     Opening For Sr. Data Scientist @ Tech Mahindra   \n",
       "6     Opening For Sr. Data Scientist @ Tech Mahindra   \n",
       "7             Senior Data Scientist - NLP/ Python/ R   \n",
       "8  Senior Data Scientist | CES IT LTD | CMMI Level 5   \n",
       "9                                  Sr Data Scientist   \n",
       "\n",
       "                                             Company  \\\n",
       "0                 Inflexion Analytix Private Limited   \n",
       "1                       Wrackle Technologies Pvt Ltd   \n",
       "2                       Wrackle Technologies Pvt Ltd   \n",
       "3  BLUE YONDER INDIA PRIVATE LIMITED\\n3.9\\n(119 R...   \n",
       "4   Atos Syntel Private Limited\\n3.6\\n(1786 Reviews)   \n",
       "5           Tech Mahindra Ltd.\\n3.6\\n(10444 Reviews)   \n",
       "6           Tech Mahindra Ltd.\\n3.6\\n(10444 Reviews)   \n",
       "7                                 AVI Consulting LLP   \n",
       "8                        CES Ltd.\\n3.1\\n(73 Reviews)   \n",
       "9  Concentrix Daksh Services India Private Limite...   \n",
       "\n",
       "                                            Location Experience  \n",
       "0                Chennai, Pune, Bengaluru, Hyderabad    1-2 Yrs  \n",
       "1                                          Bengaluru    3-8 Yrs  \n",
       "2                                          Bengaluru   6-11 Yrs  \n",
       "3                                          Bengaluru    2-7 Yrs  \n",
       "4                   Chennai, Pune, Mumbai, Bengaluru  12-18 Yrs  \n",
       "5                                    Pune, Bengaluru  12-20 Yrs  \n",
       "6                                    Pune, Bengaluru  12-20 Yrs  \n",
       "7                               Bengaluru, Hyderabad    4-9 Yrs  \n",
       "8  Chennai, Pune, Delhi NCR, Mumbai, Bengaluru, H...    2-7 Yrs  \n",
       "9          Pune, Mumbai, Bengaluru, Gurgaon, Kolkata    4-9 Yrs  "
      ]
     },
     "execution_count": 45,
     "metadata": {},
     "output_type": "execute_result"
    }
   ],
   "source": [
    "jobs"
   ]
  },
  {
   "cell_type": "markdown",
   "metadata": {},
   "source": [
    "# Q3"
   ]
  },
  {
   "cell_type": "code",
   "execution_count": 96,
   "metadata": {},
   "outputs": [],
   "source": [
    "driver=webdriver.Chrome(\"chromedriver.exe\")\n",
    "driver.get(\"https://www.naukri.com/\")\n",
    "search_job=driver.find_element_by_xpath(\"//input[@id='qsb-keyword-sugg']\")\n",
    "search_job.send_keys(\"Data Scientist\")\n",
    "search_job=driver.find_element_by_xpath(\"//input[@id='qsb-location-sugg']\")\n",
    "search_job.send_keys(\"Delhi/NCR\")\n",
    "button = driver.find_element_by_xpath(\"//div[@class='search-btn']\")\n",
    "button.click()"
   ]
  },
  {
   "cell_type": "code",
   "execution_count": 98,
   "metadata": {},
   "outputs": [],
   "source": [
    "buttons = driver.find_element_by_xpath(\"//span[@class='ellipsis fleft']\")\n",
    "buttons.click()"
   ]
  },
  {
   "cell_type": "code",
   "execution_count": 99,
   "metadata": {},
   "outputs": [
    {
     "data": {
      "text/plain": [
       "['4-8 Yrs', '0-0 Yrs', '5-6 Yrs', '1-3 Yrs']"
      ]
     },
     "execution_count": 99,
     "metadata": {},
     "output_type": "execute_result"
    }
   ],
   "source": [
    "url=\"https://www.naukri.com/data-scientist-jobs-in-delhi-ncr?k=data%20scientist&l=delhi%2Fncr&cityType=25.9.31&ctcFilter=3to6\"\n",
    "driver.get(url)\n",
    "job_titles=[]\n",
    "company_name=[]\n",
    "location_city=[]\n",
    "total_experience=[]\n",
    "title=driver.find_elements_by_xpath(\"//a[@class='title fw500 ellipsis']\")\n",
    "title[0:4]\n",
    "for i in title:\n",
    "    titles=i.text\n",
    "    job_titles.append(titles)\n",
    "job_titles[0:4]\n",
    "\n",
    "names=driver.find_elements_by_xpath(\"//div[@class='mt-7 companyInfo subheading lh16']\")\n",
    "names[0:4]\n",
    "for i in names:\n",
    "    name=i.text\n",
    "    company_name.append(name)\n",
    "company_name[0:4]\n",
    "\n",
    "locations=driver.find_elements_by_xpath(\"//li[@class='fleft grey-text br2 placeHolderLi location']\")\n",
    "locations[0:4]\n",
    "for i in locations:\n",
    "    location=i.text\n",
    "    location_city.append(location)\n",
    "location_city[0:4]\n",
    "\n",
    "experience=driver.find_elements_by_xpath(\"//li[@class='fleft grey-text br2 placeHolderLi experience']\")\n",
    "experience[0:4]\n",
    "for i in experience:\n",
    "    experiences=i.text\n",
    "    total_experience.append(experiences)\n",
    "total_experience[0:4]"
   ]
  },
  {
   "cell_type": "code",
   "execution_count": 100,
   "metadata": {},
   "outputs": [],
   "source": [
    "import pandas as pd\n",
    "jobs=pd.DataFrame({})\n",
    "jobs['Job']=job_titles[0:10]\n",
    "jobs['Company']=company_name[0:10]\n",
    "jobs['Location']=location_city[0:10]\n",
    "jobs['Experience']=total_experience[0:10]"
   ]
  },
  {
   "cell_type": "code",
   "execution_count": 101,
   "metadata": {},
   "outputs": [
    {
     "data": {
      "text/html": [
       "<div>\n",
       "<style scoped>\n",
       "    .dataframe tbody tr th:only-of-type {\n",
       "        vertical-align: middle;\n",
       "    }\n",
       "\n",
       "    .dataframe tbody tr th {\n",
       "        vertical-align: top;\n",
       "    }\n",
       "\n",
       "    .dataframe thead th {\n",
       "        text-align: right;\n",
       "    }\n",
       "</style>\n",
       "<table border=\"1\" class=\"dataframe\">\n",
       "  <thead>\n",
       "    <tr style=\"text-align: right;\">\n",
       "      <th></th>\n",
       "      <th>Job</th>\n",
       "      <th>Company</th>\n",
       "      <th>Location</th>\n",
       "      <th>Experience</th>\n",
       "    </tr>\n",
       "  </thead>\n",
       "  <tbody>\n",
       "    <tr>\n",
       "      <th>0</th>\n",
       "      <td>Data Scientist</td>\n",
       "      <td>IBM India Pvt. Limited\\n4.0\\n(8809 Reviews)</td>\n",
       "      <td>Gurgaon Gurugram</td>\n",
       "      <td>4-8 Yrs</td>\n",
       "    </tr>\n",
       "    <tr>\n",
       "      <th>1</th>\n",
       "      <td>Only Fresher / Data Scientist / Data Analyst /...</td>\n",
       "      <td>GABA Consultancy services</td>\n",
       "      <td>Delhi NCR, Noida, Gurgaon</td>\n",
       "      <td>0-0 Yrs</td>\n",
       "    </tr>\n",
       "    <tr>\n",
       "      <th>2</th>\n",
       "      <td>Data Scientist</td>\n",
       "      <td>Ciena\\n4.3\\n(83 Reviews)</td>\n",
       "      <td>Gurgaon Gurugram</td>\n",
       "      <td>5-6 Yrs</td>\n",
       "    </tr>\n",
       "    <tr>\n",
       "      <th>3</th>\n",
       "      <td>Data Scientist</td>\n",
       "      <td>Country Veggie</td>\n",
       "      <td>Ghaziabad, Bhopal, Lucknow, Kanpur, Rajkot, Be...</td>\n",
       "      <td>1-3 Yrs</td>\n",
       "    </tr>\n",
       "    <tr>\n",
       "      <th>4</th>\n",
       "      <td>Data Scientist Machine Learning</td>\n",
       "      <td>Delhivery\\n4.2\\n(1246 Reviews)</td>\n",
       "      <td>Gurgaon</td>\n",
       "      <td>1-3 Yrs</td>\n",
       "    </tr>\n",
       "    <tr>\n",
       "      <th>5</th>\n",
       "      <td>Business Analyst - Data Scientist</td>\n",
       "      <td>HyreFox Consultants Pvt Ltd\\n4.3\\n(14 Reviews)</td>\n",
       "      <td>Gurgaon</td>\n",
       "      <td>3-5 Yrs</td>\n",
       "    </tr>\n",
       "    <tr>\n",
       "      <th>6</th>\n",
       "      <td>Analyst - Data Scientist</td>\n",
       "      <td>HyreFox Consultants Pvt Ltd\\n4.3\\n(14 Reviews)</td>\n",
       "      <td>Gurgaon</td>\n",
       "      <td>1-3 Yrs</td>\n",
       "    </tr>\n",
       "    <tr>\n",
       "      <th>7</th>\n",
       "      <td>Data Scientist</td>\n",
       "      <td>Amity University\\n3.8\\n(524 Reviews)</td>\n",
       "      <td>Faridabad, Delhi NCR, Ghaziabad</td>\n",
       "      <td>6-8 Yrs</td>\n",
       "    </tr>\n",
       "    <tr>\n",
       "      <th>8</th>\n",
       "      <td>Data Scientist</td>\n",
       "      <td>BlackBuck\\n3.6\\n(488 Reviews)</td>\n",
       "      <td>Bengaluru, Gurgaon</td>\n",
       "      <td>3-7 Yrs</td>\n",
       "    </tr>\n",
       "    <tr>\n",
       "      <th>9</th>\n",
       "      <td>Senior Data Scientist</td>\n",
       "      <td>iNICU</td>\n",
       "      <td>Delhi</td>\n",
       "      <td>1-5 Yrs</td>\n",
       "    </tr>\n",
       "  </tbody>\n",
       "</table>\n",
       "</div>"
      ],
      "text/plain": [
       "                                                 Job  \\\n",
       "0                                     Data Scientist   \n",
       "1  Only Fresher / Data Scientist / Data Analyst /...   \n",
       "2                                     Data Scientist   \n",
       "3                                     Data Scientist   \n",
       "4                    Data Scientist Machine Learning   \n",
       "5                  Business Analyst - Data Scientist   \n",
       "6                           Analyst - Data Scientist   \n",
       "7                                     Data Scientist   \n",
       "8                                     Data Scientist   \n",
       "9                              Senior Data Scientist   \n",
       "\n",
       "                                          Company  \\\n",
       "0     IBM India Pvt. Limited\\n4.0\\n(8809 Reviews)   \n",
       "1                       GABA Consultancy services   \n",
       "2                        Ciena\\n4.3\\n(83 Reviews)   \n",
       "3                                  Country Veggie   \n",
       "4                  Delhivery\\n4.2\\n(1246 Reviews)   \n",
       "5  HyreFox Consultants Pvt Ltd\\n4.3\\n(14 Reviews)   \n",
       "6  HyreFox Consultants Pvt Ltd\\n4.3\\n(14 Reviews)   \n",
       "7            Amity University\\n3.8\\n(524 Reviews)   \n",
       "8                   BlackBuck\\n3.6\\n(488 Reviews)   \n",
       "9                                           iNICU   \n",
       "\n",
       "                                            Location Experience  \n",
       "0                                   Gurgaon Gurugram    4-8 Yrs  \n",
       "1                          Delhi NCR, Noida, Gurgaon    0-0 Yrs  \n",
       "2                                   Gurgaon Gurugram    5-6 Yrs  \n",
       "3  Ghaziabad, Bhopal, Lucknow, Kanpur, Rajkot, Be...    1-3 Yrs  \n",
       "4                                            Gurgaon    1-3 Yrs  \n",
       "5                                            Gurgaon    3-5 Yrs  \n",
       "6                                            Gurgaon    1-3 Yrs  \n",
       "7                    Faridabad, Delhi NCR, Ghaziabad    6-8 Yrs  \n",
       "8                                 Bengaluru, Gurgaon    3-7 Yrs  \n",
       "9                                              Delhi    1-5 Yrs  "
      ]
     },
     "execution_count": 101,
     "metadata": {},
     "output_type": "execute_result"
    }
   ],
   "source": [
    "jobs"
   ]
  },
  {
   "cell_type": "markdown",
   "metadata": {},
   "source": [
    " # Q4)"
   ]
  },
  {
   "cell_type": "code",
   "execution_count": 119,
   "metadata": {},
   "outputs": [],
   "source": [
    "driver=webdriver.Chrome(\"chromedriver.exe\")\n",
    "driver.get(\"https://www.glassdoor.co.in/index.htm\")"
   ]
  },
  {
   "cell_type": "code",
   "execution_count": 123,
   "metadata": {},
   "outputs": [],
   "source": [
    "search_job=driver.find_element_by_xpath(\"//input[@id='scKeyword']\")\n",
    "search_job.send_keys(\"Data Scientist\")"
   ]
  },
  {
   "cell_type": "code",
   "execution_count": 124,
   "metadata": {},
   "outputs": [],
   "source": [
    "search_job=driver.find_element_by_xpath(\"//input[@id='scLocation']\")\n",
    "search_job.send_keys(\"Noida\")"
   ]
  },
  {
   "cell_type": "code",
   "execution_count": 125,
   "metadata": {},
   "outputs": [],
   "source": [
    "button = driver.find_element_by_xpath(\"//button[@class='pl-0 pr-xsm SearchStyles__searchKeywordSubmit']\")\n",
    "button.click()"
   ]
  },
  {
   "cell_type": "code",
   "execution_count": 136,
   "metadata": {},
   "outputs": [],
   "source": [
    "url=\"https://www.glassdoor.co.in/Job/noida-data-scientist-jobs-SRCH_IL.0,5_IC4477468_KO6,20.htm\"\n",
    "driver.get(url)\n",
    "job_title=[]\n",
    "company_names=[]\n",
    "location_citys=[]"
   ]
  },
  {
   "cell_type": "code",
   "execution_count": 138,
   "metadata": {
    "scrolled": true
   },
   "outputs": [
    {
     "data": {
      "text/plain": [
       "['Adobe',\n",
       " 'Biz2Credit Inc',\n",
       " 'Emerging India Group',\n",
       " 'Salasar New Age Technologies']"
      ]
     },
     "execution_count": 138,
     "metadata": {},
     "output_type": "execute_result"
    }
   ],
   "source": [
    "title=driver.find_elements_by_xpath(\"//a[@class=' css-l2wjgv e1n63ojh0 jobLink']\")\n",
    "title[0:4]\n",
    "for i in title:\n",
    "    titles=i.text\n",
    "    job_title.append(titles)\n",
    "job_title[0:4]"
   ]
  },
  {
   "cell_type": "code",
   "execution_count": 139,
   "metadata": {},
   "outputs": [
    {
     "data": {
      "text/plain": [
       "['Data Scientist', 'Data Scientist', 'Data Scientist', 'Data Scientist']"
      ]
     },
     "execution_count": 139,
     "metadata": {},
     "output_type": "execute_result"
    }
   ],
   "source": [
    "names=driver.find_elements_by_xpath(\"//a[@class='jobLink css-1rd3saf eigr9kq2']\")\n",
    "names[0:4]\n",
    "for i in names:\n",
    "    name=i.text\n",
    "    company_names.append(name)\n",
    "company_names[0:4]\n"
   ]
  },
  {
   "cell_type": "code",
   "execution_count": 140,
   "metadata": {},
   "outputs": [
    {
     "data": {
      "text/plain": [
       "['Noida', 'Noida', 'Noida', 'Noida']"
      ]
     },
     "execution_count": 140,
     "metadata": {},
     "output_type": "execute_result"
    }
   ],
   "source": [
    "locations=driver.find_elements_by_xpath(\"//div[@class='d-flex flex-wrap css-11d3uq0 e1rrn5ka2']//span[1]\")\n",
    "locations[0:4]\n",
    "for i in locations:\n",
    "    location=i.text\n",
    "    location_citys.append(location)\n",
    "location_citys[0:4]"
   ]
  },
  {
   "cell_type": "code",
   "execution_count": 141,
   "metadata": {},
   "outputs": [
    {
     "data": {
      "text/html": [
       "<div>\n",
       "<style scoped>\n",
       "    .dataframe tbody tr th:only-of-type {\n",
       "        vertical-align: middle;\n",
       "    }\n",
       "\n",
       "    .dataframe tbody tr th {\n",
       "        vertical-align: top;\n",
       "    }\n",
       "\n",
       "    .dataframe thead th {\n",
       "        text-align: right;\n",
       "    }\n",
       "</style>\n",
       "<table border=\"1\" class=\"dataframe\">\n",
       "  <thead>\n",
       "    <tr style=\"text-align: right;\">\n",
       "      <th></th>\n",
       "      <th>Job</th>\n",
       "      <th>Company</th>\n",
       "      <th>Location</th>\n",
       "    </tr>\n",
       "  </thead>\n",
       "  <tbody>\n",
       "    <tr>\n",
       "      <th>0</th>\n",
       "      <td>Adobe</td>\n",
       "      <td>Data Scientist</td>\n",
       "      <td>Noida</td>\n",
       "    </tr>\n",
       "    <tr>\n",
       "      <th>1</th>\n",
       "      <td>Biz2Credit Inc</td>\n",
       "      <td>Data Scientist</td>\n",
       "      <td>Noida</td>\n",
       "    </tr>\n",
       "    <tr>\n",
       "      <th>2</th>\n",
       "      <td>Emerging India Group</td>\n",
       "      <td>Data Scientist</td>\n",
       "      <td>Noida</td>\n",
       "    </tr>\n",
       "    <tr>\n",
       "      <th>3</th>\n",
       "      <td>Salasar New Age Technologies</td>\n",
       "      <td>Data Scientist</td>\n",
       "      <td>Noida</td>\n",
       "    </tr>\n",
       "    <tr>\n",
       "      <th>4</th>\n",
       "      <td>xtLytics</td>\n",
       "      <td>Jr. Data Scientist</td>\n",
       "      <td>Noida</td>\n",
       "    </tr>\n",
       "    <tr>\n",
       "      <th>5</th>\n",
       "      <td>WishFin</td>\n",
       "      <td></td>\n",
       "      <td>Noida</td>\n",
       "    </tr>\n",
       "    <tr>\n",
       "      <th>6</th>\n",
       "      <td>Mahindra Comviva</td>\n",
       "      <td>Data Scientist</td>\n",
       "      <td>Gurgaon</td>\n",
       "    </tr>\n",
       "    <tr>\n",
       "      <th>7</th>\n",
       "      <td>Techlive</td>\n",
       "      <td>Data Scientist</td>\n",
       "      <td>Noida</td>\n",
       "    </tr>\n",
       "    <tr>\n",
       "      <th>8</th>\n",
       "      <td>Salasar New Age Technologies</td>\n",
       "      <td>Data Scientist Intern</td>\n",
       "      <td>Noida</td>\n",
       "    </tr>\n",
       "    <tr>\n",
       "      <th>9</th>\n",
       "      <td>HDFC Bank</td>\n",
       "      <td>RAU-Data Scientist</td>\n",
       "      <td>Gurgaon</td>\n",
       "    </tr>\n",
       "  </tbody>\n",
       "</table>\n",
       "</div>"
      ],
      "text/plain": [
       "                            Job                Company Location\n",
       "0                         Adobe         Data Scientist    Noida\n",
       "1                Biz2Credit Inc         Data Scientist    Noida\n",
       "2          Emerging India Group         Data Scientist    Noida\n",
       "3  Salasar New Age Technologies         Data Scientist    Noida\n",
       "4                      xtLytics     Jr. Data Scientist    Noida\n",
       "5                       WishFin                           Noida\n",
       "6              Mahindra Comviva         Data Scientist  Gurgaon\n",
       "7                      Techlive         Data Scientist    Noida\n",
       "8  Salasar New Age Technologies  Data Scientist Intern    Noida\n",
       "9                     HDFC Bank     RAU-Data Scientist  Gurgaon"
      ]
     },
     "execution_count": 141,
     "metadata": {},
     "output_type": "execute_result"
    }
   ],
   "source": [
    "import pandas as pd\n",
    "jobs=pd.DataFrame({})\n",
    "jobs['Job']=job_title[0:10]\n",
    "jobs['Company']=company_names[0:10]\n",
    "jobs['Location']=location_citys[0:10]\n",
    "jobs"
   ]
  },
  {
   "cell_type": "markdown",
   "metadata": {},
   "source": [
    "# Q5)"
   ]
  },
  {
   "cell_type": "code",
   "execution_count": 149,
   "metadata": {},
   "outputs": [],
   "source": [
    "driver=webdriver.Chrome(\"chromedriver.exe\")\n",
    "driver.get(\"https://www.glassdoor.co.in/Salaries/index.htm\")"
   ]
  },
  {
   "cell_type": "code",
   "execution_count": 150,
   "metadata": {},
   "outputs": [],
   "source": [
    "search_job=driver.find_element_by_xpath(\"//input[@id='KeywordSearch']\")\n",
    "search_job.send_keys(\"Data Scientist\")\n",
    "search_job=driver.find_element_by_xpath(\"//input[@id='LocationSearch']\")\n",
    "search_job.send_keys(\"Noida\")"
   ]
  },
  {
   "cell_type": "code",
   "execution_count": 151,
   "metadata": {},
   "outputs": [],
   "source": [
    "button = driver.find_element_by_xpath(\"//button[@id='HeroSearchButton']\")\n",
    "button.click()"
   ]
  },
  {
   "cell_type": "code",
   "execution_count": 153,
   "metadata": {},
   "outputs": [],
   "source": [
    "url=\"https://www.glassdoor.co.in/Salaries/new-delhi-data-scientist-salary-SRCH_IL.0,9_IM1083_KO10,24.htm?clickSource=searchBtn\"\n",
    "driver.get(url)\n",
    "company_names=[]"
   ]
  },
  {
   "cell_type": "code",
   "execution_count": 167,
   "metadata": {},
   "outputs": [],
   "source": [
    "Average_salarys=[]\n",
    "min_salary=[]\n",
    "max_salary=[]\n",
    "job_titles=[]"
   ]
  },
  {
   "cell_type": "code",
   "execution_count": 156,
   "metadata": {},
   "outputs": [
    {
     "data": {
      "text/plain": [
       "['Delhivery', 'Ericsson-Worldwide', 'Tata Consultancy Services', 'Accenture']"
      ]
     },
     "execution_count": 156,
     "metadata": {},
     "output_type": "execute_result"
    }
   ],
   "source": [
    "title=driver.find_elements_by_xpath(\"//p[@class='m-0 ']\")\n",
    "title[0:4]\n",
    "for i in title:\n",
    "    titles=i.text\n",
    "    company_names.append(titles)\n",
    "company_names[0:4]"
   ]
  },
  {
   "cell_type": "code",
   "execution_count": 175,
   "metadata": {},
   "outputs": [
    {
     "data": {
      "text/plain": [
       "['Data Scientist',\n",
       " 'See 14 salaries from all locations',\n",
       " 'Data Scientist',\n",
       " 'See 25 salaries from all locations']"
      ]
     },
     "execution_count": 175,
     "metadata": {},
     "output_type": "execute_result"
    }
   ],
   "source": [
    "title=driver.find_elements_by_xpath(\"//p[@class='m-0']//a\")\n",
    "title[0:4]\n",
    "for i in title:\n",
    "    titles=i.text\n",
    "    job_title.append(titles)\n",
    "job_title[0:4]"
   ]
  },
  {
   "cell_type": "code",
   "execution_count": 176,
   "metadata": {},
   "outputs": [
    {
     "data": {
      "text/plain": [
       "['Data Scientist',\n",
       " 'Data Scientist',\n",
       " 'Data Scientist',\n",
       " 'Data Scientist',\n",
       " 'Data Scientist',\n",
       " 'Data Scientist',\n",
       " 'Data Scientist',\n",
       " 'Data Scientist',\n",
       " 'Data Scientist',\n",
       " 'Data Scientist']"
      ]
     },
     "execution_count": 176,
     "metadata": {},
     "output_type": "execute_result"
    }
   ],
   "source": [
    "job_titles = job_title[0::2] \n",
    "job_titles[0:10]"
   ]
  },
  {
   "cell_type": "code",
   "execution_count": 168,
   "metadata": {},
   "outputs": [
    {
     "data": {
      "text/plain": [
       "['₹ 12,64,182', '₹ 7,30,968', '₹ 6,00,000', '₹ 9,94,055']"
      ]
     },
     "execution_count": 168,
     "metadata": {},
     "output_type": "execute_result"
    }
   ],
   "source": [
    "title=driver.find_elements_by_xpath(\"//div[@class='col-2 d-none d-md-flex flex-row justify-content-end']/strong\")\n",
    "title[0:4]\n",
    "for i in title:\n",
    "    titles=i.text\n",
    "    Average_salarys.append(titles)\n",
    "Average_salarys[0:4]"
   ]
  },
  {
   "cell_type": "code",
   "execution_count": 169,
   "metadata": {},
   "outputs": [
    {
     "data": {
      "text/plain": [
       "['₹450K', '₹350K', '₹336K', '₹577K']"
      ]
     },
     "execution_count": 169,
     "metadata": {},
     "output_type": "execute_result"
    }
   ],
   "source": [
    "title=driver.find_elements_by_xpath(\"//div[@class='common__RangeBarStyle__values common__flex__justifySpaceBetween common__flex__container ']/span[1]\")\n",
    "title[0:4]\n",
    "for i in title:\n",
    "    titles=i.text\n",
    "    min_salary.append(titles)\n",
    "min_salary[0:4]"
   ]
  },
  {
   "cell_type": "code",
   "execution_count": 170,
   "metadata": {},
   "outputs": [
    {
     "data": {
      "text/plain": [
       "['₹11,630K', '₹1,614K', '₹1,010K', '₹2,215K']"
      ]
     },
     "execution_count": 170,
     "metadata": {},
     "output_type": "execute_result"
    }
   ],
   "source": [
    "title=driver.find_elements_by_xpath(\"//div[@class='common__RangeBarStyle__values common__flex__justifySpaceBetween common__flex__container ']/span[2]\")\n",
    "title[0:4]\n",
    "for i in title:\n",
    "    titles=i.text\n",
    "    max_salary.append(titles)\n",
    "max_salary[0:4]"
   ]
  },
  {
   "cell_type": "code",
   "execution_count": 177,
   "metadata": {},
   "outputs": [
    {
     "data": {
      "text/html": [
       "<div>\n",
       "<style scoped>\n",
       "    .dataframe tbody tr th:only-of-type {\n",
       "        vertical-align: middle;\n",
       "    }\n",
       "\n",
       "    .dataframe tbody tr th {\n",
       "        vertical-align: top;\n",
       "    }\n",
       "\n",
       "    .dataframe thead th {\n",
       "        text-align: right;\n",
       "    }\n",
       "</style>\n",
       "<table border=\"1\" class=\"dataframe\">\n",
       "  <thead>\n",
       "    <tr style=\"text-align: right;\">\n",
       "      <th></th>\n",
       "      <th>Job</th>\n",
       "      <th>Company</th>\n",
       "      <th>Average_salary</th>\n",
       "      <th>min_salarys</th>\n",
       "      <th>max_salarys</th>\n",
       "    </tr>\n",
       "  </thead>\n",
       "  <tbody>\n",
       "    <tr>\n",
       "      <th>0</th>\n",
       "      <td>Data Scientist</td>\n",
       "      <td>Delhivery</td>\n",
       "      <td>₹ 12,64,182</td>\n",
       "      <td>₹450K</td>\n",
       "      <td>₹11,630K</td>\n",
       "    </tr>\n",
       "    <tr>\n",
       "      <th>1</th>\n",
       "      <td>Data Scientist</td>\n",
       "      <td>Ericsson-Worldwide</td>\n",
       "      <td>₹ 7,30,968</td>\n",
       "      <td>₹350K</td>\n",
       "      <td>₹1,614K</td>\n",
       "    </tr>\n",
       "    <tr>\n",
       "      <th>2</th>\n",
       "      <td>Data Scientist</td>\n",
       "      <td>Tata Consultancy Services</td>\n",
       "      <td>₹ 6,00,000</td>\n",
       "      <td>₹336K</td>\n",
       "      <td>₹1,010K</td>\n",
       "    </tr>\n",
       "    <tr>\n",
       "      <th>3</th>\n",
       "      <td>Data Scientist</td>\n",
       "      <td>Accenture</td>\n",
       "      <td>₹ 9,94,055</td>\n",
       "      <td>₹577K</td>\n",
       "      <td>₹2,215K</td>\n",
       "    </tr>\n",
       "    <tr>\n",
       "      <th>4</th>\n",
       "      <td>Data Scientist</td>\n",
       "      <td>IBM</td>\n",
       "      <td>₹ 7,39,040</td>\n",
       "      <td>₹587K</td>\n",
       "      <td>₹2,732K</td>\n",
       "    </tr>\n",
       "    <tr>\n",
       "      <th>5</th>\n",
       "      <td>Data Scientist</td>\n",
       "      <td>UnitedHealth Group</td>\n",
       "      <td>₹ 13,37,114</td>\n",
       "      <td>₹717K</td>\n",
       "      <td>₹1,575K</td>\n",
       "    </tr>\n",
       "    <tr>\n",
       "      <th>6</th>\n",
       "      <td>Data Scientist</td>\n",
       "      <td>Valiance Solutions</td>\n",
       "      <td>₹ 7,80,374</td>\n",
       "      <td>₹502K</td>\n",
       "      <td>₹1,152K</td>\n",
       "    </tr>\n",
       "    <tr>\n",
       "      <th>7</th>\n",
       "      <td>Data Scientist</td>\n",
       "      <td>Innovaccer</td>\n",
       "      <td>₹ 11,98,792</td>\n",
       "      <td>₹621K</td>\n",
       "      <td>₹1,696K</td>\n",
       "    </tr>\n",
       "    <tr>\n",
       "      <th>8</th>\n",
       "      <td>Data Scientist</td>\n",
       "      <td>Cognizant Technology Solutions</td>\n",
       "      <td>₹ 10,08,143</td>\n",
       "      <td>₹793K</td>\n",
       "      <td>₹1,264K</td>\n",
       "    </tr>\n",
       "    <tr>\n",
       "      <th>9</th>\n",
       "      <td>Data Scientist</td>\n",
       "      <td>EXL Service</td>\n",
       "      <td>₹ 11,34,989</td>\n",
       "      <td>₹576K</td>\n",
       "      <td>₹1,500K</td>\n",
       "    </tr>\n",
       "  </tbody>\n",
       "</table>\n",
       "</div>"
      ],
      "text/plain": [
       "              Job                         Company Average_salary min_salarys  \\\n",
       "0  Data Scientist                       Delhivery    ₹ 12,64,182       ₹450K   \n",
       "1  Data Scientist              Ericsson-Worldwide     ₹ 7,30,968       ₹350K   \n",
       "2  Data Scientist       Tata Consultancy Services     ₹ 6,00,000       ₹336K   \n",
       "3  Data Scientist                       Accenture     ₹ 9,94,055       ₹577K   \n",
       "4  Data Scientist                             IBM     ₹ 7,39,040       ₹587K   \n",
       "5  Data Scientist              UnitedHealth Group    ₹ 13,37,114       ₹717K   \n",
       "6  Data Scientist              Valiance Solutions     ₹ 7,80,374       ₹502K   \n",
       "7  Data Scientist                      Innovaccer    ₹ 11,98,792       ₹621K   \n",
       "8  Data Scientist  Cognizant Technology Solutions    ₹ 10,08,143       ₹793K   \n",
       "9  Data Scientist                     EXL Service    ₹ 11,34,989       ₹576K   \n",
       "\n",
       "  max_salarys  \n",
       "0    ₹11,630K  \n",
       "1     ₹1,614K  \n",
       "2     ₹1,010K  \n",
       "3     ₹2,215K  \n",
       "4     ₹2,732K  \n",
       "5     ₹1,575K  \n",
       "6     ₹1,152K  \n",
       "7     ₹1,696K  \n",
       "8     ₹1,264K  \n",
       "9     ₹1,500K  "
      ]
     },
     "execution_count": 177,
     "metadata": {},
     "output_type": "execute_result"
    }
   ],
   "source": [
    "import pandas as pd\n",
    "jobs=pd.DataFrame({})\n",
    "jobs['Job']=job_titles[0:10]\n",
    "jobs['Company']=company_names[0:10]\n",
    "jobs['Average_salary']=Average_salarys[0:10]\n",
    "jobs['min_salarys']=min_salary[0:10]\n",
    "jobs['max_salarys']=max_salary[0:10]\n",
    "jobs"
   ]
  },
  {
   "cell_type": "markdown",
   "metadata": {},
   "source": [
    "# Q6)"
   ]
  },
  {
   "cell_type": "code",
   "execution_count": 181,
   "metadata": {},
   "outputs": [],
   "source": [
    "driver=webdriver.Chrome(\"chromedriver.exe\")\n",
    "driver.get(\" https://www.flipkart.com/\")"
   ]
  },
  {
   "cell_type": "code",
   "execution_count": 182,
   "metadata": {},
   "outputs": [],
   "source": [
    "search=driver.find_element_by_xpath(\"//input[@class='_3704LK']\")\n",
    "search.send_keys(\"sunglasses\")"
   ]
  },
  {
   "cell_type": "code",
   "execution_count": 185,
   "metadata": {},
   "outputs": [],
   "source": [
    "button = driver.find_element_by_xpath(\"//button[@class='L0Z3Pu']\")\n",
    "button.click()"
   ]
  },
  {
   "cell_type": "code",
   "execution_count": 186,
   "metadata": {},
   "outputs": [],
   "source": [
    "url=\"https://www.flipkart.com/search?q=sunglasses&otracker=search&otracker1=search&marketplace=FLIPKART&as-show=on&as=off\"\n",
    "driver.get(url)"
   ]
  },
  {
   "cell_type": "code",
   "execution_count": 189,
   "metadata": {},
   "outputs": [],
   "source": [
    "name=[]\n",
    "price=[]\n",
    "discount=[]"
   ]
  },
  {
   "cell_type": "code",
   "execution_count": 193,
   "metadata": {},
   "outputs": [
    {
     "data": {
      "text/plain": [
       "['like future', 'PIRASO', 'NuVew', 'hipe']"
      ]
     },
     "execution_count": 193,
     "metadata": {},
     "output_type": "execute_result"
    }
   ],
   "source": [
    "title=driver.find_elements_by_xpath(\"//div[@class='_2WkVRV']\")\n",
    "title[0:4]\n",
    "for i in title:\n",
    "    titles=i.text\n",
    "    name.append(titles)\n",
    "name[0:4]"
   ]
  },
  {
   "cell_type": "code",
   "execution_count": 190,
   "metadata": {},
   "outputs": [
    {
     "data": {
      "text/plain": [
       "['₹199', '₹255', '₹499', '₹499']"
      ]
     },
     "execution_count": 190,
     "metadata": {},
     "output_type": "execute_result"
    }
   ],
   "source": [
    "title=driver.find_elements_by_xpath(\"//div[@class='_30jeq3']\")\n",
    "title[0:4]\n",
    "for i in title:\n",
    "    titles=i.text\n",
    "    price.append(titles)\n",
    "price[0:4]"
   ]
  },
  {
   "cell_type": "code",
   "execution_count": 191,
   "metadata": {},
   "outputs": [
    {
     "data": {
      "text/plain": [
       "['86% off', '78% off', '77% off', '37% off']"
      ]
     },
     "execution_count": 191,
     "metadata": {},
     "output_type": "execute_result"
    }
   ],
   "source": [
    "title=driver.find_elements_by_xpath(\"//div[@class='_3Ay6Sb']\")\n",
    "title[0:4]\n",
    "for i in title:\n",
    "    titles=i.text\n",
    "    discount.append(titles)\n",
    "discount[0:4]"
   ]
  },
  {
   "cell_type": "code",
   "execution_count": 192,
   "metadata": {},
   "outputs": [],
   "source": [
    "next= driver.find_element_by_xpath(\"//a[@class='_1LKTO3']/span\")\n",
    "next.click()"
   ]
  },
  {
   "cell_type": "code",
   "execution_count": 194,
   "metadata": {},
   "outputs": [
    {
     "data": {
      "text/plain": [
       "['86% off', '78% off', '77% off', '37% off']"
      ]
     },
     "execution_count": 194,
     "metadata": {},
     "output_type": "execute_result"
    }
   ],
   "source": [
    "title=driver.find_elements_by_xpath(\"//div[@class='_2WkVRV']\")\n",
    "title[0:4]\n",
    "for i in title:\n",
    "    titles=i.text\n",
    "    name.append(titles)\n",
    "name[0:4]\n",
    "title=driver.find_elements_by_xpath(\"//div[@class='_30jeq3']\")\n",
    "title[0:4]\n",
    "for i in title:\n",
    "    titles=i.text\n",
    "    price.append(titles)\n",
    "price[0:4]\n",
    "title=driver.find_elements_by_xpath(\"//div[@class='_3Ay6Sb']\")\n",
    "title[0:4]\n",
    "for i in title:\n",
    "    titles=i.text\n",
    "    discount.append(titles)\n",
    "discount[0:4]"
   ]
  },
  {
   "cell_type": "code",
   "execution_count": 195,
   "metadata": {},
   "outputs": [],
   "source": [
    "next= driver.find_element_by_xpath(\"//a[@class='_1LKTO3']/span\")\n",
    "next.click()"
   ]
  },
  {
   "cell_type": "code",
   "execution_count": 196,
   "metadata": {},
   "outputs": [
    {
     "data": {
      "text/plain": [
       "['86% off', '78% off', '77% off', '37% off']"
      ]
     },
     "execution_count": 196,
     "metadata": {},
     "output_type": "execute_result"
    }
   ],
   "source": [
    "title=driver.find_elements_by_xpath(\"//div[@class='_2WkVRV']\")\n",
    "title[0:4]\n",
    "for i in title:\n",
    "    titles=i.text\n",
    "    name.append(titles)\n",
    "name[0:4]\n",
    "title=driver.find_elements_by_xpath(\"//div[@class='_30jeq3']\")\n",
    "title[0:4]\n",
    "for i in title:\n",
    "    titles=i.text\n",
    "    price.append(titles)\n",
    "price[0:4]\n",
    "title=driver.find_elements_by_xpath(\"//div[@class='_3Ay6Sb']\")\n",
    "title[0:4]\n",
    "for i in title:\n",
    "    titles=i.text\n",
    "    discount.append(titles)\n",
    "discount[0:4]"
   ]
  },
  {
   "cell_type": "code",
   "execution_count": 197,
   "metadata": {},
   "outputs": [
    {
     "data": {
      "text/html": [
       "<div>\n",
       "<style scoped>\n",
       "    .dataframe tbody tr th:only-of-type {\n",
       "        vertical-align: middle;\n",
       "    }\n",
       "\n",
       "    .dataframe tbody tr th {\n",
       "        vertical-align: top;\n",
       "    }\n",
       "\n",
       "    .dataframe thead th {\n",
       "        text-align: right;\n",
       "    }\n",
       "</style>\n",
       "<table border=\"1\" class=\"dataframe\">\n",
       "  <thead>\n",
       "    <tr style=\"text-align: right;\">\n",
       "      <th></th>\n",
       "      <th>Name</th>\n",
       "      <th>Price</th>\n",
       "      <th>Discount</th>\n",
       "    </tr>\n",
       "  </thead>\n",
       "  <tbody>\n",
       "    <tr>\n",
       "      <th>0</th>\n",
       "      <td>like future</td>\n",
       "      <td>₹199</td>\n",
       "      <td>86% off</td>\n",
       "    </tr>\n",
       "    <tr>\n",
       "      <th>1</th>\n",
       "      <td>PIRASO</td>\n",
       "      <td>₹255</td>\n",
       "      <td>78% off</td>\n",
       "    </tr>\n",
       "    <tr>\n",
       "      <th>2</th>\n",
       "      <td>NuVew</td>\n",
       "      <td>₹499</td>\n",
       "      <td>77% off</td>\n",
       "    </tr>\n",
       "    <tr>\n",
       "      <th>3</th>\n",
       "      <td>hipe</td>\n",
       "      <td>₹499</td>\n",
       "      <td>37% off</td>\n",
       "    </tr>\n",
       "    <tr>\n",
       "      <th>4</th>\n",
       "      <td>Silver Kartz</td>\n",
       "      <td>₹599</td>\n",
       "      <td>33% off</td>\n",
       "    </tr>\n",
       "    <tr>\n",
       "      <th>...</th>\n",
       "      <td>...</td>\n",
       "      <td>...</td>\n",
       "      <td>...</td>\n",
       "    </tr>\n",
       "    <tr>\n",
       "      <th>95</th>\n",
       "      <td>shah collections</td>\n",
       "      <td>₹331</td>\n",
       "      <td>80% off</td>\n",
       "    </tr>\n",
       "    <tr>\n",
       "      <th>96</th>\n",
       "      <td>shah collections</td>\n",
       "      <td>₹227</td>\n",
       "      <td>77% off</td>\n",
       "    </tr>\n",
       "    <tr>\n",
       "      <th>97</th>\n",
       "      <td>JUST STYLE</td>\n",
       "      <td>₹99</td>\n",
       "      <td>83% off</td>\n",
       "    </tr>\n",
       "    <tr>\n",
       "      <th>98</th>\n",
       "      <td>ETRG</td>\n",
       "      <td>₹209</td>\n",
       "      <td>73% off</td>\n",
       "    </tr>\n",
       "    <tr>\n",
       "      <th>99</th>\n",
       "      <td>Silver Kartz</td>\n",
       "      <td>₹265</td>\n",
       "      <td>77% off</td>\n",
       "    </tr>\n",
       "  </tbody>\n",
       "</table>\n",
       "<p>100 rows × 3 columns</p>\n",
       "</div>"
      ],
      "text/plain": [
       "                Name Price Discount\n",
       "0        like future  ₹199  86% off\n",
       "1             PIRASO  ₹255  78% off\n",
       "2              NuVew  ₹499  77% off\n",
       "3               hipe  ₹499  37% off\n",
       "4       Silver Kartz  ₹599  33% off\n",
       "..               ...   ...      ...\n",
       "95  shah collections  ₹331  80% off\n",
       "96  shah collections  ₹227  77% off\n",
       "97        JUST STYLE   ₹99  83% off\n",
       "98              ETRG  ₹209  73% off\n",
       "99      Silver Kartz  ₹265  77% off\n",
       "\n",
       "[100 rows x 3 columns]"
      ]
     },
     "execution_count": 197,
     "metadata": {},
     "output_type": "execute_result"
    }
   ],
   "source": [
    "import pandas as pd\n",
    "sunglasses=pd.DataFrame({})\n",
    "sunglasses['Name']=name[0:100]\n",
    "sunglasses['Price']=price[0:100]\n",
    "sunglasses['Discount']=discount[0:100]\n",
    "sunglasses"
   ]
  },
  {
   "cell_type": "markdown",
   "metadata": {},
   "source": [
    "# Q7)"
   ]
  },
  {
   "cell_type": "code",
   "execution_count": 198,
   "metadata": {},
   "outputs": [],
   "source": [
    "driver=webdriver.Chrome(\"chromedriver.exe\")\n",
    "driver.get(\"https://www.flipkart.com/apple-iphone-11-black-64-gb-includes-earpods-power-adapter/p/itm0f37c2240b217?pid=MOBFKCTSVZAXUHGR&lid=LSTMOBFKCTSVZAXUHGREPBFGI&marketplace\")"
   ]
  },
  {
   "cell_type": "code",
   "execution_count": 199,
   "metadata": {},
   "outputs": [],
   "source": [
    "url=\"https://www.flipkart.com/apple-iphone-11-black-64-gb-includes-earpods-power-adapter/product-reviews/itm0f37c2240b217?pid=MOBFKCTSVZAXUHGR&lid=LSTMOBFKCTSVZAXUHGRRWP0SM&marketplace=FLIPKART\"\n",
    "driver.get(url)"
   ]
  },
  {
   "cell_type": "code",
   "execution_count": 201,
   "metadata": {},
   "outputs": [],
   "source": [
    "Rating=[]\n",
    "Review_summary=[]\n",
    "Full_review=[]"
   ]
  },
  {
   "cell_type": "code",
   "execution_count": 202,
   "metadata": {},
   "outputs": [],
   "source": [
    "start_page=0\n",
    "end_page=15"
   ]
  },
  {
   "cell_type": "code",
   "execution_count": 204,
   "metadata": {},
   "outputs": [],
   "source": [
    "for page in range(start_page,end_page+1):\n",
    "    title=driver.find_elements_by_xpath(\"//div[@class='_3LWZlK _1BLPMq']\")\n",
    "    title[0:4]\n",
    "    for i in title:\n",
    "        titles=i.text\n",
    "        Rating.append(titles)\n",
    "    review=driver.find_elements_by_xpath(\"//p[@class='_2-N8zT']\")\n",
    "    review[0:4]\n",
    "    for i in review:\n",
    "        reviews=i.text\n",
    "        Review_summary.append(reviews)\n",
    "    Review=driver.find_elements_by_xpath(\"//div[@class='t-ZTKy']\")\n",
    "    Review[0:4]\n",
    "    for i in Review:\n",
    "        Reviews=i.text\n",
    "        Full_review.append(Reviews)\n",
    "    \n",
    "    \n",
    "        nxt_button=driver.find_element_by_xpath(\"//a[@class='_1LKTO3']\")\n",
    "        if nxt_button.text=='Next':\n",
    "            nxt_button.click()\n",
    "            time.sleep(5)"
   ]
  },
  {
   "cell_type": "code",
   "execution_count": 205,
   "metadata": {},
   "outputs": [
    {
     "data": {
      "text/html": [
       "<div>\n",
       "<style scoped>\n",
       "    .dataframe tbody tr th:only-of-type {\n",
       "        vertical-align: middle;\n",
       "    }\n",
       "\n",
       "    .dataframe tbody tr th {\n",
       "        vertical-align: top;\n",
       "    }\n",
       "\n",
       "    .dataframe thead th {\n",
       "        text-align: right;\n",
       "    }\n",
       "</style>\n",
       "<table border=\"1\" class=\"dataframe\">\n",
       "  <thead>\n",
       "    <tr style=\"text-align: right;\">\n",
       "      <th></th>\n",
       "      <th>Ratings</th>\n",
       "      <th>Review</th>\n",
       "      <th>Full_reviews</th>\n",
       "    </tr>\n",
       "  </thead>\n",
       "  <tbody>\n",
       "    <tr>\n",
       "      <th>0</th>\n",
       "      <td>5</td>\n",
       "      <td>Perfect product!</td>\n",
       "      <td>Amazing phone with great cameras and better ba...</td>\n",
       "    </tr>\n",
       "    <tr>\n",
       "      <th>1</th>\n",
       "      <td>5</td>\n",
       "      <td>Great product</td>\n",
       "      <td>Amazing phone with great cameras and better ba...</td>\n",
       "    </tr>\n",
       "    <tr>\n",
       "      <th>2</th>\n",
       "      <td>5</td>\n",
       "      <td>Highly recommended</td>\n",
       "      <td>Amazing Powerful and Durable Gadget.\\n\\nI’m am...</td>\n",
       "    </tr>\n",
       "    <tr>\n",
       "      <th>3</th>\n",
       "      <td>5</td>\n",
       "      <td>Perfect product!</td>\n",
       "      <td>iphone 11 is a very good phone to buy only if ...</td>\n",
       "    </tr>\n",
       "    <tr>\n",
       "      <th>4</th>\n",
       "      <td>5</td>\n",
       "      <td>Brilliant</td>\n",
       "      <td>It’s a must buy who is looking for an upgrade ...</td>\n",
       "    </tr>\n",
       "    <tr>\n",
       "      <th>...</th>\n",
       "      <td>...</td>\n",
       "      <td>...</td>\n",
       "      <td>...</td>\n",
       "    </tr>\n",
       "    <tr>\n",
       "      <th>95</th>\n",
       "      <td>5</td>\n",
       "      <td>Perfect product!</td>\n",
       "      <td>The Best Phone for the Money\\n\\nThe iPhone 11 ...</td>\n",
       "    </tr>\n",
       "    <tr>\n",
       "      <th>96</th>\n",
       "      <td>5</td>\n",
       "      <td>Worth every penny</td>\n",
       "      <td>Value for money❤️❤️\\nIts awesome mobile phone ...</td>\n",
       "    </tr>\n",
       "    <tr>\n",
       "      <th>97</th>\n",
       "      <td>5</td>\n",
       "      <td>Worth every penny</td>\n",
       "      <td>Best budget Iphone till date ❤️ go for it guys...</td>\n",
       "    </tr>\n",
       "    <tr>\n",
       "      <th>98</th>\n",
       "      <td>5</td>\n",
       "      <td>Wonderful</td>\n",
       "      <td>It’s been almost a month since I have been usi...</td>\n",
       "    </tr>\n",
       "    <tr>\n",
       "      <th>99</th>\n",
       "      <td>4</td>\n",
       "      <td>Nice product</td>\n",
       "      <td>*Review after 10 months of usage*\\nDoesn't see...</td>\n",
       "    </tr>\n",
       "  </tbody>\n",
       "</table>\n",
       "<p>100 rows × 3 columns</p>\n",
       "</div>"
      ],
      "text/plain": [
       "   Ratings              Review  \\\n",
       "0        5    Perfect product!   \n",
       "1        5       Great product   \n",
       "2        5  Highly recommended   \n",
       "3        5    Perfect product!   \n",
       "4        5           Brilliant   \n",
       "..     ...                 ...   \n",
       "95       5    Perfect product!   \n",
       "96       5   Worth every penny   \n",
       "97       5   Worth every penny   \n",
       "98       5           Wonderful   \n",
       "99       4        Nice product   \n",
       "\n",
       "                                         Full_reviews  \n",
       "0   Amazing phone with great cameras and better ba...  \n",
       "1   Amazing phone with great cameras and better ba...  \n",
       "2   Amazing Powerful and Durable Gadget.\\n\\nI’m am...  \n",
       "3   iphone 11 is a very good phone to buy only if ...  \n",
       "4   It’s a must buy who is looking for an upgrade ...  \n",
       "..                                                ...  \n",
       "95  The Best Phone for the Money\\n\\nThe iPhone 11 ...  \n",
       "96  Value for money❤️❤️\\nIts awesome mobile phone ...  \n",
       "97  Best budget Iphone till date ❤️ go for it guys...  \n",
       "98  It’s been almost a month since I have been usi...  \n",
       "99  *Review after 10 months of usage*\\nDoesn't see...  \n",
       "\n",
       "[100 rows x 3 columns]"
      ]
     },
     "execution_count": 205,
     "metadata": {},
     "output_type": "execute_result"
    }
   ],
   "source": [
    "import pandas as pd\n",
    "iphone=pd.DataFrame({})\n",
    "iphone['Ratings']=Rating[0:100]\n",
    "iphone['Review']=Review_summary[0:100]\n",
    "iphone['Full_reviews']=Full_review[0:100]\n",
    "iphone"
   ]
  },
  {
   "cell_type": "markdown",
   "metadata": {},
   "source": [
    "# Q8)"
   ]
  },
  {
   "cell_type": "code",
   "execution_count": 206,
   "metadata": {},
   "outputs": [],
   "source": [
    "driver=webdriver.Chrome(\"chromedriver.exe\")\n",
    "driver.get(\"https://www.flipkart.com\")"
   ]
  },
  {
   "cell_type": "code",
   "execution_count": 207,
   "metadata": {},
   "outputs": [],
   "source": [
    "search=driver.find_element_by_xpath(\"//input[@class='_3704LK']\")\n",
    "search.send_keys(\"sneakers\")"
   ]
  },
  {
   "cell_type": "code",
   "execution_count": 208,
   "metadata": {},
   "outputs": [],
   "source": [
    "button = driver.find_element_by_xpath(\"//button[@class='L0Z3Pu']\")\n",
    "button.click()"
   ]
  },
  {
   "cell_type": "code",
   "execution_count": 209,
   "metadata": {},
   "outputs": [],
   "source": [
    "Brand=[]\n",
    "Product_Description=[]\n",
    "Price=[]\n",
    "discount=[]"
   ]
  },
  {
   "cell_type": "code",
   "execution_count": null,
   "metadata": {},
   "outputs": [],
   "source": [
    "start_page=0\n",
    "end_page=2"
   ]
  },
  {
   "cell_type": "code",
   "execution_count": 210,
   "metadata": {},
   "outputs": [],
   "source": [
    "for page in range(start_page,end_page+1):\n",
    "    title=driver.find_elements_by_xpath(\"//div[@class='_2WkVRV']\")\n",
    "    title[0:4]\n",
    "    for i in title:\n",
    "        titles=i.text\n",
    "        Brand.append(titles)\n",
    "    review=driver.find_elements_by_xpath(\"//a[@class='IRpwTa']\")\n",
    "    review[0:4]\n",
    "    for i in review:\n",
    "        reviews=i.text\n",
    "        Product_Description.append(reviews)\n",
    "    Review=driver.find_elements_by_xpath(\"//div[@class='_30jeq3']\")\n",
    "    Review[0:4]\n",
    "    for i in Review:\n",
    "        Reviews=i.text\n",
    "        Price.append(Reviews)\n",
    "    Discount=driver.find_elements_by_xpath(\"//div[@class='_3Ay6Sb']\")\n",
    "    Discount[0:4]\n",
    "    for i in Discount:\n",
    "        Discounts=i.text\n",
    "        discount.append(Discounts)\n",
    "    \n",
    "    \n",
    "        nxt_button=driver.find_element_by_xpath(\"//a[@class='_1LKTO3']\")\n",
    "        if nxt_button.text=='Next':\n",
    "            nxt_button.click()\n",
    "            time.sleep(5)"
   ]
  },
  {
   "cell_type": "code",
   "execution_count": 211,
   "metadata": {},
   "outputs": [
    {
     "data": {
      "text/html": [
       "<div>\n",
       "<style scoped>\n",
       "    .dataframe tbody tr th:only-of-type {\n",
       "        vertical-align: middle;\n",
       "    }\n",
       "\n",
       "    .dataframe tbody tr th {\n",
       "        vertical-align: top;\n",
       "    }\n",
       "\n",
       "    .dataframe thead th {\n",
       "        text-align: right;\n",
       "    }\n",
       "</style>\n",
       "<table border=\"1\" class=\"dataframe\">\n",
       "  <thead>\n",
       "    <tr style=\"text-align: right;\">\n",
       "      <th></th>\n",
       "      <th>Brands</th>\n",
       "      <th>Product</th>\n",
       "      <th>Prices</th>\n",
       "      <th>Discount</th>\n",
       "    </tr>\n",
       "  </thead>\n",
       "  <tbody>\n",
       "    <tr>\n",
       "      <th>0</th>\n",
       "      <td>inklenzo</td>\n",
       "      <td>Walking Sneakers For Men</td>\n",
       "      <td>₹499</td>\n",
       "      <td>50% off</td>\n",
       "    </tr>\n",
       "    <tr>\n",
       "      <th>1</th>\n",
       "      <td>bluemaker</td>\n",
       "      <td>casual for men (blue 07) Sneakers For Men</td>\n",
       "      <td>₹521</td>\n",
       "      <td>47% off</td>\n",
       "    </tr>\n",
       "    <tr>\n",
       "      <th>2</th>\n",
       "      <td>Chevit</td>\n",
       "      <td>Combo Pack of 4 Casual Sneakers With Sneakers ...</td>\n",
       "      <td>₹474</td>\n",
       "      <td>76% off</td>\n",
       "    </tr>\n",
       "    <tr>\n",
       "      <th>3</th>\n",
       "      <td>Robbie jones</td>\n",
       "      <td>Combo Pack of 4 Latest Collection Stylish Casu...</td>\n",
       "      <td>₹399</td>\n",
       "      <td>60% off</td>\n",
       "    </tr>\n",
       "    <tr>\n",
       "      <th>4</th>\n",
       "      <td>World Wear Footwear</td>\n",
       "      <td>Combo pack of 2 casual sneaker shoes for men S...</td>\n",
       "      <td>₹474</td>\n",
       "      <td>76% off</td>\n",
       "    </tr>\n",
       "    <tr>\n",
       "      <th>...</th>\n",
       "      <td>...</td>\n",
       "      <td>...</td>\n",
       "      <td>...</td>\n",
       "      <td>...</td>\n",
       "    </tr>\n",
       "    <tr>\n",
       "      <th>95</th>\n",
       "      <td>Hotstyle</td>\n",
       "      <td>Casual Loafers, Sneakers Shoes for Men Pack of...</td>\n",
       "      <td>₹199</td>\n",
       "      <td>60% off</td>\n",
       "    </tr>\n",
       "    <tr>\n",
       "      <th>96</th>\n",
       "      <td>Axter</td>\n",
       "      <td>casual , Partywear Sneakers Shoes For Men's an...</td>\n",
       "      <td>₹299</td>\n",
       "      <td>70% off</td>\n",
       "    </tr>\n",
       "    <tr>\n",
       "      <th>97</th>\n",
       "      <td>LeatherKraft</td>\n",
       "      <td>Smart Casuals Canvas Shoes Combo pack of 2 Sne...</td>\n",
       "      <td>₹299</td>\n",
       "      <td>70% off</td>\n",
       "    </tr>\n",
       "    <tr>\n",
       "      <th>98</th>\n",
       "      <td>Chevit</td>\n",
       "      <td>168 Smart Red Lace-Ups Casuals for Men Sneaker...</td>\n",
       "      <td>₹799</td>\n",
       "      <td>67% off</td>\n",
       "    </tr>\n",
       "    <tr>\n",
       "      <th>99</th>\n",
       "      <td>Edoeviv</td>\n",
       "      <td>Combo Pack of 2 Casual Loafer Sneakers Shoes S...</td>\n",
       "      <td>₹499</td>\n",
       "      <td>37% off</td>\n",
       "    </tr>\n",
       "  </tbody>\n",
       "</table>\n",
       "<p>100 rows × 4 columns</p>\n",
       "</div>"
      ],
      "text/plain": [
       "                 Brands                                            Product  \\\n",
       "0              inklenzo                           Walking Sneakers For Men   \n",
       "1             bluemaker          casual for men (blue 07) Sneakers For Men   \n",
       "2                Chevit  Combo Pack of 4 Casual Sneakers With Sneakers ...   \n",
       "3          Robbie jones  Combo Pack of 4 Latest Collection Stylish Casu...   \n",
       "4   World Wear Footwear  Combo pack of 2 casual sneaker shoes for men S...   \n",
       "..                  ...                                                ...   \n",
       "95             Hotstyle  Casual Loafers, Sneakers Shoes for Men Pack of...   \n",
       "96                Axter  casual , Partywear Sneakers Shoes For Men's an...   \n",
       "97         LeatherKraft  Smart Casuals Canvas Shoes Combo pack of 2 Sne...   \n",
       "98               Chevit  168 Smart Red Lace-Ups Casuals for Men Sneaker...   \n",
       "99              Edoeviv  Combo Pack of 2 Casual Loafer Sneakers Shoes S...   \n",
       "\n",
       "   Prices Discount  \n",
       "0    ₹499  50% off  \n",
       "1    ₹521  47% off  \n",
       "2    ₹474  76% off  \n",
       "3    ₹399  60% off  \n",
       "4    ₹474  76% off  \n",
       "..    ...      ...  \n",
       "95   ₹199  60% off  \n",
       "96   ₹299  70% off  \n",
       "97   ₹299  70% off  \n",
       "98   ₹799  67% off  \n",
       "99   ₹499  37% off  \n",
       "\n",
       "[100 rows x 4 columns]"
      ]
     },
     "execution_count": 211,
     "metadata": {},
     "output_type": "execute_result"
    }
   ],
   "source": [
    "import pandas as pd\n",
    "sneakers=pd.DataFrame({})\n",
    "sneakers['Brands']=Brand[0:100]\n",
    "sneakers['Product']=Product_Description[0:100]\n",
    "sneakers['Prices']=Price[0:100]\n",
    "sneakers['Discount']=discount[0:100]\n",
    "sneakers"
   ]
  },
  {
   "cell_type": "markdown",
   "metadata": {},
   "source": [
    "# Q9)"
   ]
  },
  {
   "cell_type": "code",
   "execution_count": 84,
   "metadata": {},
   "outputs": [],
   "source": [
    "driver=webdriver.Chrome(\"chromedriver.exe\")\n",
    "driver.get(\"https://www.myntra.com/shoes\")"
   ]
  },
  {
   "cell_type": "code",
   "execution_count": 85,
   "metadata": {},
   "outputs": [],
   "source": [
    "button = driver.find_element_by_xpath(\"//ul[@class='price-list']//li[2]//div\")\n",
    "button.click()"
   ]
  },
  {
   "cell_type": "code",
   "execution_count": 86,
   "metadata": {},
   "outputs": [],
   "source": [
    "button = driver.find_element_by_xpath(\"//li[@class='colour-listItem']\")\n",
    "button.click()"
   ]
  },
  {
   "cell_type": "code",
   "execution_count": 87,
   "metadata": {},
   "outputs": [],
   "source": [
    "url=\"https://www.myntra.com/shoes?f=Color%3ABlack_36454f&plaEnabled=false&rf=Price%3A6657.0_13105.0_6657.0%20TO%2013105.0\"\n",
    "driver.get(url)"
   ]
  },
  {
   "cell_type": "code",
   "execution_count": 88,
   "metadata": {},
   "outputs": [],
   "source": [
    "Brand=[]\n",
    "Product_Description=[]\n",
    "Price=[]"
   ]
  },
  {
   "cell_type": "code",
   "execution_count": 89,
   "metadata": {},
   "outputs": [
    {
     "data": {
      "text/plain": [
       "['Nike', 'Nike', 'Nike', 'Nike']"
      ]
     },
     "execution_count": 89,
     "metadata": {},
     "output_type": "execute_result"
    }
   ],
   "source": [
    "title=driver.find_elements_by_xpath(\"//div[@class='product-productMetaInfo']//h3\")\n",
    "title[0:4]\n",
    "for i in title:\n",
    "    titles=i.text\n",
    "    Brand.append(titles)\n",
    "Brand[0:4]"
   ]
  },
  {
   "cell_type": "code",
   "execution_count": 90,
   "metadata": {},
   "outputs": [],
   "source": [
    "review=driver.find_elements_by_xpath(\"//div[@class='product-productMetaInfo']//h4[1]\")\n",
    "review[0:4]\n",
    "for i in review:\n",
    "    reviews=i.text\n",
    "    Product_Description.append(reviews)"
   ]
  },
  {
   "cell_type": "code",
   "execution_count": 91,
   "metadata": {},
   "outputs": [
    {
     "data": {
      "text/plain": [
       "['Rs. 11931Rs. 15495', 'Rs. 11931', 'Rs. 8236Rs. 10295', 'Rs. 8236']"
      ]
     },
     "execution_count": 91,
     "metadata": {},
     "output_type": "execute_result"
    }
   ],
   "source": [
    "Review=driver.find_elements_by_xpath(\"//div[@class='product-price']//span[1]\")\n",
    "Review[0:4]\n",
    "for i in Review:\n",
    "    Reviews=i.text\n",
    "    Price.append(Reviews)\n",
    "Price[0:4]"
   ]
  },
  {
   "cell_type": "code",
   "execution_count": 92,
   "metadata": {},
   "outputs": [
    {
     "data": {
      "text/plain": [
       "79"
      ]
     },
     "execution_count": 92,
     "metadata": {},
     "output_type": "execute_result"
    }
   ],
   "source": [
    "len(Price)"
   ]
  },
  {
   "cell_type": "code",
   "execution_count": 94,
   "metadata": {},
   "outputs": [
    {
     "data": {
      "text/html": [
       "<div>\n",
       "<style scoped>\n",
       "    .dataframe tbody tr th:only-of-type {\n",
       "        vertical-align: middle;\n",
       "    }\n",
       "\n",
       "    .dataframe tbody tr th {\n",
       "        vertical-align: top;\n",
       "    }\n",
       "\n",
       "    .dataframe thead th {\n",
       "        text-align: right;\n",
       "    }\n",
       "</style>\n",
       "<table border=\"1\" class=\"dataframe\">\n",
       "  <thead>\n",
       "    <tr style=\"text-align: right;\">\n",
       "      <th></th>\n",
       "      <th>Brands</th>\n",
       "      <th>Product</th>\n",
       "    </tr>\n",
       "  </thead>\n",
       "  <tbody>\n",
       "    <tr>\n",
       "      <th>0</th>\n",
       "      <td>Nike</td>\n",
       "      <td>Men React Infinity Running</td>\n",
       "    </tr>\n",
       "    <tr>\n",
       "      <th>1</th>\n",
       "      <td>Nike</td>\n",
       "      <td>ZOOM FREAK 2 Basketball Shoes</td>\n",
       "    </tr>\n",
       "    <tr>\n",
       "      <th>2</th>\n",
       "      <td>Nike</td>\n",
       "      <td>Men JORDAN ZOOM '92 Shoes</td>\n",
       "    </tr>\n",
       "    <tr>\n",
       "      <th>3</th>\n",
       "      <td>Nike</td>\n",
       "      <td>Men AIR ZOOM VOMERO Running</td>\n",
       "    </tr>\n",
       "    <tr>\n",
       "      <th>4</th>\n",
       "      <td>Nike</td>\n",
       "      <td>Men AIR ZOOM Running Shoes</td>\n",
       "    </tr>\n",
       "    <tr>\n",
       "      <th>5</th>\n",
       "      <td>ADIDAS</td>\n",
       "      <td>Men SOLAR DRIVE 19 M Running</td>\n",
       "    </tr>\n",
       "    <tr>\n",
       "      <th>6</th>\n",
       "      <td>Nike</td>\n",
       "      <td>Women REACT Running Shoes</td>\n",
       "    </tr>\n",
       "    <tr>\n",
       "      <th>7</th>\n",
       "      <td>Nike</td>\n",
       "      <td>Men JORDAN DELTA Basketball</td>\n",
       "    </tr>\n",
       "    <tr>\n",
       "      <th>8</th>\n",
       "      <td>Nike</td>\n",
       "      <td>AIR ZOOM PEGASUS Running Shoes</td>\n",
       "    </tr>\n",
       "    <tr>\n",
       "      <th>9</th>\n",
       "      <td>Nike</td>\n",
       "      <td>Men JOYRIDE Running Shoes</td>\n",
       "    </tr>\n",
       "    <tr>\n",
       "      <th>10</th>\n",
       "      <td>Hush Puppies</td>\n",
       "      <td>Men Solid Leather Formal Slip-Ons</td>\n",
       "    </tr>\n",
       "    <tr>\n",
       "      <th>11</th>\n",
       "      <td>Nike</td>\n",
       "      <td>Women PEGASUS 37 Running Shoes</td>\n",
       "    </tr>\n",
       "    <tr>\n",
       "      <th>12</th>\n",
       "      <td>Nike</td>\n",
       "      <td>Women AIR ZOOM Running Shoes</td>\n",
       "    </tr>\n",
       "    <tr>\n",
       "      <th>13</th>\n",
       "      <td>Nike</td>\n",
       "      <td>Men KD13 EP Basketball Shoes</td>\n",
       "    </tr>\n",
       "    <tr>\n",
       "      <th>14</th>\n",
       "      <td>Nike</td>\n",
       "      <td>Women AIR ZOOM Running Shoes</td>\n",
       "    </tr>\n",
       "    <tr>\n",
       "      <th>15</th>\n",
       "      <td>Hush Puppies</td>\n",
       "      <td>Men Solid Leather Formal Slip-Ons</td>\n",
       "    </tr>\n",
       "    <tr>\n",
       "      <th>16</th>\n",
       "      <td>Hush Puppies</td>\n",
       "      <td>Men Colourblocked Driving Shoes</td>\n",
       "    </tr>\n",
       "    <tr>\n",
       "      <th>17</th>\n",
       "      <td>ADIDAS Originals</td>\n",
       "      <td>Men NITE JOGGER Sneakers</td>\n",
       "    </tr>\n",
       "    <tr>\n",
       "      <th>18</th>\n",
       "      <td>Hush Puppies</td>\n",
       "      <td>Men Leather Slip-On Sneakers</td>\n",
       "    </tr>\n",
       "    <tr>\n",
       "      <th>19</th>\n",
       "      <td>Puma</td>\n",
       "      <td>Men SPEED 500 2 Running Shoes</td>\n",
       "    </tr>\n",
       "    <tr>\n",
       "      <th>20</th>\n",
       "      <td>ADIDAS Originals</td>\n",
       "      <td>Men Superstar Sneakers</td>\n",
       "    </tr>\n",
       "    <tr>\n",
       "      <th>21</th>\n",
       "      <td>Hush Puppies</td>\n",
       "      <td>Men Solid Slip-On Sneakers</td>\n",
       "    </tr>\n",
       "    <tr>\n",
       "      <th>22</th>\n",
       "      <td>Puma</td>\n",
       "      <td>Women Zone XT Running Shoes</td>\n",
       "    </tr>\n",
       "    <tr>\n",
       "      <th>23</th>\n",
       "      <td>Nike</td>\n",
       "      <td>Men AIR MAX VG-R Sneakers</td>\n",
       "    </tr>\n",
       "    <tr>\n",
       "      <th>24</th>\n",
       "      <td>Nike</td>\n",
       "      <td>Women AIR MAX VERONA Sneakers</td>\n",
       "    </tr>\n",
       "    <tr>\n",
       "      <th>25</th>\n",
       "      <td>Hush Puppies</td>\n",
       "      <td>Men Leather Slip-On Sneakers</td>\n",
       "    </tr>\n",
       "    <tr>\n",
       "      <th>26</th>\n",
       "      <td>ADIDAS Originals</td>\n",
       "      <td>Men Nite Jogger Fluid Sneakers</td>\n",
       "    </tr>\n",
       "    <tr>\n",
       "      <th>27</th>\n",
       "      <td>ADIDAS</td>\n",
       "      <td>Men ALPHATORSION Running Shoes</td>\n",
       "    </tr>\n",
       "    <tr>\n",
       "      <th>28</th>\n",
       "      <td>UNDER ARMOUR</td>\n",
       "      <td>HOVR Guardian 2 Sports Shoes</td>\n",
       "    </tr>\n",
       "    <tr>\n",
       "      <th>29</th>\n",
       "      <td>Nike</td>\n",
       "      <td>Men JORDAN DELTA Sneakers</td>\n",
       "    </tr>\n",
       "    <tr>\n",
       "      <th>30</th>\n",
       "      <td>UNDER ARMOUR</td>\n",
       "      <td>HOVR Sonic 3 Running Shoes</td>\n",
       "    </tr>\n",
       "    <tr>\n",
       "      <th>31</th>\n",
       "      <td>Puma</td>\n",
       "      <td>Men Running Shoes</td>\n",
       "    </tr>\n",
       "    <tr>\n",
       "      <th>32</th>\n",
       "      <td>Heel &amp; Buckle London</td>\n",
       "      <td>Men Leather Formal Oxfords</td>\n",
       "    </tr>\n",
       "    <tr>\n",
       "      <th>33</th>\n",
       "      <td>Puma</td>\n",
       "      <td>SPEED Orbiter Running Shoes</td>\n",
       "    </tr>\n",
       "    <tr>\n",
       "      <th>34</th>\n",
       "      <td>Hush Puppies</td>\n",
       "      <td>Men Textured Oxfords</td>\n",
       "    </tr>\n",
       "    <tr>\n",
       "      <th>35</th>\n",
       "      <td>ADIDAS</td>\n",
       "      <td>Men Gametalker Basketball</td>\n",
       "    </tr>\n",
       "    <tr>\n",
       "      <th>36</th>\n",
       "      <td>Ruosh</td>\n",
       "      <td>Men Formal Brogues</td>\n",
       "    </tr>\n",
       "    <tr>\n",
       "      <th>37</th>\n",
       "      <td>Cole Haan</td>\n",
       "      <td>Men Solid Sneakers</td>\n",
       "    </tr>\n",
       "    <tr>\n",
       "      <th>38</th>\n",
       "      <td>UNDER ARMOUR</td>\n",
       "      <td>Men HOVR Sonic 3 Running Shoes</td>\n",
       "    </tr>\n",
       "    <tr>\n",
       "      <th>39</th>\n",
       "      <td>UNDER ARMOUR</td>\n",
       "      <td>Men Liquify Running Shoes</td>\n",
       "    </tr>\n",
       "    <tr>\n",
       "      <th>40</th>\n",
       "      <td>Puma</td>\n",
       "      <td>Men Running Shoes</td>\n",
       "    </tr>\n",
       "    <tr>\n",
       "      <th>41</th>\n",
       "      <td>Tommy Hilfiger</td>\n",
       "      <td>Men Solid Sneakers</td>\n",
       "    </tr>\n",
       "    <tr>\n",
       "      <th>42</th>\n",
       "      <td>Heel &amp; Buckle London</td>\n",
       "      <td>Women Leather Pumps</td>\n",
       "    </tr>\n",
       "    <tr>\n",
       "      <th>43</th>\n",
       "      <td>Xtep</td>\n",
       "      <td>Men Running Shoes</td>\n",
       "    </tr>\n",
       "    <tr>\n",
       "      <th>44</th>\n",
       "      <td>Ruosh</td>\n",
       "      <td>Men Solid Leather Formal Monks</td>\n",
       "    </tr>\n",
       "    <tr>\n",
       "      <th>45</th>\n",
       "      <td>Hush Puppies</td>\n",
       "      <td>Men Leather Loafers</td>\n",
       "    </tr>\n",
       "    <tr>\n",
       "      <th>46</th>\n",
       "      <td>Cole Haan</td>\n",
       "      <td>Men Wingtip Oxford Sneakers</td>\n",
       "    </tr>\n",
       "    <tr>\n",
       "      <th>47</th>\n",
       "      <td>Cole Haan</td>\n",
       "      <td>Men Traveller Leather Penny Loafers</td>\n",
       "    </tr>\n",
       "    <tr>\n",
       "      <th>48</th>\n",
       "      <td>Saint G</td>\n",
       "      <td>Women Leather Heeled Boots</td>\n",
       "    </tr>\n",
       "    <tr>\n",
       "      <th>49</th>\n",
       "      <td>Ruosh</td>\n",
       "      <td>Men Textured Derbys</td>\n",
       "    </tr>\n",
       "  </tbody>\n",
       "</table>\n",
       "</div>"
      ],
      "text/plain": [
       "                  Brands                              Product\n",
       "0                   Nike           Men React Infinity Running\n",
       "1                   Nike        ZOOM FREAK 2 Basketball Shoes\n",
       "2                   Nike            Men JORDAN ZOOM '92 Shoes\n",
       "3                   Nike          Men AIR ZOOM VOMERO Running\n",
       "4                   Nike           Men AIR ZOOM Running Shoes\n",
       "5                 ADIDAS         Men SOLAR DRIVE 19 M Running\n",
       "6                   Nike            Women REACT Running Shoes\n",
       "7                   Nike          Men JORDAN DELTA Basketball\n",
       "8                   Nike       AIR ZOOM PEGASUS Running Shoes\n",
       "9                   Nike            Men JOYRIDE Running Shoes\n",
       "10          Hush Puppies    Men Solid Leather Formal Slip-Ons\n",
       "11                  Nike       Women PEGASUS 37 Running Shoes\n",
       "12                  Nike         Women AIR ZOOM Running Shoes\n",
       "13                  Nike         Men KD13 EP Basketball Shoes\n",
       "14                  Nike         Women AIR ZOOM Running Shoes\n",
       "15          Hush Puppies    Men Solid Leather Formal Slip-Ons\n",
       "16          Hush Puppies      Men Colourblocked Driving Shoes\n",
       "17      ADIDAS Originals             Men NITE JOGGER Sneakers\n",
       "18          Hush Puppies         Men Leather Slip-On Sneakers\n",
       "19                  Puma        Men SPEED 500 2 Running Shoes\n",
       "20      ADIDAS Originals               Men Superstar Sneakers\n",
       "21          Hush Puppies           Men Solid Slip-On Sneakers\n",
       "22                  Puma          Women Zone XT Running Shoes\n",
       "23                  Nike            Men AIR MAX VG-R Sneakers\n",
       "24                  Nike        Women AIR MAX VERONA Sneakers\n",
       "25          Hush Puppies         Men Leather Slip-On Sneakers\n",
       "26      ADIDAS Originals       Men Nite Jogger Fluid Sneakers\n",
       "27                ADIDAS       Men ALPHATORSION Running Shoes\n",
       "28          UNDER ARMOUR         HOVR Guardian 2 Sports Shoes\n",
       "29                  Nike            Men JORDAN DELTA Sneakers\n",
       "30          UNDER ARMOUR           HOVR Sonic 3 Running Shoes\n",
       "31                  Puma                    Men Running Shoes\n",
       "32  Heel & Buckle London           Men Leather Formal Oxfords\n",
       "33                  Puma          SPEED Orbiter Running Shoes\n",
       "34          Hush Puppies                 Men Textured Oxfords\n",
       "35                ADIDAS            Men Gametalker Basketball\n",
       "36                 Ruosh                   Men Formal Brogues\n",
       "37             Cole Haan                   Men Solid Sneakers\n",
       "38          UNDER ARMOUR       Men HOVR Sonic 3 Running Shoes\n",
       "39          UNDER ARMOUR            Men Liquify Running Shoes\n",
       "40                  Puma                    Men Running Shoes\n",
       "41        Tommy Hilfiger                   Men Solid Sneakers\n",
       "42  Heel & Buckle London                  Women Leather Pumps\n",
       "43                  Xtep                    Men Running Shoes\n",
       "44                 Ruosh       Men Solid Leather Formal Monks\n",
       "45          Hush Puppies                  Men Leather Loafers\n",
       "46             Cole Haan          Men Wingtip Oxford Sneakers\n",
       "47             Cole Haan  Men Traveller Leather Penny Loafers\n",
       "48               Saint G           Women Leather Heeled Boots\n",
       "49                 Ruosh                  Men Textured Derbys"
      ]
     },
     "execution_count": 94,
     "metadata": {},
     "output_type": "execute_result"
    }
   ],
   "source": [
    "import pandas as pd\n",
    "sneakers=pd.DataFrame({})\n",
    "sneakers['Brands']=Brand[0:100]\n",
    "sneakers['Product']=Product_Description[0:100]\n",
    "sneakers"
   ]
  },
  {
   "cell_type": "markdown",
   "metadata": {},
   "source": [
    "# Q10)"
   ]
  },
  {
   "cell_type": "code",
   "execution_count": 121,
   "metadata": {},
   "outputs": [],
   "source": [
    "driver=webdriver.Chrome(\"chromedriver.exe\")\n",
    "driver.get(\"https://www.amazon.in/\")"
   ]
  },
  {
   "cell_type": "code",
   "execution_count": 122,
   "metadata": {},
   "outputs": [],
   "source": [
    "search=driver.find_element_by_xpath(\"//input[@id='twotabsearchtextbox']\")\n",
    "search.send_keys(\"Laptop\")"
   ]
  },
  {
   "cell_type": "code",
   "execution_count": 123,
   "metadata": {},
   "outputs": [],
   "source": [
    "button=driver.find_element_by_xpath(\"//input[@id='nav-search-submit-button']\")\n",
    "button.click()"
   ]
  },
  {
   "cell_type": "code",
   "execution_count": 124,
   "metadata": {},
   "outputs": [],
   "source": [
    "button = driver.find_element_by_xpath(\"//ul[@class='a-unordered-list a-nostyle a-vertical a-spacing-medium']//li[9]//div//i\" and \"//ul[@class='a-unordered-list a-nostyle a-vertical a-spacing-medium']//li[10]//div//i\")\n",
    "button.click()"
   ]
  },
  {
   "cell_type": "code",
   "execution_count": 125,
   "metadata": {},
   "outputs": [],
   "source": [
    "url=\"https://www.amazon.in/s?k=Laptop&rh=n%3A1375424031%2Cp_n_feature_thirteen_browse-bin%3A16757432031&dc&qid=1613650225&rnid=12598141031&ref=sr_nr_p_n_feature_thirteen_browse-bin_10\"\n",
    "driver.get(url)"
   ]
  },
  {
   "cell_type": "code",
   "execution_count": 126,
   "metadata": {},
   "outputs": [],
   "source": [
    "title=[]\n",
    "rating=[]\n",
    "prices=[]"
   ]
  },
  {
   "cell_type": "code",
   "execution_count": 127,
   "metadata": {},
   "outputs": [
    {
     "data": {
      "text/plain": [
       "['Dell XPS 7590 15.6-inch UHD Display Laptop (9th Gen Core i9-9980HK/32GB/1TB SSD/Win 10 + MS Office/4GB Nvidia Graphics), Abyss Grey',\n",
       " 'ASUS ZenBook Pro Duo Intel Core i9-10980HK 10th Gen 15.6\" 4K UHD OLED Touchscreen Laptop (32GB RAM/1TB NVMe SSD/Windows 10/6GB NVIDIA GeForce RTX 2060 Graphics/Celestial Blue/2.5 Kg), UX581LV-H2035T',\n",
       " 'ASUS ROG Strix Scar 15 (2020), 15.6\" FHD 300Hz/3ms, Intel Core i9-10980HK 10th Gen, RTX 2070 Super 8GB Graphics, Gaming Laptop (32GB RAM/1TB NVMe SSD/Windows 10/Black/2.35 Kg), G532LWS-HF079T',\n",
       " 'HP Omen X 2S Core i9 9th Gen 15.6-inch Dual Screen Gaming Laptop (16GB/2TB SSD/Windows 10/8GB NVIDIA RTX 2080 Graphics/Shadow Black), 15-dg0019TX']"
      ]
     },
     "execution_count": 127,
     "metadata": {},
     "output_type": "execute_result"
    }
   ],
   "source": [
    "name=driver.find_elements_by_xpath(\"//h2[@class='a-size-mini a-spacing-none a-color-base s-line-clamp-2']//span\")\n",
    "name[0:4]\n",
    "for i in name:\n",
    "    names=i.text\n",
    "    title.append(names)\n",
    "title[0:4]"
   ]
  },
  {
   "cell_type": "code",
   "execution_count": 128,
   "metadata": {},
   "outputs": [
    {
     "data": {
      "text/plain": [
       "['13', '2', '3', '15']"
      ]
     },
     "execution_count": 128,
     "metadata": {},
     "output_type": "execute_result"
    }
   ],
   "source": [
    "rate=driver.find_elements_by_xpath(\"//div[@class='a-row a-size-small']//span[2]\")\n",
    "rate[0:4]\n",
    "for i in rate:\n",
    "    rates=i.text\n",
    "    rating.append(rates)\n",
    "rating[0:4]"
   ]
  },
  {
   "cell_type": "code",
   "execution_count": 129,
   "metadata": {},
   "outputs": [
    {
     "data": {
      "text/plain": [
       "['₹2,85,000', '2,85,000', '₹2,68,325', '2,68,325']"
      ]
     },
     "execution_count": 129,
     "metadata": {},
     "output_type": "execute_result"
    }
   ],
   "source": [
    "Review=driver.find_elements_by_xpath(\"//div[@class='a-row']//a//span[1]//span[2]\")\n",
    "Review[0:4]\n",
    "for i in Review:\n",
    "    Reviews=i.text\n",
    "    prices.append(Reviews)\n",
    "prices[0:4]"
   ]
  },
  {
   "cell_type": "code",
   "execution_count": 130,
   "metadata": {},
   "outputs": [
    {
     "data": {
      "text/html": [
       "<div>\n",
       "<style scoped>\n",
       "    .dataframe tbody tr th:only-of-type {\n",
       "        vertical-align: middle;\n",
       "    }\n",
       "\n",
       "    .dataframe tbody tr th {\n",
       "        vertical-align: top;\n",
       "    }\n",
       "\n",
       "    .dataframe thead th {\n",
       "        text-align: right;\n",
       "    }\n",
       "</style>\n",
       "<table border=\"1\" class=\"dataframe\">\n",
       "  <thead>\n",
       "    <tr style=\"text-align: right;\">\n",
       "      <th></th>\n",
       "      <th>Titles</th>\n",
       "      <th>Ratings</th>\n",
       "      <th>Prices</th>\n",
       "    </tr>\n",
       "  </thead>\n",
       "  <tbody>\n",
       "    <tr>\n",
       "      <th>0</th>\n",
       "      <td>Dell XPS 7590 15.6-inch UHD Display Laptop (9t...</td>\n",
       "      <td>13</td>\n",
       "      <td>₹2,85,000</td>\n",
       "    </tr>\n",
       "    <tr>\n",
       "      <th>1</th>\n",
       "      <td>ASUS ZenBook Pro Duo Intel Core i9-10980HK 10t...</td>\n",
       "      <td>2</td>\n",
       "      <td>2,85,000</td>\n",
       "    </tr>\n",
       "    <tr>\n",
       "      <th>2</th>\n",
       "      <td>ASUS ROG Strix Scar 15 (2020), 15.6\" FHD 300Hz...</td>\n",
       "      <td>3</td>\n",
       "      <td>₹2,68,325</td>\n",
       "    </tr>\n",
       "    <tr>\n",
       "      <th>3</th>\n",
       "      <td>HP Omen X 2S Core i9 9th Gen 15.6-inch Dual Sc...</td>\n",
       "      <td>15</td>\n",
       "      <td>2,68,325</td>\n",
       "    </tr>\n",
       "    <tr>\n",
       "      <th>4</th>\n",
       "      <td>Lenovo Legion 7i 10th Gen Intel Core i9 15.6 i...</td>\n",
       "      <td>2</td>\n",
       "      <td>₹1,99,980</td>\n",
       "    </tr>\n",
       "    <tr>\n",
       "      <th>5</th>\n",
       "      <td>ASUS ZenBook Pro 15, Intel Core i9-8950HK 8th ...</td>\n",
       "      <td>4</td>\n",
       "      <td>1,99,980</td>\n",
       "    </tr>\n",
       "    <tr>\n",
       "      <th>6</th>\n",
       "      <td>ASUS ROG Strix Scar 17 (2020), 17.3\" FHD 300Hz...</td>\n",
       "      <td>1</td>\n",
       "      <td>₹3,49,400</td>\n",
       "    </tr>\n",
       "    <tr>\n",
       "      <th>7</th>\n",
       "      <td>ASUS ROG Strix Scar 15 (2020), 15.6\" FHD 300Hz...</td>\n",
       "      <td>2</td>\n",
       "      <td>3,49,400</td>\n",
       "    </tr>\n",
       "    <tr>\n",
       "      <th>8</th>\n",
       "      <td>Dell G Series G7 7588 15.6-inch FHD Laptop (8t...</td>\n",
       "      <td>23</td>\n",
       "      <td>₹2,62,990</td>\n",
       "    </tr>\n",
       "    <tr>\n",
       "      <th>9</th>\n",
       "      <td>(Renewed) Dell G7 15 Gaming 7588 Laptop Intel ...</td>\n",
       "      <td>33</td>\n",
       "      <td>2,62,990</td>\n",
       "    </tr>\n",
       "  </tbody>\n",
       "</table>\n",
       "</div>"
      ],
      "text/plain": [
       "                                              Titles Ratings     Prices\n",
       "0  Dell XPS 7590 15.6-inch UHD Display Laptop (9t...      13  ₹2,85,000\n",
       "1  ASUS ZenBook Pro Duo Intel Core i9-10980HK 10t...       2   2,85,000\n",
       "2  ASUS ROG Strix Scar 15 (2020), 15.6\" FHD 300Hz...       3  ₹2,68,325\n",
       "3  HP Omen X 2S Core i9 9th Gen 15.6-inch Dual Sc...      15   2,68,325\n",
       "4  Lenovo Legion 7i 10th Gen Intel Core i9 15.6 i...       2  ₹1,99,980\n",
       "5  ASUS ZenBook Pro 15, Intel Core i9-8950HK 8th ...       4   1,99,980\n",
       "6  ASUS ROG Strix Scar 17 (2020), 17.3\" FHD 300Hz...       1  ₹3,49,400\n",
       "7  ASUS ROG Strix Scar 15 (2020), 15.6\" FHD 300Hz...       2   3,49,400\n",
       "8  Dell G Series G7 7588 15.6-inch FHD Laptop (8t...      23  ₹2,62,990\n",
       "9  (Renewed) Dell G7 15 Gaming 7588 Laptop Intel ...      33   2,62,990"
      ]
     },
     "execution_count": 130,
     "metadata": {},
     "output_type": "execute_result"
    }
   ],
   "source": [
    "import pandas as pd\n",
    "Laptop=pd.DataFrame({})\n",
    "Laptop['Titles']=title[0:10]\n",
    "Laptop['Ratings']=rating[0:10]\n",
    "Laptop['Prices']=prices[0:10]\n",
    "Laptop"
   ]
  },
  {
   "cell_type": "code",
   "execution_count": null,
   "metadata": {},
   "outputs": [],
   "source": []
  },
  {
   "cell_type": "code",
   "execution_count": null,
   "metadata": {},
   "outputs": [],
   "source": []
  }
 ],
 "metadata": {
  "kernelspec": {
   "display_name": "Python 3",
   "language": "python",
   "name": "python3"
  },
  "language_info": {
   "codemirror_mode": {
    "name": "ipython",
    "version": 3
   },
   "file_extension": ".py",
   "mimetype": "text/x-python",
   "name": "python",
   "nbconvert_exporter": "python",
   "pygments_lexer": "ipython3",
   "version": "3.8.3"
  }
 },
 "nbformat": 4,
 "nbformat_minor": 4
}
