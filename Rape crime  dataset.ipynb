{
 "cells": [
  {
   "cell_type": "code",
   "execution_count": 2,
   "metadata": {},
   "outputs": [],
   "source": [
    "import pandas as pd \n",
    "import numpy as np\n",
    "import sklearn\n",
    "import seaborn as sns\n",
    "import matplotlib.pyplot as plt\n",
    "import warnings\n",
    "warnings.filterwarnings('ignore')"
   ]
  },
  {
   "cell_type": "code",
   "execution_count": 3,
   "metadata": {},
   "outputs": [
    {
     "data": {
      "text/html": [
       "<div>\n",
       "<style scoped>\n",
       "    .dataframe tbody tr th:only-of-type {\n",
       "        vertical-align: middle;\n",
       "    }\n",
       "\n",
       "    .dataframe tbody tr th {\n",
       "        vertical-align: top;\n",
       "    }\n",
       "\n",
       "    .dataframe thead th {\n",
       "        text-align: right;\n",
       "    }\n",
       "</style>\n",
       "<table border=\"1\" class=\"dataframe\">\n",
       "  <thead>\n",
       "    <tr style=\"text-align: right;\">\n",
       "      <th></th>\n",
       "      <th>Area_Name</th>\n",
       "      <th>Year</th>\n",
       "      <th>Subgroup</th>\n",
       "      <th>Rape_Cases_Reported</th>\n",
       "      <th>Victims_Above_50_Yrs</th>\n",
       "      <th>Victims_Between_10-14_Yrs</th>\n",
       "      <th>Victims_Between_14-18_Yrs</th>\n",
       "      <th>Victims_Between_18-30_Yrs</th>\n",
       "      <th>Victims_Between_30-50_Yrs</th>\n",
       "      <th>Victims_of_Rape_Total</th>\n",
       "      <th>Victims_Upto_10_Yrs</th>\n",
       "    </tr>\n",
       "  </thead>\n",
       "  <tbody>\n",
       "    <tr>\n",
       "      <th>0</th>\n",
       "      <td>Andaman &amp; Nicobar Islands</td>\n",
       "      <td>2001</td>\n",
       "      <td>Total Rape Victims</td>\n",
       "      <td>3</td>\n",
       "      <td>0</td>\n",
       "      <td>0</td>\n",
       "      <td>3</td>\n",
       "      <td>0</td>\n",
       "      <td>0</td>\n",
       "      <td>3</td>\n",
       "      <td>0</td>\n",
       "    </tr>\n",
       "    <tr>\n",
       "      <th>1</th>\n",
       "      <td>Andaman &amp; Nicobar Islands</td>\n",
       "      <td>2001</td>\n",
       "      <td>Victims of Incest Rape</td>\n",
       "      <td>1</td>\n",
       "      <td>0</td>\n",
       "      <td>0</td>\n",
       "      <td>1</td>\n",
       "      <td>0</td>\n",
       "      <td>0</td>\n",
       "      <td>1</td>\n",
       "      <td>0</td>\n",
       "    </tr>\n",
       "    <tr>\n",
       "      <th>2</th>\n",
       "      <td>Andaman &amp; Nicobar Islands</td>\n",
       "      <td>2001</td>\n",
       "      <td>Victims of Other Rape</td>\n",
       "      <td>2</td>\n",
       "      <td>0</td>\n",
       "      <td>0</td>\n",
       "      <td>2</td>\n",
       "      <td>0</td>\n",
       "      <td>0</td>\n",
       "      <td>2</td>\n",
       "      <td>0</td>\n",
       "    </tr>\n",
       "    <tr>\n",
       "      <th>3</th>\n",
       "      <td>Andaman &amp; Nicobar Islands</td>\n",
       "      <td>2002</td>\n",
       "      <td>Total Rape Victims</td>\n",
       "      <td>2</td>\n",
       "      <td>0</td>\n",
       "      <td>0</td>\n",
       "      <td>1</td>\n",
       "      <td>1</td>\n",
       "      <td>0</td>\n",
       "      <td>2</td>\n",
       "      <td>0</td>\n",
       "    </tr>\n",
       "    <tr>\n",
       "      <th>4</th>\n",
       "      <td>Andaman &amp; Nicobar Islands</td>\n",
       "      <td>2002</td>\n",
       "      <td>Victims of Incest Rape</td>\n",
       "      <td>0</td>\n",
       "      <td>0</td>\n",
       "      <td>0</td>\n",
       "      <td>0</td>\n",
       "      <td>0</td>\n",
       "      <td>0</td>\n",
       "      <td>0</td>\n",
       "      <td>0</td>\n",
       "    </tr>\n",
       "    <tr>\n",
       "      <th>...</th>\n",
       "      <td>...</td>\n",
       "      <td>...</td>\n",
       "      <td>...</td>\n",
       "      <td>...</td>\n",
       "      <td>...</td>\n",
       "      <td>...</td>\n",
       "      <td>...</td>\n",
       "      <td>...</td>\n",
       "      <td>...</td>\n",
       "      <td>...</td>\n",
       "      <td>...</td>\n",
       "    </tr>\n",
       "    <tr>\n",
       "      <th>1045</th>\n",
       "      <td>West Bengal</td>\n",
       "      <td>2009</td>\n",
       "      <td>Victims of Incest Rape</td>\n",
       "      <td>3</td>\n",
       "      <td>0</td>\n",
       "      <td>0</td>\n",
       "      <td>1</td>\n",
       "      <td>1</td>\n",
       "      <td>1</td>\n",
       "      <td>3</td>\n",
       "      <td>0</td>\n",
       "    </tr>\n",
       "    <tr>\n",
       "      <th>1046</th>\n",
       "      <td>West Bengal</td>\n",
       "      <td>2009</td>\n",
       "      <td>Victims of Other Rape</td>\n",
       "      <td>2333</td>\n",
       "      <td>0</td>\n",
       "      <td>18</td>\n",
       "      <td>84</td>\n",
       "      <td>1834</td>\n",
       "      <td>391</td>\n",
       "      <td>2333</td>\n",
       "      <td>6</td>\n",
       "    </tr>\n",
       "    <tr>\n",
       "      <th>1047</th>\n",
       "      <td>West Bengal</td>\n",
       "      <td>2010</td>\n",
       "      <td>Total Rape Victims</td>\n",
       "      <td>2311</td>\n",
       "      <td>0</td>\n",
       "      <td>22</td>\n",
       "      <td>51</td>\n",
       "      <td>1779</td>\n",
       "      <td>459</td>\n",
       "      <td>2311</td>\n",
       "      <td>0</td>\n",
       "    </tr>\n",
       "    <tr>\n",
       "      <th>1048</th>\n",
       "      <td>West Bengal</td>\n",
       "      <td>2010</td>\n",
       "      <td>Victims of Incest Rape</td>\n",
       "      <td>4</td>\n",
       "      <td>0</td>\n",
       "      <td>1</td>\n",
       "      <td>0</td>\n",
       "      <td>2</td>\n",
       "      <td>1</td>\n",
       "      <td>4</td>\n",
       "      <td>0</td>\n",
       "    </tr>\n",
       "    <tr>\n",
       "      <th>1049</th>\n",
       "      <td>West Bengal</td>\n",
       "      <td>2010</td>\n",
       "      <td>Victims of Other Rape</td>\n",
       "      <td>2307</td>\n",
       "      <td>0</td>\n",
       "      <td>21</td>\n",
       "      <td>51</td>\n",
       "      <td>1777</td>\n",
       "      <td>458</td>\n",
       "      <td>2307</td>\n",
       "      <td>0</td>\n",
       "    </tr>\n",
       "  </tbody>\n",
       "</table>\n",
       "<p>1050 rows × 11 columns</p>\n",
       "</div>"
      ],
      "text/plain": [
       "                      Area_Name  Year                Subgroup  \\\n",
       "0     Andaman & Nicobar Islands  2001      Total Rape Victims   \n",
       "1     Andaman & Nicobar Islands  2001  Victims of Incest Rape   \n",
       "2     Andaman & Nicobar Islands  2001   Victims of Other Rape   \n",
       "3     Andaman & Nicobar Islands  2002      Total Rape Victims   \n",
       "4     Andaman & Nicobar Islands  2002  Victims of Incest Rape   \n",
       "...                         ...   ...                     ...   \n",
       "1045                West Bengal  2009  Victims of Incest Rape   \n",
       "1046                West Bengal  2009   Victims of Other Rape   \n",
       "1047                West Bengal  2010      Total Rape Victims   \n",
       "1048                West Bengal  2010  Victims of Incest Rape   \n",
       "1049                West Bengal  2010   Victims of Other Rape   \n",
       "\n",
       "      Rape_Cases_Reported  Victims_Above_50_Yrs  Victims_Between_10-14_Yrs  \\\n",
       "0                       3                     0                          0   \n",
       "1                       1                     0                          0   \n",
       "2                       2                     0                          0   \n",
       "3                       2                     0                          0   \n",
       "4                       0                     0                          0   \n",
       "...                   ...                   ...                        ...   \n",
       "1045                    3                     0                          0   \n",
       "1046                 2333                     0                         18   \n",
       "1047                 2311                     0                         22   \n",
       "1048                    4                     0                          1   \n",
       "1049                 2307                     0                         21   \n",
       "\n",
       "      Victims_Between_14-18_Yrs  Victims_Between_18-30_Yrs  \\\n",
       "0                             3                          0   \n",
       "1                             1                          0   \n",
       "2                             2                          0   \n",
       "3                             1                          1   \n",
       "4                             0                          0   \n",
       "...                         ...                        ...   \n",
       "1045                          1                          1   \n",
       "1046                         84                       1834   \n",
       "1047                         51                       1779   \n",
       "1048                          0                          2   \n",
       "1049                         51                       1777   \n",
       "\n",
       "      Victims_Between_30-50_Yrs  Victims_of_Rape_Total  Victims_Upto_10_Yrs  \n",
       "0                             0                      3                    0  \n",
       "1                             0                      1                    0  \n",
       "2                             0                      2                    0  \n",
       "3                             0                      2                    0  \n",
       "4                             0                      0                    0  \n",
       "...                         ...                    ...                  ...  \n",
       "1045                          1                      3                    0  \n",
       "1046                        391                   2333                    6  \n",
       "1047                        459                   2311                    0  \n",
       "1048                          1                      4                    0  \n",
       "1049                        458                   2307                    0  \n",
       "\n",
       "[1050 rows x 11 columns]"
      ]
     },
     "execution_count": 3,
     "metadata": {},
     "output_type": "execute_result"
    }
   ],
   "source": [
    "df=pd.read_csv(r'D:\\data\\rape.csv')\n",
    "df"
   ]
  },
  {
   "cell_type": "code",
   "execution_count": 4,
   "metadata": {},
   "outputs": [
    {
     "data": {
      "text/plain": [
       "(1050, 11)"
      ]
     },
     "execution_count": 4,
     "metadata": {},
     "output_type": "execute_result"
    }
   ],
   "source": [
    "df.shape"
   ]
  },
  {
   "cell_type": "code",
   "execution_count": 5,
   "metadata": {},
   "outputs": [
    {
     "data": {
      "text/plain": [
       "Index(['Area_Name', 'Year', 'Subgroup', 'Rape_Cases_Reported',\n",
       "       'Victims_Above_50_Yrs', 'Victims_Between_10-14_Yrs',\n",
       "       'Victims_Between_14-18_Yrs', 'Victims_Between_18-30_Yrs',\n",
       "       'Victims_Between_30-50_Yrs', 'Victims_of_Rape_Total',\n",
       "       'Victims_Upto_10_Yrs'],\n",
       "      dtype='object')"
      ]
     },
     "execution_count": 5,
     "metadata": {},
     "output_type": "execute_result"
    }
   ],
   "source": [
    "df.columns"
   ]
  },
  {
   "cell_type": "code",
   "execution_count": 6,
   "metadata": {},
   "outputs": [
    {
     "data": {
      "text/plain": [
       "Area_Name                    object\n",
       "Year                          int64\n",
       "Subgroup                     object\n",
       "Rape_Cases_Reported           int64\n",
       "Victims_Above_50_Yrs          int64\n",
       "Victims_Between_10-14_Yrs     int64\n",
       "Victims_Between_14-18_Yrs     int64\n",
       "Victims_Between_18-30_Yrs     int64\n",
       "Victims_Between_30-50_Yrs     int64\n",
       "Victims_of_Rape_Total         int64\n",
       "Victims_Upto_10_Yrs           int64\n",
       "dtype: object"
      ]
     },
     "execution_count": 6,
     "metadata": {},
     "output_type": "execute_result"
    }
   ],
   "source": [
    "df.dtypes"
   ]
  },
  {
   "cell_type": "code",
   "execution_count": 7,
   "metadata": {},
   "outputs": [
    {
     "data": {
      "text/html": [
       "<div>\n",
       "<style scoped>\n",
       "    .dataframe tbody tr th:only-of-type {\n",
       "        vertical-align: middle;\n",
       "    }\n",
       "\n",
       "    .dataframe tbody tr th {\n",
       "        vertical-align: top;\n",
       "    }\n",
       "\n",
       "    .dataframe thead th {\n",
       "        text-align: right;\n",
       "    }\n",
       "</style>\n",
       "<table border=\"1\" class=\"dataframe\">\n",
       "  <thead>\n",
       "    <tr style=\"text-align: right;\">\n",
       "      <th></th>\n",
       "      <th>Area_Name</th>\n",
       "      <th>Year</th>\n",
       "      <th>Subgroup</th>\n",
       "      <th>Rape_Cases_Reported</th>\n",
       "      <th>Victims_Above_50_Yrs</th>\n",
       "      <th>Victims_Between_10-14_Yrs</th>\n",
       "      <th>Victims_Between_14-18_Yrs</th>\n",
       "      <th>Victims_Between_18-30_Yrs</th>\n",
       "      <th>Victims_Between_30-50_Yrs</th>\n",
       "      <th>Victims_of_Rape_Total</th>\n",
       "      <th>Victims_Upto_10_Yrs</th>\n",
       "    </tr>\n",
       "  </thead>\n",
       "  <tbody>\n",
       "    <tr>\n",
       "      <th>0</th>\n",
       "      <td>False</td>\n",
       "      <td>False</td>\n",
       "      <td>False</td>\n",
       "      <td>False</td>\n",
       "      <td>False</td>\n",
       "      <td>False</td>\n",
       "      <td>False</td>\n",
       "      <td>False</td>\n",
       "      <td>False</td>\n",
       "      <td>False</td>\n",
       "      <td>False</td>\n",
       "    </tr>\n",
       "    <tr>\n",
       "      <th>1</th>\n",
       "      <td>False</td>\n",
       "      <td>False</td>\n",
       "      <td>False</td>\n",
       "      <td>False</td>\n",
       "      <td>False</td>\n",
       "      <td>False</td>\n",
       "      <td>False</td>\n",
       "      <td>False</td>\n",
       "      <td>False</td>\n",
       "      <td>False</td>\n",
       "      <td>False</td>\n",
       "    </tr>\n",
       "    <tr>\n",
       "      <th>2</th>\n",
       "      <td>False</td>\n",
       "      <td>False</td>\n",
       "      <td>False</td>\n",
       "      <td>False</td>\n",
       "      <td>False</td>\n",
       "      <td>False</td>\n",
       "      <td>False</td>\n",
       "      <td>False</td>\n",
       "      <td>False</td>\n",
       "      <td>False</td>\n",
       "      <td>False</td>\n",
       "    </tr>\n",
       "    <tr>\n",
       "      <th>3</th>\n",
       "      <td>False</td>\n",
       "      <td>False</td>\n",
       "      <td>False</td>\n",
       "      <td>False</td>\n",
       "      <td>False</td>\n",
       "      <td>False</td>\n",
       "      <td>False</td>\n",
       "      <td>False</td>\n",
       "      <td>False</td>\n",
       "      <td>False</td>\n",
       "      <td>False</td>\n",
       "    </tr>\n",
       "    <tr>\n",
       "      <th>4</th>\n",
       "      <td>False</td>\n",
       "      <td>False</td>\n",
       "      <td>False</td>\n",
       "      <td>False</td>\n",
       "      <td>False</td>\n",
       "      <td>False</td>\n",
       "      <td>False</td>\n",
       "      <td>False</td>\n",
       "      <td>False</td>\n",
       "      <td>False</td>\n",
       "      <td>False</td>\n",
       "    </tr>\n",
       "  </tbody>\n",
       "</table>\n",
       "</div>"
      ],
      "text/plain": [
       "   Area_Name   Year  Subgroup  Rape_Cases_Reported  Victims_Above_50_Yrs  \\\n",
       "0      False  False     False                False                 False   \n",
       "1      False  False     False                False                 False   \n",
       "2      False  False     False                False                 False   \n",
       "3      False  False     False                False                 False   \n",
       "4      False  False     False                False                 False   \n",
       "\n",
       "   Victims_Between_10-14_Yrs  Victims_Between_14-18_Yrs  \\\n",
       "0                      False                      False   \n",
       "1                      False                      False   \n",
       "2                      False                      False   \n",
       "3                      False                      False   \n",
       "4                      False                      False   \n",
       "\n",
       "   Victims_Between_18-30_Yrs  Victims_Between_30-50_Yrs  \\\n",
       "0                      False                      False   \n",
       "1                      False                      False   \n",
       "2                      False                      False   \n",
       "3                      False                      False   \n",
       "4                      False                      False   \n",
       "\n",
       "   Victims_of_Rape_Total  Victims_Upto_10_Yrs  \n",
       "0                  False                False  \n",
       "1                  False                False  \n",
       "2                  False                False  \n",
       "3                  False                False  \n",
       "4                  False                False  "
      ]
     },
     "execution_count": 7,
     "metadata": {},
     "output_type": "execute_result"
    }
   ],
   "source": [
    "df.isnull().head()"
   ]
  },
  {
   "cell_type": "code",
   "execution_count": 8,
   "metadata": {},
   "outputs": [
    {
     "data": {
      "text/plain": [
       "Area_Name                    0\n",
       "Year                         0\n",
       "Subgroup                     0\n",
       "Rape_Cases_Reported          0\n",
       "Victims_Above_50_Yrs         0\n",
       "Victims_Between_10-14_Yrs    0\n",
       "Victims_Between_14-18_Yrs    0\n",
       "Victims_Between_18-30_Yrs    0\n",
       "Victims_Between_30-50_Yrs    0\n",
       "Victims_of_Rape_Total        0\n",
       "Victims_Upto_10_Yrs          0\n",
       "dtype: int64"
      ]
     },
     "execution_count": 8,
     "metadata": {},
     "output_type": "execute_result"
    }
   ],
   "source": [
    "df.isnull().sum()"
   ]
  },
  {
   "cell_type": "code",
   "execution_count": 9,
   "metadata": {},
   "outputs": [
    {
     "data": {
      "text/html": [
       "<div>\n",
       "<style scoped>\n",
       "    .dataframe tbody tr th:only-of-type {\n",
       "        vertical-align: middle;\n",
       "    }\n",
       "\n",
       "    .dataframe tbody tr th {\n",
       "        vertical-align: top;\n",
       "    }\n",
       "\n",
       "    .dataframe thead th {\n",
       "        text-align: right;\n",
       "    }\n",
       "</style>\n",
       "<table border=\"1\" class=\"dataframe\">\n",
       "  <thead>\n",
       "    <tr style=\"text-align: right;\">\n",
       "      <th></th>\n",
       "      <th>Area_Name</th>\n",
       "      <th>Year</th>\n",
       "      <th>Victims_of_Rape_Total</th>\n",
       "    </tr>\n",
       "  </thead>\n",
       "  <tbody>\n",
       "    <tr>\n",
       "      <th>0</th>\n",
       "      <td>Andaman &amp; Nicobar Islands</td>\n",
       "      <td>2001</td>\n",
       "      <td>3</td>\n",
       "    </tr>\n",
       "    <tr>\n",
       "      <th>1</th>\n",
       "      <td>Andaman &amp; Nicobar Islands</td>\n",
       "      <td>2001</td>\n",
       "      <td>1</td>\n",
       "    </tr>\n",
       "    <tr>\n",
       "      <th>2</th>\n",
       "      <td>Andaman &amp; Nicobar Islands</td>\n",
       "      <td>2001</td>\n",
       "      <td>2</td>\n",
       "    </tr>\n",
       "    <tr>\n",
       "      <th>3</th>\n",
       "      <td>Andaman &amp; Nicobar Islands</td>\n",
       "      <td>2002</td>\n",
       "      <td>2</td>\n",
       "    </tr>\n",
       "    <tr>\n",
       "      <th>4</th>\n",
       "      <td>Andaman &amp; Nicobar Islands</td>\n",
       "      <td>2002</td>\n",
       "      <td>0</td>\n",
       "    </tr>\n",
       "  </tbody>\n",
       "</table>\n",
       "</div>"
      ],
      "text/plain": [
       "                   Area_Name  Year  Victims_of_Rape_Total\n",
       "0  Andaman & Nicobar Islands  2001                      3\n",
       "1  Andaman & Nicobar Islands  2001                      1\n",
       "2  Andaman & Nicobar Islands  2001                      2\n",
       "3  Andaman & Nicobar Islands  2002                      2\n",
       "4  Andaman & Nicobar Islands  2002                      0"
      ]
     },
     "execution_count": 9,
     "metadata": {},
     "output_type": "execute_result"
    }
   ],
   "source": [
    "df[['Area_Name','Year','Victims_of_Rape_Total']].head()"
   ]
  },
  {
   "cell_type": "code",
   "execution_count": 10,
   "metadata": {},
   "outputs": [
    {
     "data": {
      "text/html": [
       "<div>\n",
       "<style scoped>\n",
       "    .dataframe tbody tr th:only-of-type {\n",
       "        vertical-align: middle;\n",
       "    }\n",
       "\n",
       "    .dataframe tbody tr th {\n",
       "        vertical-align: top;\n",
       "    }\n",
       "\n",
       "    .dataframe thead th {\n",
       "        text-align: right;\n",
       "    }\n",
       "</style>\n",
       "<table border=\"1\" class=\"dataframe\">\n",
       "  <thead>\n",
       "    <tr style=\"text-align: right;\">\n",
       "      <th></th>\n",
       "      <th>Area_Name</th>\n",
       "      <th>Year</th>\n",
       "      <th>Victims_of_Rape_Total</th>\n",
       "    </tr>\n",
       "  </thead>\n",
       "  <tbody>\n",
       "    <tr>\n",
       "      <th>0</th>\n",
       "      <td>Andaman &amp; Nicobar Islands</td>\n",
       "      <td>2001</td>\n",
       "      <td>6</td>\n",
       "    </tr>\n",
       "    <tr>\n",
       "      <th>1</th>\n",
       "      <td>Andaman &amp; Nicobar Islands</td>\n",
       "      <td>2002</td>\n",
       "      <td>4</td>\n",
       "    </tr>\n",
       "    <tr>\n",
       "      <th>2</th>\n",
       "      <td>Andaman &amp; Nicobar Islands</td>\n",
       "      <td>2003</td>\n",
       "      <td>4</td>\n",
       "    </tr>\n",
       "    <tr>\n",
       "      <th>3</th>\n",
       "      <td>Andaman &amp; Nicobar Islands</td>\n",
       "      <td>2004</td>\n",
       "      <td>20</td>\n",
       "    </tr>\n",
       "    <tr>\n",
       "      <th>4</th>\n",
       "      <td>Andaman &amp; Nicobar Islands</td>\n",
       "      <td>2005</td>\n",
       "      <td>8</td>\n",
       "    </tr>\n",
       "  </tbody>\n",
       "</table>\n",
       "</div>"
      ],
      "text/plain": [
       "                   Area_Name  Year  Victims_of_Rape_Total\n",
       "0  Andaman & Nicobar Islands  2001                      6\n",
       "1  Andaman & Nicobar Islands  2002                      4\n",
       "2  Andaman & Nicobar Islands  2003                      4\n",
       "3  Andaman & Nicobar Islands  2004                     20\n",
       "4  Andaman & Nicobar Islands  2005                      8"
      ]
     },
     "execution_count": 10,
     "metadata": {},
     "output_type": "execute_result"
    }
   ],
   "source": [
    "b=df.groupby(['Area_Name','Year'])['Victims_of_Rape_Total'].sum().reset_index().head()\n",
    "b"
   ]
  },
  {
   "cell_type": "code",
   "execution_count": 11,
   "metadata": {},
   "outputs": [
    {
     "data": {
      "text/html": [
       "<div>\n",
       "<style scoped>\n",
       "    .dataframe tbody tr th:only-of-type {\n",
       "        vertical-align: middle;\n",
       "    }\n",
       "\n",
       "    .dataframe tbody tr th {\n",
       "        vertical-align: top;\n",
       "    }\n",
       "\n",
       "    .dataframe thead th {\n",
       "        text-align: right;\n",
       "    }\n",
       "</style>\n",
       "<table border=\"1\" class=\"dataframe\">\n",
       "  <thead>\n",
       "    <tr style=\"text-align: right;\">\n",
       "      <th></th>\n",
       "      <th>Area_Name</th>\n",
       "      <th>Victims_of_Rape_Total</th>\n",
       "    </tr>\n",
       "  </thead>\n",
       "  <tbody>\n",
       "    <tr>\n",
       "      <th>0</th>\n",
       "      <td>Andaman &amp; Nicobar Islands</td>\n",
       "      <td>168</td>\n",
       "    </tr>\n",
       "    <tr>\n",
       "      <th>1</th>\n",
       "      <td>Andhra Pradesh</td>\n",
       "      <td>21392</td>\n",
       "    </tr>\n",
       "    <tr>\n",
       "      <th>2</th>\n",
       "      <td>Arunachal Pradesh</td>\n",
       "      <td>824</td>\n",
       "    </tr>\n",
       "    <tr>\n",
       "      <th>3</th>\n",
       "      <td>Assam</td>\n",
       "      <td>25524</td>\n",
       "    </tr>\n",
       "    <tr>\n",
       "      <th>4</th>\n",
       "      <td>Bihar</td>\n",
       "      <td>22526</td>\n",
       "    </tr>\n",
       "  </tbody>\n",
       "</table>\n",
       "</div>"
      ],
      "text/plain": [
       "                   Area_Name  Victims_of_Rape_Total\n",
       "0  Andaman & Nicobar Islands                    168\n",
       "1             Andhra Pradesh                  21392\n",
       "2          Arunachal Pradesh                    824\n",
       "3                      Assam                  25524\n",
       "4                      Bihar                  22526"
      ]
     },
     "execution_count": 11,
     "metadata": {},
     "output_type": "execute_result"
    }
   ],
   "source": [
    "s=df.groupby(['Area_Name'])['Victims_of_Rape_Total'].sum().reset_index()\n",
    "s.head()"
   ]
  },
  {
   "cell_type": "code",
   "execution_count": 12,
   "metadata": {
    "scrolled": true
   },
   "outputs": [
    {
     "data": {
      "text/html": [
       "<div>\n",
       "<style scoped>\n",
       "    .dataframe tbody tr th:only-of-type {\n",
       "        vertical-align: middle;\n",
       "    }\n",
       "\n",
       "    .dataframe tbody tr th {\n",
       "        vertical-align: top;\n",
       "    }\n",
       "\n",
       "    .dataframe thead th {\n",
       "        text-align: right;\n",
       "    }\n",
       "</style>\n",
       "<table border=\"1\" class=\"dataframe\">\n",
       "  <thead>\n",
       "    <tr style=\"text-align: right;\">\n",
       "      <th></th>\n",
       "      <th>Area_Name</th>\n",
       "      <th>Victims_of_Rape_Total</th>\n",
       "    </tr>\n",
       "  </thead>\n",
       "  <tbody>\n",
       "    <tr>\n",
       "      <th>19</th>\n",
       "      <td>Madhya Pradesh</td>\n",
       "      <td>58514</td>\n",
       "    </tr>\n",
       "    <tr>\n",
       "      <th>34</th>\n",
       "      <td>West Bengal</td>\n",
       "      <td>32756</td>\n",
       "    </tr>\n",
       "    <tr>\n",
       "      <th>32</th>\n",
       "      <td>Uttar Pradesh</td>\n",
       "      <td>30106</td>\n",
       "    </tr>\n",
       "    <tr>\n",
       "      <th>20</th>\n",
       "      <td>Maharashtra</td>\n",
       "      <td>29010</td>\n",
       "    </tr>\n",
       "    <tr>\n",
       "      <th>3</th>\n",
       "      <td>Assam</td>\n",
       "      <td>25524</td>\n",
       "    </tr>\n",
       "    <tr>\n",
       "      <th>28</th>\n",
       "      <td>Rajasthan</td>\n",
       "      <td>23908</td>\n",
       "    </tr>\n",
       "    <tr>\n",
       "      <th>4</th>\n",
       "      <td>Bihar</td>\n",
       "      <td>22526</td>\n",
       "    </tr>\n",
       "    <tr>\n",
       "      <th>1</th>\n",
       "      <td>Andhra Pradesh</td>\n",
       "      <td>21392</td>\n",
       "    </tr>\n",
       "    <tr>\n",
       "      <th>6</th>\n",
       "      <td>Chhattisgarh</td>\n",
       "      <td>19502</td>\n",
       "    </tr>\n",
       "    <tr>\n",
       "      <th>25</th>\n",
       "      <td>Odisha</td>\n",
       "      <td>17720</td>\n",
       "    </tr>\n",
       "  </tbody>\n",
       "</table>\n",
       "</div>"
      ],
      "text/plain": [
       "         Area_Name  Victims_of_Rape_Total\n",
       "19  Madhya Pradesh                  58514\n",
       "34     West Bengal                  32756\n",
       "32   Uttar Pradesh                  30106\n",
       "20     Maharashtra                  29010\n",
       "3            Assam                  25524\n",
       "28       Rajasthan                  23908\n",
       "4            Bihar                  22526\n",
       "1   Andhra Pradesh                  21392\n",
       "6     Chhattisgarh                  19502\n",
       "25          Odisha                  17720"
      ]
     },
     "execution_count": 12,
     "metadata": {},
     "output_type": "execute_result"
    }
   ],
   "source": [
    "top=s.sort_values(by='Victims_of_Rape_Total', ascending=False).head(10)                #Top 10 States in Rape cases\n",
    "top"
   ]
  },
  {
   "cell_type": "code",
   "execution_count": 13,
   "metadata": {},
   "outputs": [
    {
     "data": {
      "text/plain": [
       "<matplotlib.axes._subplots.AxesSubplot at 0x1e70ac89250>"
      ]
     },
     "execution_count": 13,
     "metadata": {},
     "output_type": "execute_result"
    },
    {
     "data": {
      "image/png": "[encoded data removed]",
      "text/plain": [
       "<Figure size 432x288 with 1 Axes>"
      ]
     },
     "metadata": {
      "needs_background": "light"
     },
     "output_type": "display_data"
    }
   ],
   "source": [
    "top.plot('Area_Name','Victims_of_Rape_Total',kind='bar')  "
   ]
  },
  {
   "cell_type": "code",
   "execution_count": 14,
   "metadata": {},
   "outputs": [
    {
     "data": {
      "text/html": [
       "<div>\n",
       "<style scoped>\n",
       "    .dataframe tbody tr th:only-of-type {\n",
       "        vertical-align: middle;\n",
       "    }\n",
       "\n",
       "    .dataframe tbody tr th {\n",
       "        vertical-align: top;\n",
       "    }\n",
       "\n",
       "    .dataframe thead th {\n",
       "        text-align: right;\n",
       "    }\n",
       "</style>\n",
       "<table border=\"1\" class=\"dataframe\">\n",
       "  <thead>\n",
       "    <tr style=\"text-align: right;\">\n",
       "      <th></th>\n",
       "      <th>Area_Name</th>\n",
       "      <th>Victims_of_Rape_Total</th>\n",
       "    </tr>\n",
       "  </thead>\n",
       "  <tbody>\n",
       "    <tr>\n",
       "      <th>18</th>\n",
       "      <td>Lakshadweep</td>\n",
       "      <td>14</td>\n",
       "    </tr>\n",
       "    <tr>\n",
       "      <th>8</th>\n",
       "      <td>Daman &amp; Diu</td>\n",
       "      <td>28</td>\n",
       "    </tr>\n",
       "    <tr>\n",
       "      <th>7</th>\n",
       "      <td>Dadra &amp; Nagar Haveli</td>\n",
       "      <td>98</td>\n",
       "    </tr>\n",
       "    <tr>\n",
       "      <th>26</th>\n",
       "      <td>Puducherry</td>\n",
       "      <td>114</td>\n",
       "    </tr>\n",
       "    <tr>\n",
       "      <th>0</th>\n",
       "      <td>Andaman &amp; Nicobar Islands</td>\n",
       "      <td>168</td>\n",
       "    </tr>\n",
       "    <tr>\n",
       "      <th>29</th>\n",
       "      <td>Sikkim</td>\n",
       "      <td>298</td>\n",
       "    </tr>\n",
       "    <tr>\n",
       "      <th>24</th>\n",
       "      <td>Nagaland</td>\n",
       "      <td>352</td>\n",
       "    </tr>\n",
       "    <tr>\n",
       "      <th>5</th>\n",
       "      <td>Chandigarh</td>\n",
       "      <td>456</td>\n",
       "    </tr>\n",
       "    <tr>\n",
       "      <th>10</th>\n",
       "      <td>Goa</td>\n",
       "      <td>540</td>\n",
       "    </tr>\n",
       "    <tr>\n",
       "      <th>21</th>\n",
       "      <td>Manipur</td>\n",
       "      <td>546</td>\n",
       "    </tr>\n",
       "  </tbody>\n",
       "</table>\n",
       "</div>"
      ],
      "text/plain": [
       "                    Area_Name  Victims_of_Rape_Total\n",
       "18                Lakshadweep                     14\n",
       "8                 Daman & Diu                     28\n",
       "7        Dadra & Nagar Haveli                     98\n",
       "26                 Puducherry                    114\n",
       "0   Andaman & Nicobar Islands                    168\n",
       "29                     Sikkim                    298\n",
       "24                   Nagaland                    352\n",
       "5                  Chandigarh                    456\n",
       "10                        Goa                    540\n",
       "21                    Manipur                    546"
      ]
     },
     "execution_count": 14,
     "metadata": {},
     "output_type": "execute_result"
    }
   ],
   "source": [
    "bottom=s.sort_values(by='Victims_of_Rape_Total', ascending=True).head(10)      # Bottom 10 States in Rape cases\n",
    "bottom"
   ]
  },
  {
   "cell_type": "code",
   "execution_count": 15,
   "metadata": {},
   "outputs": [
    {
     "data": {
      "text/plain": [
       "<matplotlib.axes._subplots.AxesSubplot at 0x1e70ad6f490>"
      ]
     },
     "execution_count": 15,
     "metadata": {},
     "output_type": "execute_result"
    },
    {
     "data": {
      "image/png": "[encoded data removed]",
      "text/plain": [
       "<Figure size 432x288 with 1 Axes>"
      ]
     },
     "metadata": {
      "needs_background": "light"
     },
     "output_type": "display_data"
    }
   ],
   "source": [
    "s.plot('Area_Name','Victims_of_Rape_Total',kind='bar')            # Madhya Pradesh has highest rape cases i.e 58514\n",
    "                                                                  # Lakshadweep has lowest rape cases i.e 14"
   ]
  },
  {
   "cell_type": "code",
   "execution_count": 16,
   "metadata": {},
   "outputs": [
    {
     "data": {
      "text/html": [
       "<div>\n",
       "<style scoped>\n",
       "    .dataframe tbody tr th:only-of-type {\n",
       "        vertical-align: middle;\n",
       "    }\n",
       "\n",
       "    .dataframe tbody tr th {\n",
       "        vertical-align: top;\n",
       "    }\n",
       "\n",
       "    .dataframe thead th {\n",
       "        text-align: right;\n",
       "    }\n",
       "</style>\n",
       "<table border=\"1\" class=\"dataframe\">\n",
       "  <thead>\n",
       "    <tr style=\"text-align: right;\">\n",
       "      <th></th>\n",
       "      <th>Year</th>\n",
       "      <th>Victims_of_Rape_Total</th>\n",
       "    </tr>\n",
       "  </thead>\n",
       "  <tbody>\n",
       "    <tr>\n",
       "      <th>0</th>\n",
       "      <td>2001</td>\n",
       "      <td>32156</td>\n",
       "    </tr>\n",
       "    <tr>\n",
       "      <th>1</th>\n",
       "      <td>2002</td>\n",
       "      <td>32756</td>\n",
       "    </tr>\n",
       "    <tr>\n",
       "      <th>2</th>\n",
       "      <td>2003</td>\n",
       "      <td>31712</td>\n",
       "    </tr>\n",
       "    <tr>\n",
       "      <th>3</th>\n",
       "      <td>2004</td>\n",
       "      <td>36478</td>\n",
       "    </tr>\n",
       "    <tr>\n",
       "      <th>4</th>\n",
       "      <td>2005</td>\n",
       "      <td>36752</td>\n",
       "    </tr>\n",
       "    <tr>\n",
       "      <th>5</th>\n",
       "      <td>2006</td>\n",
       "      <td>38730</td>\n",
       "    </tr>\n",
       "    <tr>\n",
       "      <th>6</th>\n",
       "      <td>2007</td>\n",
       "      <td>41542</td>\n",
       "    </tr>\n",
       "    <tr>\n",
       "      <th>7</th>\n",
       "      <td>2008</td>\n",
       "      <td>42970</td>\n",
       "    </tr>\n",
       "    <tr>\n",
       "      <th>8</th>\n",
       "      <td>2009</td>\n",
       "      <td>42826</td>\n",
       "    </tr>\n",
       "    <tr>\n",
       "      <th>9</th>\n",
       "      <td>2010</td>\n",
       "      <td>44386</td>\n",
       "    </tr>\n",
       "  </tbody>\n",
       "</table>\n",
       "</div>"
      ],
      "text/plain": [
       "   Year  Victims_of_Rape_Total\n",
       "0  2001                  32156\n",
       "1  2002                  32756\n",
       "2  2003                  31712\n",
       "3  2004                  36478\n",
       "4  2005                  36752\n",
       "5  2006                  38730\n",
       "6  2007                  41542\n",
       "7  2008                  42970\n",
       "8  2009                  42826\n",
       "9  2010                  44386"
      ]
     },
     "execution_count": 16,
     "metadata": {},
     "output_type": "execute_result"
    }
   ],
   "source": [
    "y=df.groupby(['Year'])['Victims_of_Rape_Total'].sum().reset_index()\n",
    "y"
   ]
  },
  {
   "cell_type": "code",
   "execution_count": 17,
   "metadata": {},
   "outputs": [
    {
     "data": {
      "text/plain": [
       "[<matplotlib.lines.Line2D at 0x1e70aea59d0>]"
      ]
     },
     "execution_count": 17,
     "metadata": {},
     "output_type": "execute_result"
    },
    {
     "data": {
      "image/png": "[encoded data removed]",
      "text/plain": [
       "<Figure size 432x288 with 1 Axes>"
      ]
     },
     "metadata": {
      "needs_background": "light"
     },
     "output_type": "display_data"
    }
   ],
   "source": [
    "plt.plot(y.Year,y.Victims_of_Rape_Total)                           # Increase in rape cases from 2001 to 2010"
   ]
  },
  {
   "cell_type": "code",
   "execution_count": 18,
   "metadata": {},
   "outputs": [],
   "source": [
    "a=df.groupby(['Area_Name'])['Victims_Above_50_Yrs', 'Victims_Between_10-14_Yrs',\n",
    "       'Victims_Between_14-18_Yrs', 'Victims_Between_18-30_Yrs',\n",
    "       'Victims_Between_30-50_Yrs', 'Victims_Upto_10_Yrs','Victims_of_Rape_Total'].sum().reset_index()"
   ]
  },
  {
   "cell_type": "code",
   "execution_count": 19,
   "metadata": {},
   "outputs": [
    {
     "data": {
      "text/html": [
       "<div>\n",
       "<style scoped>\n",
       "    .dataframe tbody tr th:only-of-type {\n",
       "        vertical-align: middle;\n",
       "    }\n",
       "\n",
       "    .dataframe tbody tr th {\n",
       "        vertical-align: top;\n",
       "    }\n",
       "\n",
       "    .dataframe thead th {\n",
       "        text-align: right;\n",
       "    }\n",
       "</style>\n",
       "<table border=\"1\" class=\"dataframe\">\n",
       "  <thead>\n",
       "    <tr style=\"text-align: right;\">\n",
       "      <th></th>\n",
       "      <th>Area_Name</th>\n",
       "      <th>Victims_Above_50_Yrs</th>\n",
       "      <th>Victims_Between_10-14_Yrs</th>\n",
       "      <th>Victims_Between_14-18_Yrs</th>\n",
       "      <th>Victims_Between_18-30_Yrs</th>\n",
       "      <th>Victims_Between_30-50_Yrs</th>\n",
       "      <th>Victims_Upto_10_Yrs</th>\n",
       "      <th>Victims_of_Rape_Total</th>\n",
       "    </tr>\n",
       "  </thead>\n",
       "  <tbody>\n",
       "    <tr>\n",
       "      <th>0</th>\n",
       "      <td>Andaman &amp; Nicobar Islands</td>\n",
       "      <td>0</td>\n",
       "      <td>16</td>\n",
       "      <td>88</td>\n",
       "      <td>42</td>\n",
       "      <td>8</td>\n",
       "      <td>14</td>\n",
       "      <td>168</td>\n",
       "    </tr>\n",
       "    <tr>\n",
       "      <th>1</th>\n",
       "      <td>Andhra Pradesh</td>\n",
       "      <td>198</td>\n",
       "      <td>2510</td>\n",
       "      <td>4022</td>\n",
       "      <td>11262</td>\n",
       "      <td>2540</td>\n",
       "      <td>860</td>\n",
       "      <td>21392</td>\n",
       "    </tr>\n",
       "    <tr>\n",
       "      <th>2</th>\n",
       "      <td>Arunachal Pradesh</td>\n",
       "      <td>0</td>\n",
       "      <td>96</td>\n",
       "      <td>20</td>\n",
       "      <td>632</td>\n",
       "      <td>38</td>\n",
       "      <td>38</td>\n",
       "      <td>824</td>\n",
       "    </tr>\n",
       "    <tr>\n",
       "      <th>3</th>\n",
       "      <td>Assam</td>\n",
       "      <td>190</td>\n",
       "      <td>306</td>\n",
       "      <td>818</td>\n",
       "      <td>17014</td>\n",
       "      <td>7104</td>\n",
       "      <td>92</td>\n",
       "      <td>25524</td>\n",
       "    </tr>\n",
       "    <tr>\n",
       "      <th>4</th>\n",
       "      <td>Bihar</td>\n",
       "      <td>78</td>\n",
       "      <td>204</td>\n",
       "      <td>1000</td>\n",
       "      <td>16988</td>\n",
       "      <td>4194</td>\n",
       "      <td>62</td>\n",
       "      <td>22526</td>\n",
       "    </tr>\n",
       "  </tbody>\n",
       "</table>\n",
       "</div>"
      ],
      "text/plain": [
       "                   Area_Name  Victims_Above_50_Yrs  Victims_Between_10-14_Yrs  \\\n",
       "0  Andaman & Nicobar Islands                     0                         16   \n",
       "1             Andhra Pradesh                   198                       2510   \n",
       "2          Arunachal Pradesh                     0                         96   \n",
       "3                      Assam                   190                        306   \n",
       "4                      Bihar                    78                        204   \n",
       "\n",
       "   Victims_Between_14-18_Yrs  Victims_Between_18-30_Yrs  \\\n",
       "0                         88                         42   \n",
       "1                       4022                      11262   \n",
       "2                         20                        632   \n",
       "3                        818                      17014   \n",
       "4                       1000                      16988   \n",
       "\n",
       "   Victims_Between_30-50_Yrs  Victims_Upto_10_Yrs  Victims_of_Rape_Total  \n",
       "0                          8                   14                    168  \n",
       "1                       2540                  860                  21392  \n",
       "2                         38                   38                    824  \n",
       "3                       7104                   92                  25524  \n",
       "4                       4194                   62                  22526  "
      ]
     },
     "execution_count": 19,
     "metadata": {},
     "output_type": "execute_result"
    }
   ],
   "source": [
    "a.head()"
   ]
  },
  {
   "cell_type": "code",
   "execution_count": 20,
   "metadata": {},
   "outputs": [
    {
     "data": {
      "text/plain": [
       "<matplotlib.axes._subplots.AxesSubplot at 0x1e70aeda640>"
      ]
     },
     "execution_count": 20,
     "metadata": {},
     "output_type": "execute_result"
    },
    {
     "data": {
      "image/png": "[encoded data removed]",
      "text/plain": [
       "<Figure size 432x288 with 1 Axes>"
      ]
     },
     "metadata": {
      "needs_background": "light"
     },
     "output_type": "display_data"
    }
   ],
   "source": [
    "a.plot(kind='bar')"
   ]
  },
  {
   "cell_type": "code",
   "execution_count": 21,
   "metadata": {},
   "outputs": [
    {
     "data": {
      "text/html": [
       "<div>\n",
       "<style scoped>\n",
       "    .dataframe tbody tr th:only-of-type {\n",
       "        vertical-align: middle;\n",
       "    }\n",
       "\n",
       "    .dataframe tbody tr th {\n",
       "        vertical-align: top;\n",
       "    }\n",
       "\n",
       "    .dataframe thead th {\n",
       "        text-align: right;\n",
       "    }\n",
       "</style>\n",
       "<table border=\"1\" class=\"dataframe\">\n",
       "  <thead>\n",
       "    <tr style=\"text-align: right;\">\n",
       "      <th></th>\n",
       "      <th>Area_Name</th>\n",
       "      <th>Victims_Above_50_Yrs</th>\n",
       "      <th>Victims_Between_10-14_Yrs</th>\n",
       "      <th>Victims_Between_14-18_Yrs</th>\n",
       "      <th>Victims_Between_18-30_Yrs</th>\n",
       "      <th>Victims_Between_30-50_Yrs</th>\n",
       "      <th>Victims_Upto_10_Yrs</th>\n",
       "      <th>Victims_of_Rape_Total</th>\n",
       "    </tr>\n",
       "  </thead>\n",
       "  <tbody>\n",
       "    <tr>\n",
       "      <th>19</th>\n",
       "      <td>Madhya Pradesh</td>\n",
       "      <td>362</td>\n",
       "      <td>4998</td>\n",
       "      <td>11108</td>\n",
       "      <td>29064</td>\n",
       "      <td>11566</td>\n",
       "      <td>1416</td>\n",
       "      <td>58514</td>\n",
       "    </tr>\n",
       "    <tr>\n",
       "      <th>34</th>\n",
       "      <td>West Bengal</td>\n",
       "      <td>20</td>\n",
       "      <td>312</td>\n",
       "      <td>546</td>\n",
       "      <td>25172</td>\n",
       "      <td>6580</td>\n",
       "      <td>126</td>\n",
       "      <td>32756</td>\n",
       "    </tr>\n",
       "    <tr>\n",
       "      <th>32</th>\n",
       "      <td>Uttar Pradesh</td>\n",
       "      <td>24</td>\n",
       "      <td>2848</td>\n",
       "      <td>6184</td>\n",
       "      <td>16152</td>\n",
       "      <td>4172</td>\n",
       "      <td>726</td>\n",
       "      <td>30106</td>\n",
       "    </tr>\n",
       "    <tr>\n",
       "      <th>20</th>\n",
       "      <td>Maharashtra</td>\n",
       "      <td>126</td>\n",
       "      <td>2610</td>\n",
       "      <td>8304</td>\n",
       "      <td>13120</td>\n",
       "      <td>2970</td>\n",
       "      <td>1880</td>\n",
       "      <td>29010</td>\n",
       "    </tr>\n",
       "    <tr>\n",
       "      <th>3</th>\n",
       "      <td>Assam</td>\n",
       "      <td>190</td>\n",
       "      <td>306</td>\n",
       "      <td>818</td>\n",
       "      <td>17014</td>\n",
       "      <td>7104</td>\n",
       "      <td>92</td>\n",
       "      <td>25524</td>\n",
       "    </tr>\n",
       "    <tr>\n",
       "      <th>28</th>\n",
       "      <td>Rajasthan</td>\n",
       "      <td>210</td>\n",
       "      <td>1100</td>\n",
       "      <td>3750</td>\n",
       "      <td>13732</td>\n",
       "      <td>4660</td>\n",
       "      <td>456</td>\n",
       "      <td>23908</td>\n",
       "    </tr>\n",
       "    <tr>\n",
       "      <th>4</th>\n",
       "      <td>Bihar</td>\n",
       "      <td>78</td>\n",
       "      <td>204</td>\n",
       "      <td>1000</td>\n",
       "      <td>16988</td>\n",
       "      <td>4194</td>\n",
       "      <td>62</td>\n",
       "      <td>22526</td>\n",
       "    </tr>\n",
       "    <tr>\n",
       "      <th>1</th>\n",
       "      <td>Andhra Pradesh</td>\n",
       "      <td>198</td>\n",
       "      <td>2510</td>\n",
       "      <td>4022</td>\n",
       "      <td>11262</td>\n",
       "      <td>2540</td>\n",
       "      <td>860</td>\n",
       "      <td>21392</td>\n",
       "    </tr>\n",
       "    <tr>\n",
       "      <th>6</th>\n",
       "      <td>Chhattisgarh</td>\n",
       "      <td>226</td>\n",
       "      <td>2414</td>\n",
       "      <td>3986</td>\n",
       "      <td>8678</td>\n",
       "      <td>3608</td>\n",
       "      <td>590</td>\n",
       "      <td>19502</td>\n",
       "    </tr>\n",
       "    <tr>\n",
       "      <th>25</th>\n",
       "      <td>Odisha</td>\n",
       "      <td>60</td>\n",
       "      <td>396</td>\n",
       "      <td>1070</td>\n",
       "      <td>12844</td>\n",
       "      <td>3074</td>\n",
       "      <td>276</td>\n",
       "      <td>17720</td>\n",
       "    </tr>\n",
       "  </tbody>\n",
       "</table>\n",
       "</div>"
      ],
      "text/plain": [
       "         Area_Name  Victims_Above_50_Yrs  Victims_Between_10-14_Yrs  \\\n",
       "19  Madhya Pradesh                   362                       4998   \n",
       "34     West Bengal                    20                        312   \n",
       "32   Uttar Pradesh                    24                       2848   \n",
       "20     Maharashtra                   126                       2610   \n",
       "3            Assam                   190                        306   \n",
       "28       Rajasthan                   210                       1100   \n",
       "4            Bihar                    78                        204   \n",
       "1   Andhra Pradesh                   198                       2510   \n",
       "6     Chhattisgarh                   226                       2414   \n",
       "25          Odisha                    60                        396   \n",
       "\n",
       "    Victims_Between_14-18_Yrs  Victims_Between_18-30_Yrs  \\\n",
       "19                      11108                      29064   \n",
       "34                        546                      25172   \n",
       "32                       6184                      16152   \n",
       "20                       8304                      13120   \n",
       "3                         818                      17014   \n",
       "28                       3750                      13732   \n",
       "4                        1000                      16988   \n",
       "1                        4022                      11262   \n",
       "6                        3986                       8678   \n",
       "25                       1070                      12844   \n",
       "\n",
       "    Victims_Between_30-50_Yrs  Victims_Upto_10_Yrs  Victims_of_Rape_Total  \n",
       "19                      11566                 1416                  58514  \n",
       "34                       6580                  126                  32756  \n",
       "32                       4172                  726                  30106  \n",
       "20                       2970                 1880                  29010  \n",
       "3                        7104                   92                  25524  \n",
       "28                       4660                  456                  23908  \n",
       "4                        4194                   62                  22526  \n",
       "1                        2540                  860                  21392  \n",
       "6                        3608                  590                  19502  \n",
       "25                       3074                  276                  17720  "
      ]
     },
     "execution_count": 21,
     "metadata": {},
     "output_type": "execute_result"
    }
   ],
   "source": [
    "top=a.sort_values(by='Victims_of_Rape_Total', ascending=False).head(10)  \n",
    "top"
   ]
  },
  {
   "cell_type": "code",
   "execution_count": 22,
   "metadata": {},
   "outputs": [
    {
     "data": {
      "text/plain": [
       "<matplotlib.axes._subplots.AxesSubplot at 0x1e70b21b970>"
      ]
     },
     "execution_count": 22,
     "metadata": {},
     "output_type": "execute_result"
    },
    {
     "data": {
      "image/png": "[encoded data removed]",
      "text/plain": [
       "<Figure size 432x288 with 1 Axes>"
      ]
     },
     "metadata": {
      "needs_background": "light"
     },
     "output_type": "display_data"
    }
   ],
   "source": [
    "top.plot(kind='bar')"
   ]
  },
  {
   "cell_type": "code",
   "execution_count": 23,
   "metadata": {},
   "outputs": [],
   "source": [
    "mp=top.head(1)"
   ]
  },
  {
   "cell_type": "code",
   "execution_count": 24,
   "metadata": {},
   "outputs": [
    {
     "data": {
      "text/plain": [
       "<matplotlib.axes._subplots.AxesSubplot at 0x1e70b0f4fd0>"
      ]
     },
     "execution_count": 24,
     "metadata": {},
     "output_type": "execute_result"
    },
    {
     "data": {
      "image/png": "[encoded data removed]",
      "text/plain": [
       "<Figure size 432x288 with 1 Axes>"
      ]
     },
     "metadata": {
      "needs_background": "light"
     },
     "output_type": "display_data"
    }
   ],
   "source": [
    "mp.plot(kind='bar')"
   ]
  },
  {
   "cell_type": "code",
   "execution_count": 25,
   "metadata": {},
   "outputs": [
    {
     "data": {
      "text/plain": [
       "<matplotlib.axes._subplots.AxesSubplot at 0x1e70b1e4820>"
      ]
     },
     "execution_count": 25,
     "metadata": {},
     "output_type": "execute_result"
    },
    {
     "data": {
      "image/png": "[encoded data removed]",
      "text/plain": [
       "<Figure size 432x288 with 1 Axes>"
      ]
     },
     "metadata": {
      "needs_background": "light"
     },
     "output_type": "display_data"
    }
   ],
   "source": [
    "a.plot(x='Area_Name',y=['Victims_Above_50_Yrs', 'Victims_Between_10-14_Yrs',\n",
    "       'Victims_Between_14-18_Yrs', 'Victims_Between_18-30_Yrs',\n",
    "           'Victims_Between_30-50_Yrs', 'Victims_Upto_10_Yrs'],kind='bar')"
   ]
  },
  {
   "cell_type": "code",
   "execution_count": 26,
   "metadata": {},
   "outputs": [
    {
     "data": {
      "text/html": [
       "<div>\n",
       "<style scoped>\n",
       "    .dataframe tbody tr th:only-of-type {\n",
       "        vertical-align: middle;\n",
       "    }\n",
       "\n",
       "    .dataframe tbody tr th {\n",
       "        vertical-align: top;\n",
       "    }\n",
       "\n",
       "    .dataframe thead th {\n",
       "        text-align: right;\n",
       "    }\n",
       "</style>\n",
       "<table border=\"1\" class=\"dataframe\">\n",
       "  <thead>\n",
       "    <tr style=\"text-align: right;\">\n",
       "      <th></th>\n",
       "      <th>Victims_Above_50_Yrs</th>\n",
       "      <th>Victims_Between_10-14_Yrs</th>\n",
       "      <th>Victims_Between_14-18_Yrs</th>\n",
       "      <th>Victims_Between_18-30_Yrs</th>\n",
       "      <th>Victims_Between_30-50_Yrs</th>\n",
       "      <th>Victims_Upto_10_Yrs</th>\n",
       "      <th>Victims_of_Rape_Total</th>\n",
       "    </tr>\n",
       "  </thead>\n",
       "  <tbody>\n",
       "    <tr>\n",
       "      <th>Victims_Above_50_Yrs</th>\n",
       "      <td>1.000000</td>\n",
       "      <td>0.772461</td>\n",
       "      <td>0.760040</td>\n",
       "      <td>0.687836</td>\n",
       "      <td>0.790971</td>\n",
       "      <td>0.616276</td>\n",
       "      <td>0.789108</td>\n",
       "    </tr>\n",
       "    <tr>\n",
       "      <th>Victims_Between_10-14_Yrs</th>\n",
       "      <td>0.772461</td>\n",
       "      <td>1.000000</td>\n",
       "      <td>0.964617</td>\n",
       "      <td>0.640798</td>\n",
       "      <td>0.669028</td>\n",
       "      <td>0.872598</td>\n",
       "      <td>0.803052</td>\n",
       "    </tr>\n",
       "    <tr>\n",
       "      <th>Victims_Between_14-18_Yrs</th>\n",
       "      <td>0.760040</td>\n",
       "      <td>0.964617</td>\n",
       "      <td>1.000000</td>\n",
       "      <td>0.672199</td>\n",
       "      <td>0.687673</td>\n",
       "      <td>0.908131</td>\n",
       "      <td>0.829711</td>\n",
       "    </tr>\n",
       "    <tr>\n",
       "      <th>Victims_Between_18-30_Yrs</th>\n",
       "      <td>0.687836</td>\n",
       "      <td>0.640798</td>\n",
       "      <td>0.672199</td>\n",
       "      <td>1.000000</td>\n",
       "      <td>0.955570</td>\n",
       "      <td>0.507193</td>\n",
       "      <td>0.968504</td>\n",
       "    </tr>\n",
       "    <tr>\n",
       "      <th>Victims_Between_30-50_Yrs</th>\n",
       "      <td>0.790971</td>\n",
       "      <td>0.669028</td>\n",
       "      <td>0.687673</td>\n",
       "      <td>0.955570</td>\n",
       "      <td>1.000000</td>\n",
       "      <td>0.469294</td>\n",
       "      <td>0.956257</td>\n",
       "    </tr>\n",
       "    <tr>\n",
       "      <th>Victims_Upto_10_Yrs</th>\n",
       "      <td>0.616276</td>\n",
       "      <td>0.872598</td>\n",
       "      <td>0.908131</td>\n",
       "      <td>0.507193</td>\n",
       "      <td>0.469294</td>\n",
       "      <td>1.000000</td>\n",
       "      <td>0.668325</td>\n",
       "    </tr>\n",
       "    <tr>\n",
       "      <th>Victims_of_Rape_Total</th>\n",
       "      <td>0.789108</td>\n",
       "      <td>0.803052</td>\n",
       "      <td>0.829711</td>\n",
       "      <td>0.968504</td>\n",
       "      <td>0.956257</td>\n",
       "      <td>0.668325</td>\n",
       "      <td>1.000000</td>\n",
       "    </tr>\n",
       "  </tbody>\n",
       "</table>\n",
       "</div>"
      ],
      "text/plain": [
       "                           Victims_Above_50_Yrs  Victims_Between_10-14_Yrs  \\\n",
       "Victims_Above_50_Yrs                   1.000000                   0.772461   \n",
       "Victims_Between_10-14_Yrs              0.772461                   1.000000   \n",
       "Victims_Between_14-18_Yrs              0.760040                   0.964617   \n",
       "Victims_Between_18-30_Yrs              0.687836                   0.640798   \n",
       "Victims_Between_30-50_Yrs              0.790971                   0.669028   \n",
       "Victims_Upto_10_Yrs                    0.616276                   0.872598   \n",
       "Victims_of_Rape_Total                  0.789108                   0.803052   \n",
       "\n",
       "                           Victims_Between_14-18_Yrs  \\\n",
       "Victims_Above_50_Yrs                        0.760040   \n",
       "Victims_Between_10-14_Yrs                   0.964617   \n",
       "Victims_Between_14-18_Yrs                   1.000000   \n",
       "Victims_Between_18-30_Yrs                   0.672199   \n",
       "Victims_Between_30-50_Yrs                   0.687673   \n",
       "Victims_Upto_10_Yrs                         0.908131   \n",
       "Victims_of_Rape_Total                       0.829711   \n",
       "\n",
       "                           Victims_Between_18-30_Yrs  \\\n",
       "Victims_Above_50_Yrs                        0.687836   \n",
       "Victims_Between_10-14_Yrs                   0.640798   \n",
       "Victims_Between_14-18_Yrs                   0.672199   \n",
       "Victims_Between_18-30_Yrs                   1.000000   \n",
       "Victims_Between_30-50_Yrs                   0.955570   \n",
       "Victims_Upto_10_Yrs                         0.507193   \n",
       "Victims_of_Rape_Total                       0.968504   \n",
       "\n",
       "                           Victims_Between_30-50_Yrs  Victims_Upto_10_Yrs  \\\n",
       "Victims_Above_50_Yrs                        0.790971             0.616276   \n",
       "Victims_Between_10-14_Yrs                   0.669028             0.872598   \n",
       "Victims_Between_14-18_Yrs                   0.687673             0.908131   \n",
       "Victims_Between_18-30_Yrs                   0.955570             0.507193   \n",
       "Victims_Between_30-50_Yrs                   1.000000             0.469294   \n",
       "Victims_Upto_10_Yrs                         0.469294             1.000000   \n",
       "Victims_of_Rape_Total                       0.956257             0.668325   \n",
       "\n",
       "                           Victims_of_Rape_Total  \n",
       "Victims_Above_50_Yrs                    0.789108  \n",
       "Victims_Between_10-14_Yrs               0.803052  \n",
       "Victims_Between_14-18_Yrs               0.829711  \n",
       "Victims_Between_18-30_Yrs               0.968504  \n",
       "Victims_Between_30-50_Yrs               0.956257  \n",
       "Victims_Upto_10_Yrs                     0.668325  \n",
       "Victims_of_Rape_Total                   1.000000  "
      ]
     },
     "execution_count": 26,
     "metadata": {},
     "output_type": "execute_result"
    }
   ],
   "source": [
    "a.corr()"
   ]
  },
  {
   "cell_type": "code",
   "execution_count": 27,
   "metadata": {},
   "outputs": [
    {
     "data": {
      "text/plain": [
       "<matplotlib.axes._subplots.AxesSubplot at 0x1e70b678610>"
      ]
     },
     "execution_count": 27,
     "metadata": {},
     "output_type": "execute_result"
    },
    {
     "data": {
      "image/png": "[encoded data removed]",
      "text/plain": [
       "<Figure size 432x288 with 2 Axes>"
      ]
     },
     "metadata": {
      "needs_background": "light"
     },
     "output_type": "display_data"
    }
   ],
   "source": [
    "sns.heatmap(a.corr(),annot=True)"
   ]
  },
  {
   "cell_type": "code",
   "execution_count": 28,
   "metadata": {},
   "outputs": [],
   "source": [
    "y=df.groupby(['Year'])['Victims_Above_50_Yrs', 'Victims_Between_10-14_Yrs',\n",
    "       'Victims_Between_14-18_Yrs', 'Victims_Between_18-30_Yrs',\n",
    "       'Victims_Between_30-50_Yrs', 'Victims_Upto_10_Yrs','Victims_of_Rape_Total'].sum().reset_index()"
   ]
  },
  {
   "cell_type": "code",
   "execution_count": 29,
   "metadata": {},
   "outputs": [
    {
     "data": {
      "text/html": [
       "<div>\n",
       "<style scoped>\n",
       "    .dataframe tbody tr th:only-of-type {\n",
       "        vertical-align: middle;\n",
       "    }\n",
       "\n",
       "    .dataframe tbody tr th {\n",
       "        vertical-align: top;\n",
       "    }\n",
       "\n",
       "    .dataframe thead th {\n",
       "        text-align: right;\n",
       "    }\n",
       "</style>\n",
       "<table border=\"1\" class=\"dataframe\">\n",
       "  <thead>\n",
       "    <tr style=\"text-align: right;\">\n",
       "      <th></th>\n",
       "      <th>Year</th>\n",
       "      <th>Victims_Above_50_Yrs</th>\n",
       "      <th>Victims_Between_10-14_Yrs</th>\n",
       "      <th>Victims_Between_14-18_Yrs</th>\n",
       "      <th>Victims_Between_18-30_Yrs</th>\n",
       "      <th>Victims_Between_30-50_Yrs</th>\n",
       "      <th>Victims_Upto_10_Yrs</th>\n",
       "      <th>Victims_of_Rape_Total</th>\n",
       "    </tr>\n",
       "  </thead>\n",
       "  <tbody>\n",
       "    <tr>\n",
       "      <th>0</th>\n",
       "      <td>2001</td>\n",
       "      <td>136</td>\n",
       "      <td>2880</td>\n",
       "      <td>7822</td>\n",
       "      <td>15762</td>\n",
       "      <td>4496</td>\n",
       "      <td>1060</td>\n",
       "      <td>32156</td>\n",
       "    </tr>\n",
       "    <tr>\n",
       "      <th>1</th>\n",
       "      <td>2002</td>\n",
       "      <td>132</td>\n",
       "      <td>1708</td>\n",
       "      <td>2650</td>\n",
       "      <td>21460</td>\n",
       "      <td>5984</td>\n",
       "      <td>822</td>\n",
       "      <td>32756</td>\n",
       "    </tr>\n",
       "    <tr>\n",
       "      <th>2</th>\n",
       "      <td>2003</td>\n",
       "      <td>120</td>\n",
       "      <td>1862</td>\n",
       "      <td>3584</td>\n",
       "      <td>19746</td>\n",
       "      <td>5622</td>\n",
       "      <td>778</td>\n",
       "      <td>31712</td>\n",
       "    </tr>\n",
       "    <tr>\n",
       "      <th>3</th>\n",
       "      <td>2004</td>\n",
       "      <td>162</td>\n",
       "      <td>2180</td>\n",
       "      <td>4008</td>\n",
       "      <td>22686</td>\n",
       "      <td>6378</td>\n",
       "      <td>1064</td>\n",
       "      <td>36478</td>\n",
       "    </tr>\n",
       "    <tr>\n",
       "      <th>4</th>\n",
       "      <td>2005</td>\n",
       "      <td>222</td>\n",
       "      <td>2348</td>\n",
       "      <td>4688</td>\n",
       "      <td>21618</td>\n",
       "      <td>6762</td>\n",
       "      <td>1114</td>\n",
       "      <td>36752</td>\n",
       "    </tr>\n",
       "  </tbody>\n",
       "</table>\n",
       "</div>"
      ],
      "text/plain": [
       "   Year  Victims_Above_50_Yrs  Victims_Between_10-14_Yrs  \\\n",
       "0  2001                   136                       2880   \n",
       "1  2002                   132                       1708   \n",
       "2  2003                   120                       1862   \n",
       "3  2004                   162                       2180   \n",
       "4  2005                   222                       2348   \n",
       "\n",
       "   Victims_Between_14-18_Yrs  Victims_Between_18-30_Yrs  \\\n",
       "0                       7822                      15762   \n",
       "1                       2650                      21460   \n",
       "2                       3584                      19746   \n",
       "3                       4008                      22686   \n",
       "4                       4688                      21618   \n",
       "\n",
       "   Victims_Between_30-50_Yrs  Victims_Upto_10_Yrs  Victims_of_Rape_Total  \n",
       "0                       4496                 1060                  32156  \n",
       "1                       5984                  822                  32756  \n",
       "2                       5622                  778                  31712  \n",
       "3                       6378                 1064                  36478  \n",
       "4                       6762                 1114                  36752  "
      ]
     },
     "execution_count": 29,
     "metadata": {},
     "output_type": "execute_result"
    }
   ],
   "source": [
    "y.head()"
   ]
  },
  {
   "cell_type": "code",
   "execution_count": 30,
   "metadata": {},
   "outputs": [
    {
     "data": {
      "text/plain": [
       "<matplotlib.axes._subplots.AxesSubplot at 0x1e70b7a2940>"
      ]
     },
     "execution_count": 30,
     "metadata": {},
     "output_type": "execute_result"
    },
    {
     "data": {
      "image/png": "[encoded data removed]",
      "text/plain": [
       "<Figure size 432x288 with 1 Axes>"
      ]
     },
     "metadata": {
      "needs_background": "light"
     },
     "output_type": "display_data"
    }
   ],
   "source": [
    "y.plot()                                         # Age 18-30 yrs is most vulnerable to Rape crime"
   ]
  },
  {
   "cell_type": "code",
   "execution_count": 31,
   "metadata": {},
   "outputs": [
    {
     "data": {
      "text/plain": [
       "<matplotlib.axes._subplots.AxesSubplot at 0x1e70b78bcd0>"
      ]
     },
     "execution_count": 31,
     "metadata": {},
     "output_type": "execute_result"
    },
    {
     "data": {
      "image/png": "[encoded data removed]",
      "text/plain": [
       "<Figure size 432x288 with 1 Axes>"
      ]
     },
     "metadata": {
      "needs_background": "light"
     },
     "output_type": "display_data"
    }
   ],
   "source": [
    "y.plot(x='Year',y=['Victims_Above_50_Yrs','Victims_Between_10-14_Yrs',\n",
    "       'Victims_Between_14-18_Yrs', 'Victims_Between_18-30_Yrs',\n",
    "       'Victims_Between_30-50_Yrs', 'Victims_Upto_10_Yrs','Victims_of_Rape_Total'],kind='bar')"
   ]
  },
  {
   "cell_type": "code",
   "execution_count": 32,
   "metadata": {},
   "outputs": [
    {
     "data": {
      "text/html": [
       "<div>\n",
       "<style scoped>\n",
       "    .dataframe tbody tr th:only-of-type {\n",
       "        vertical-align: middle;\n",
       "    }\n",
       "\n",
       "    .dataframe tbody tr th {\n",
       "        vertical-align: top;\n",
       "    }\n",
       "\n",
       "    .dataframe thead th {\n",
       "        text-align: right;\n",
       "    }\n",
       "</style>\n",
       "<table border=\"1\" class=\"dataframe\">\n",
       "  <thead>\n",
       "    <tr style=\"text-align: right;\">\n",
       "      <th></th>\n",
       "      <th>Year</th>\n",
       "      <th>Victims_Above_50_Yrs</th>\n",
       "      <th>Victims_Between_10-14_Yrs</th>\n",
       "      <th>Victims_Between_14-18_Yrs</th>\n",
       "      <th>Victims_Between_18-30_Yrs</th>\n",
       "      <th>Victims_Between_30-50_Yrs</th>\n",
       "      <th>Victims_Upto_10_Yrs</th>\n",
       "      <th>Victims_of_Rape_Total</th>\n",
       "    </tr>\n",
       "  </thead>\n",
       "  <tbody>\n",
       "    <tr>\n",
       "      <th>9</th>\n",
       "      <td>2010</td>\n",
       "      <td>272</td>\n",
       "      <td>2808</td>\n",
       "      <td>7140</td>\n",
       "      <td>25498</td>\n",
       "      <td>7526</td>\n",
       "      <td>1142</td>\n",
       "      <td>44386</td>\n",
       "    </tr>\n",
       "    <tr>\n",
       "      <th>7</th>\n",
       "      <td>2008</td>\n",
       "      <td>272</td>\n",
       "      <td>2662</td>\n",
       "      <td>6992</td>\n",
       "      <td>24598</td>\n",
       "      <td>7168</td>\n",
       "      <td>1278</td>\n",
       "      <td>42970</td>\n",
       "    </tr>\n",
       "    <tr>\n",
       "      <th>8</th>\n",
       "      <td>2009</td>\n",
       "      <td>190</td>\n",
       "      <td>3520</td>\n",
       "      <td>5824</td>\n",
       "      <td>25624</td>\n",
       "      <td>6248</td>\n",
       "      <td>1420</td>\n",
       "      <td>42826</td>\n",
       "    </tr>\n",
       "    <tr>\n",
       "      <th>6</th>\n",
       "      <td>2007</td>\n",
       "      <td>266</td>\n",
       "      <td>2710</td>\n",
       "      <td>6304</td>\n",
       "      <td>23968</td>\n",
       "      <td>7060</td>\n",
       "      <td>1234</td>\n",
       "      <td>41542</td>\n",
       "    </tr>\n",
       "    <tr>\n",
       "      <th>5</th>\n",
       "      <td>2006</td>\n",
       "      <td>188</td>\n",
       "      <td>2162</td>\n",
       "      <td>6728</td>\n",
       "      <td>22624</td>\n",
       "      <td>6004</td>\n",
       "      <td>1024</td>\n",
       "      <td>38730</td>\n",
       "    </tr>\n",
       "    <tr>\n",
       "      <th>4</th>\n",
       "      <td>2005</td>\n",
       "      <td>222</td>\n",
       "      <td>2348</td>\n",
       "      <td>4688</td>\n",
       "      <td>21618</td>\n",
       "      <td>6762</td>\n",
       "      <td>1114</td>\n",
       "      <td>36752</td>\n",
       "    </tr>\n",
       "    <tr>\n",
       "      <th>3</th>\n",
       "      <td>2004</td>\n",
       "      <td>162</td>\n",
       "      <td>2180</td>\n",
       "      <td>4008</td>\n",
       "      <td>22686</td>\n",
       "      <td>6378</td>\n",
       "      <td>1064</td>\n",
       "      <td>36478</td>\n",
       "    </tr>\n",
       "    <tr>\n",
       "      <th>1</th>\n",
       "      <td>2002</td>\n",
       "      <td>132</td>\n",
       "      <td>1708</td>\n",
       "      <td>2650</td>\n",
       "      <td>21460</td>\n",
       "      <td>5984</td>\n",
       "      <td>822</td>\n",
       "      <td>32756</td>\n",
       "    </tr>\n",
       "    <tr>\n",
       "      <th>0</th>\n",
       "      <td>2001</td>\n",
       "      <td>136</td>\n",
       "      <td>2880</td>\n",
       "      <td>7822</td>\n",
       "      <td>15762</td>\n",
       "      <td>4496</td>\n",
       "      <td>1060</td>\n",
       "      <td>32156</td>\n",
       "    </tr>\n",
       "    <tr>\n",
       "      <th>2</th>\n",
       "      <td>2003</td>\n",
       "      <td>120</td>\n",
       "      <td>1862</td>\n",
       "      <td>3584</td>\n",
       "      <td>19746</td>\n",
       "      <td>5622</td>\n",
       "      <td>778</td>\n",
       "      <td>31712</td>\n",
       "    </tr>\n",
       "  </tbody>\n",
       "</table>\n",
       "</div>"
      ],
      "text/plain": [
       "   Year  Victims_Above_50_Yrs  Victims_Between_10-14_Yrs  \\\n",
       "9  2010                   272                       2808   \n",
       "7  2008                   272                       2662   \n",
       "8  2009                   190                       3520   \n",
       "6  2007                   266                       2710   \n",
       "5  2006                   188                       2162   \n",
       "4  2005                   222                       2348   \n",
       "3  2004                   162                       2180   \n",
       "1  2002                   132                       1708   \n",
       "0  2001                   136                       2880   \n",
       "2  2003                   120                       1862   \n",
       "\n",
       "   Victims_Between_14-18_Yrs  Victims_Between_18-30_Yrs  \\\n",
       "9                       7140                      25498   \n",
       "7                       6992                      24598   \n",
       "8                       5824                      25624   \n",
       "6                       6304                      23968   \n",
       "5                       6728                      22624   \n",
       "4                       4688                      21618   \n",
       "3                       4008                      22686   \n",
       "1                       2650                      21460   \n",
       "0                       7822                      15762   \n",
       "2                       3584                      19746   \n",
       "\n",
       "   Victims_Between_30-50_Yrs  Victims_Upto_10_Yrs  Victims_of_Rape_Total  \n",
       "9                       7526                 1142                  44386  \n",
       "7                       7168                 1278                  42970  \n",
       "8                       6248                 1420                  42826  \n",
       "6                       7060                 1234                  41542  \n",
       "5                       6004                 1024                  38730  \n",
       "4                       6762                 1114                  36752  \n",
       "3                       6378                 1064                  36478  \n",
       "1                       5984                  822                  32756  \n",
       "0                       4496                 1060                  32156  \n",
       "2                       5622                  778                  31712  "
      ]
     },
     "execution_count": 32,
     "metadata": {},
     "output_type": "execute_result"
    }
   ],
   "source": [
    "top=y.sort_values(by='Victims_of_Rape_Total', ascending=False)\n",
    "top"
   ]
  },
  {
   "cell_type": "code",
   "execution_count": 33,
   "metadata": {},
   "outputs": [
    {
     "data": {
      "text/plain": [
       "<matplotlib.axes._subplots.AxesSubplot at 0x1e70b7871c0>"
      ]
     },
     "execution_count": 33,
     "metadata": {},
     "output_type": "execute_result"
    },
    {
     "data": {
      "image/png": "[encoded data removed]",
      "text/plain": [
       "<Figure size 432x288 with 1 Axes>"
      ]
     },
     "metadata": {
      "needs_background": "light"
     },
     "output_type": "display_data"
    }
   ],
   "source": [
    "y.plot(x='Year',y=['Victims_Above_50_Yrs','Victims_Between_10-14_Yrs',\n",
    "       'Victims_Between_14-18_Yrs', 'Victims_Between_18-30_Yrs',\n",
    "       'Victims_Between_30-50_Yrs', 'Victims_Upto_10_Yrs','Victims_of_Rape_Total'],kind='bar')"
   ]
  },
  {
   "cell_type": "code",
   "execution_count": 34,
   "metadata": {},
   "outputs": [
    {
     "data": {
      "text/plain": [
       "<seaborn.axisgrid.FacetGrid at 0x1e70b1aca90>"
      ]
     },
     "execution_count": 34,
     "metadata": {},
     "output_type": "execute_result"
    },
    {
     "data": {
      "image/png": "[encoded data removed]",
      "text/plain": [
       "<Figure size 478.875x360 with 1 Axes>"
      ]
     },
     "metadata": {
      "needs_background": "light"
     },
     "output_type": "display_data"
    }
   ],
   "source": [
    "sns.catplot(x='Year',y='Victims_of_Rape_Total',hue='Victims_Above_50_Yrs',data=y,kind='bar')"
   ]
  },
  {
   "cell_type": "code",
   "execution_count": 35,
   "metadata": {},
   "outputs": [
    {
     "data": {
      "text/plain": [
       "<seaborn.axisgrid.FacetGrid at 0x1e70bcc6340>"
      ]
     },
     "execution_count": 35,
     "metadata": {},
     "output_type": "execute_result"
    },
    {
     "data": {
      "image/png": "[encoded data removed]",
      "text/plain": [
       "<Figure size 507.75x360 with 1 Axes>"
      ]
     },
     "metadata": {
      "needs_background": "light"
     },
     "output_type": "display_data"
    }
   ],
   "source": [
    "sns.catplot(x='Year',y='Victims_of_Rape_Total',hue='Victims_Between_18-30_Yrs',data=y,kind='bar')"
   ]
  },
  {
   "cell_type": "markdown",
   "metadata": {},
   "source": [
    "Conclusion:From the above analysis of the Rape Crime dataset we get the following observations:\n",
    "           1) Madhya Pradesh state records the highest no of rape crimes in the country.\n",
    "           2) Lakshawdeep union teritory records the leat no of rape crimes in the country\n",
    "           3)The data shows rape crime committed in the country is increasing in the country with each year\n",
    "           4)The data shows rape crime is committed on each age group of women but age group 18-30 is more vulnerable as more                no of rape crime committed in this age group"
   ]
  },
  {
   "cell_type": "code",
   "execution_count": null,
   "metadata": {},
   "outputs": [],
   "source": []
  }
 ],
 "metadata": {
  "kernelspec": {
   "display_name": "Python 3",
   "language": "python",
   "name": "python3"
  },
  "language_info": {
   "codemirror_mode": {
    "name": "ipython",
    "version": 3
   },
   "file_extension": ".py",
   "mimetype": "text/x-python",
   "name": "python",
   "nbconvert_exporter": "python",
   "pygments_lexer": "ipython3",
   "version": "3.8.3"
  }
 },
 "nbformat": 4,
 "nbformat_minor": 4
}
